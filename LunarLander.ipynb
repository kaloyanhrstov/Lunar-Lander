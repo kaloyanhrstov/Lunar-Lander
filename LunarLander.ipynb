{
  "nbformat": 4,
  "nbformat_minor": 0,
  "metadata": {
    "colab": {
      "provenance": [],
      "gpuType": "T4"
    },
    "kernelspec": {
      "name": "python3",
      "display_name": "Python 3"
    },
    "language_info": {
      "name": "python"
    },
    "accelerator": "GPU"
  },
  "cells": [
    {
      "cell_type": "markdown",
      "source": [
        "### Packages"
      ],
      "metadata": {
        "id": "GxaM6TBtt2LM"
      }
    },
    {
      "cell_type": "code",
      "source": [
        "!pip install swig\n",
        "!pip install gymnasium[box2d]"
      ],
      "metadata": {
        "colab": {
          "base_uri": "https://localhost:8080/"
        },
        "id": "cgUsftJxVDqS",
        "outputId": "10b210b8-42e7-4dc0-8c98-acbe96c8994a"
      },
      "execution_count": null,
      "outputs": [
        {
          "output_type": "stream",
          "name": "stderr",
          "text": [
            "/usr/local/lib/python3.10/dist-packages/ipykernel/ipkernel.py:283: DeprecationWarning: `should_run_async` will not call `transform_cell` automatically in the future. Please pass the result to `transformed_cell` argument and any exception that happen during thetransform in `preprocessing_exc_tuple` in IPython 7.17 and above.\n",
            "  and should_run_async(code)\n"
          ]
        },
        {
          "output_type": "stream",
          "name": "stdout",
          "text": [
            "Requirement already satisfied: swig in /usr/local/lib/python3.10/dist-packages (4.2.0)\n",
            "Requirement already satisfied: gymnasium[box2d] in /usr/local/lib/python3.10/dist-packages (0.29.1)\n",
            "Requirement already satisfied: numpy>=1.21.0 in /usr/local/lib/python3.10/dist-packages (from gymnasium[box2d]) (1.23.5)\n",
            "Requirement already satisfied: cloudpickle>=1.2.0 in /usr/local/lib/python3.10/dist-packages (from gymnasium[box2d]) (2.2.1)\n",
            "Requirement already satisfied: typing-extensions>=4.3.0 in /usr/local/lib/python3.10/dist-packages (from gymnasium[box2d]) (4.5.0)\n",
            "Requirement already satisfied: farama-notifications>=0.0.1 in /usr/local/lib/python3.10/dist-packages (from gymnasium[box2d]) (0.0.4)\n",
            "Collecting box2d-py==2.3.5 (from gymnasium[box2d])\n",
            "  Using cached box2d-py-2.3.5.tar.gz (374 kB)\n",
            "  Preparing metadata (setup.py) ... \u001b[?25l\u001b[?25hdone\n",
            "Requirement already satisfied: pygame>=2.1.3 in /usr/local/lib/python3.10/dist-packages (from gymnasium[box2d]) (2.5.2)\n",
            "Requirement already satisfied: swig==4.* in /usr/local/lib/python3.10/dist-packages (from gymnasium[box2d]) (4.2.0)\n",
            "Building wheels for collected packages: box2d-py\n",
            "  Building wheel for box2d-py (setup.py) ... \u001b[?25l\u001b[?25hdone\n",
            "  Created wheel for box2d-py: filename=box2d_py-2.3.5-cp310-cp310-linux_x86_64.whl size=2376171 sha256=ac228636a89868f893fbc3b488c7b80da2c515e5030c9fddb6d2e5dcc2327b7c\n",
            "  Stored in directory: /root/.cache/pip/wheels/db/8f/6a/eaaadf056fba10a98d986f6dce954e6201ba3126926fc5ad9e\n",
            "Successfully built box2d-py\n",
            "Installing collected packages: box2d-py\n",
            "Successfully installed box2d-py-2.3.5\n"
          ]
        }
      ]
    },
    {
      "cell_type": "code",
      "source": [
        "!pip install stable_baselines3"
      ],
      "metadata": {
        "colab": {
          "base_uri": "https://localhost:8080/"
        },
        "id": "6okHIGh3YAca",
        "outputId": "f170d373-1d81-40b6-991e-065b639df282"
      },
      "execution_count": null,
      "outputs": [
        {
          "output_type": "stream",
          "name": "stderr",
          "text": [
            "/usr/local/lib/python3.10/dist-packages/ipykernel/ipkernel.py:283: DeprecationWarning: `should_run_async` will not call `transform_cell` automatically in the future. Please pass the result to `transformed_cell` argument and any exception that happen during thetransform in `preprocessing_exc_tuple` in IPython 7.17 and above.\n",
            "  and should_run_async(code)\n"
          ]
        },
        {
          "output_type": "stream",
          "name": "stdout",
          "text": [
            "Collecting stable_baselines3\n",
            "  Downloading stable_baselines3-2.2.1-py3-none-any.whl (181 kB)\n",
            "\u001b[?25l     \u001b[90m━━━━━━━━━━━━━━━━━━━━━━━━━━━━━━━━━━━━━━━━\u001b[0m \u001b[32m0.0/181.7 kB\u001b[0m \u001b[31m?\u001b[0m eta \u001b[36m-:--:--\u001b[0m\r\u001b[2K     \u001b[91m━━━━━━━━━━━━━━━━━━━━━━━━━━━━━━━\u001b[0m\u001b[91m╸\u001b[0m\u001b[90m━━━━━━━━\u001b[0m \u001b[32m143.4/181.7 kB\u001b[0m \u001b[31m4.1 MB/s\u001b[0m eta \u001b[36m0:00:01\u001b[0m\r\u001b[2K     \u001b[90m━━━━━━━━━━━━━━━━━━━━━━━━━━━━━━━━━━━━━━━━\u001b[0m \u001b[32m181.7/181.7 kB\u001b[0m \u001b[31m4.0 MB/s\u001b[0m eta \u001b[36m0:00:00\u001b[0m\n",
            "\u001b[?25hRequirement already satisfied: gymnasium<0.30,>=0.28.1 in /usr/local/lib/python3.10/dist-packages (from stable_baselines3) (0.29.1)\n",
            "Requirement already satisfied: numpy>=1.20 in /usr/local/lib/python3.10/dist-packages (from stable_baselines3) (1.23.5)\n",
            "Requirement already satisfied: torch>=1.13 in /usr/local/lib/python3.10/dist-packages (from stable_baselines3) (2.1.0+cu121)\n",
            "Requirement already satisfied: cloudpickle in /usr/local/lib/python3.10/dist-packages (from stable_baselines3) (2.2.1)\n",
            "Requirement already satisfied: pandas in /usr/local/lib/python3.10/dist-packages (from stable_baselines3) (1.5.3)\n",
            "Requirement already satisfied: matplotlib in /usr/local/lib/python3.10/dist-packages (from stable_baselines3) (3.7.1)\n",
            "Requirement already satisfied: typing-extensions>=4.3.0 in /usr/local/lib/python3.10/dist-packages (from gymnasium<0.30,>=0.28.1->stable_baselines3) (4.5.0)\n",
            "Requirement already satisfied: farama-notifications>=0.0.1 in /usr/local/lib/python3.10/dist-packages (from gymnasium<0.30,>=0.28.1->stable_baselines3) (0.0.4)\n",
            "Requirement already satisfied: filelock in /usr/local/lib/python3.10/dist-packages (from torch>=1.13->stable_baselines3) (3.13.1)\n",
            "Requirement already satisfied: sympy in /usr/local/lib/python3.10/dist-packages (from torch>=1.13->stable_baselines3) (1.12)\n",
            "Requirement already satisfied: networkx in /usr/local/lib/python3.10/dist-packages (from torch>=1.13->stable_baselines3) (3.2.1)\n",
            "Requirement already satisfied: jinja2 in /usr/local/lib/python3.10/dist-packages (from torch>=1.13->stable_baselines3) (3.1.3)\n",
            "Requirement already satisfied: fsspec in /usr/local/lib/python3.10/dist-packages (from torch>=1.13->stable_baselines3) (2023.6.0)\n",
            "Requirement already satisfied: triton==2.1.0 in /usr/local/lib/python3.10/dist-packages (from torch>=1.13->stable_baselines3) (2.1.0)\n",
            "Requirement already satisfied: contourpy>=1.0.1 in /usr/local/lib/python3.10/dist-packages (from matplotlib->stable_baselines3) (1.2.0)\n",
            "Requirement already satisfied: cycler>=0.10 in /usr/local/lib/python3.10/dist-packages (from matplotlib->stable_baselines3) (0.12.1)\n",
            "Requirement already satisfied: fonttools>=4.22.0 in /usr/local/lib/python3.10/dist-packages (from matplotlib->stable_baselines3) (4.47.2)\n",
            "Requirement already satisfied: kiwisolver>=1.0.1 in /usr/local/lib/python3.10/dist-packages (from matplotlib->stable_baselines3) (1.4.5)\n",
            "Requirement already satisfied: packaging>=20.0 in /usr/local/lib/python3.10/dist-packages (from matplotlib->stable_baselines3) (23.2)\n",
            "Requirement already satisfied: pillow>=6.2.0 in /usr/local/lib/python3.10/dist-packages (from matplotlib->stable_baselines3) (9.4.0)\n",
            "Requirement already satisfied: pyparsing>=2.3.1 in /usr/local/lib/python3.10/dist-packages (from matplotlib->stable_baselines3) (3.1.1)\n",
            "Requirement already satisfied: python-dateutil>=2.7 in /usr/local/lib/python3.10/dist-packages (from matplotlib->stable_baselines3) (2.8.2)\n",
            "Requirement already satisfied: pytz>=2020.1 in /usr/local/lib/python3.10/dist-packages (from pandas->stable_baselines3) (2023.4)\n",
            "Requirement already satisfied: six>=1.5 in /usr/local/lib/python3.10/dist-packages (from python-dateutil>=2.7->matplotlib->stable_baselines3) (1.16.0)\n",
            "Requirement already satisfied: MarkupSafe>=2.0 in /usr/local/lib/python3.10/dist-packages (from jinja2->torch>=1.13->stable_baselines3) (2.1.4)\n",
            "Requirement already satisfied: mpmath>=0.19 in /usr/local/lib/python3.10/dist-packages (from sympy->torch>=1.13->stable_baselines3) (1.3.0)\n",
            "Installing collected packages: stable_baselines3\n",
            "Successfully installed stable_baselines3-2.2.1\n"
          ]
        }
      ]
    },
    {
      "cell_type": "markdown",
      "source": [
        "# **Lunar Lander**"
      ],
      "metadata": {
        "id": "UOcNVGoqntdm"
      }
    },
    {
      "cell_type": "markdown",
      "source": [
        "## **Abstract**"
      ],
      "metadata": {
        "id": "Imb-9debnjbF"
      }
    },
    {
      "cell_type": "markdown",
      "source": [
        "The Lunar Lander project aims to train an agent using reinforcement learning techniques to solve the LunarLander-v2 environment provided by OpenAI Gymnasium. The project utilizes the Tianshou library for reinforcement learning implementations. It includes utilities for logging training data, visualizing learning curves, and recording agent performance videos. The main part of the code orchestrates the training process, including setting up the environment, defining the neural network architecture, configuring the training parameters, and executing the training loop. The trained agent's performance is evaluated using learning curves and recorded videos."
      ],
      "metadata": {
        "id": "ahAyYw6tnfgQ"
      }
    },
    {
      "cell_type": "markdown",
      "source": [
        "## **Introduction**"
      ],
      "metadata": {
        "id": "tQMFewc-pU46"
      }
    },
    {
      "cell_type": "markdown",
      "source": [
        "The LunarLander-v2 environment simulates the task of landing a lunar module safely on the moon's surface. The agent controls the module's thrusters to adjust its position and velocity, aiming to land softly on a designated landing pad. This project tackles this problem using reinforcement learning, where the agent learns to navigate the environment through trial and error, maximizing cumulative rewards."
      ],
      "metadata": {
        "id": "5FAvryPTp4fh"
      }
    },
    {
      "cell_type": "markdown",
      "source": [
        "## **Utilities**"
      ],
      "metadata": {
        "id": "3QEfx-ULrN3m"
      }
    },
    {
      "cell_type": "code",
      "source": [
        "import matplotlib.pyplot as plt\n",
        "import pandas as pd\n",
        "import seaborn as sns\n",
        "from stable_baselines3.common.callbacks import BaseCallback\n",
        "from tqdm import tqdm\n",
        "from os import listdir\n",
        "from tensorflow.python.summary.summary_iterator import summary_iterator\n",
        "\n",
        "\n",
        "class LogStepsCallback(BaseCallback):\n",
        "    def __init__(self, log_dir, verbose=0):\n",
        "        self.log_dir = log_dir\n",
        "        super(LogStepsCallback, self).__init__(verbose)\n",
        "\n",
        "    def _on_training_start(self) -> None:\n",
        "        self.results = pd.DataFrame(columns=['Reward', 'Done'])\n",
        "        print(\"Τraining starts!\")\n",
        "\n",
        "    def _on_step(self) -> bool:\n",
        "        if 'reward' in self.locals:\n",
        "            keys = ['reward', 'done']\n",
        "        else:\n",
        "            keys = ['rewards', 'dones']\n",
        "        self.results.loc[len(self.results)] = [self.locals[keys[0]][0], self.locals[keys[1]][0]]\n",
        "        return True\n",
        "\n",
        "    def _on_training_end(self) -> None:\n",
        "        self.results.to_csv(self.log_dir + 'training_data.csv', index=False)\n",
        "        print(\"Τraining ends!\")\n",
        "\n",
        "\n",
        "class TqdmCallback(BaseCallback):\n",
        "    def __init__(self):\n",
        "        super().__init__()\n",
        "        self.progress_bar = None\n",
        "\n",
        "    def _on_training_start(self):\n",
        "        self.progress_bar = tqdm(total=self.locals['total_timesteps'])\n",
        "\n",
        "    def _on_step(self):\n",
        "        self.progress_bar.update(1)\n",
        "        return True\n",
        "\n",
        "    def _on_training_end(self):\n",
        "        self.progress_bar.close()\n",
        "        self.progress_bar = None\n",
        "\n",
        "\n",
        "def save_dict_to_file(dict, path, txt_name='hyperparameter_dict'):\n",
        "    f = open(path + '/' + txt_name + '.txt', 'w')\n",
        "    f.write(str(dict))\n",
        "    f.close()\n",
        "\n",
        "\n",
        "def calc_episode_rewards(training_data):\n",
        "    # Calculate the rewards for each training episode\n",
        "    episode_rewards = []\n",
        "    temp_reward_sum = 0\n",
        "\n",
        "    for step in range(training_data.shape[0]):\n",
        "        reward, done = training_data.iloc[step, :]\n",
        "        temp_reward_sum += reward\n",
        "        if done:\n",
        "            episode_rewards.append(temp_reward_sum)\n",
        "            temp_reward_sum = 0\n",
        "\n",
        "    result = pd.DataFrame(columns=['Reward'])\n",
        "    result['Reward'] = episode_rewards\n",
        "    return result\n",
        "\n",
        "\n",
        "def learning_curve(episode_rewards, log_dir, window=10):\n",
        "    # Calculate rolling window metrics\n",
        "    rolling_average = episode_rewards.rolling(window=window, min_periods=window).mean().dropna()\n",
        "    rolling_max = episode_rewards.rolling(window=window, min_periods=window).max().dropna()\n",
        "    rolling_min = episode_rewards.rolling(window=window, min_periods=window).min().dropna()\n",
        "\n",
        "    # Change column name\n",
        "    rolling_average.columns = ['Average Reward']\n",
        "    rolling_max.columns = ['Max Reward']\n",
        "    rolling_min.columns = ['Min Reward']\n",
        "    rolling_data = pd.concat([rolling_average, rolling_max, rolling_min], axis=1)\n",
        "\n",
        "    # Plot\n",
        "    sns.set()\n",
        "    ax = sns.lineplot(data=rolling_data)\n",
        "    ax.fill_between(rolling_average.index, rolling_min.iloc[:, 0], rolling_max.iloc[:, 0], alpha=0.2)\n",
        "    ax.set_title('Learning Curve')\n",
        "    ax.set_ylabel('Reward')\n",
        "    ax.set_xlabel('Episodes')\n",
        "    ax.set(ylim=(-250, 325))\n",
        "\n",
        "    # Save figure\n",
        "    plt.savefig(log_dir + 'learning_curve' + str(window) + '.png')\n",
        "\n",
        "\n",
        "def learning_curve_baselines(log_dir, window=10):\n",
        "    # Read data\n",
        "    training_data = pd.read_csv(log_dir + 'training_data.csv', index_col=None)\n",
        "\n",
        "    # Calculate episode rewards\n",
        "    episode_rewards = calc_episode_rewards(training_data)\n",
        "\n",
        "    learning_curve(episode_rewards=episode_rewards, log_dir=log_dir, window=window)\n",
        "\n",
        "\n",
        "def learning_curve_tianshou(log_dir, window=10):\n",
        "    # Find event file\n",
        "    files = listdir(log_dir)\n",
        "    for f in files:\n",
        "        if 'events' in f:\n",
        "            event_file = f\n",
        "            break\n",
        "\n",
        "    # Read episode rewards\n",
        "    episode_rewards_list = []\n",
        "    episode_rewards = pd.DataFrame(columns=['Reward'])\n",
        "    try:\n",
        "        for e in summary_iterator(log_dir + event_file):\n",
        "            if len(e.summary.value) > 0:\n",
        "                if e.summary.value[0].tag == 'train/reward':\n",
        "                    episode_rewards_list.append(e.summary.value[0].simple_value)\n",
        "    except Exception as e:\n",
        "        pass\n",
        "    episode_rewards['Reward'] = episode_rewards_list\n",
        "\n",
        "    # Learning curve\n",
        "    learning_curve(episode_rewards, log_dir, window=window)\n",
        "\n",
        "\n",
        "def learning_curve_tianshou_multiple_runs(log_dirs, window=10):\n",
        "    episode_rewards_list = []\n",
        "    episode_rewards = pd.DataFrame(columns=['Reward'])\n",
        "\n",
        "    for log_dir in log_dirs:\n",
        "        # Find event file\n",
        "        files = listdir(log_dir)\n",
        "        for f in files:\n",
        "            if 'events' in f:\n",
        "                event_file = f\n",
        "                break\n",
        "\n",
        "        # Read episode rewards\n",
        "\n",
        "        try:\n",
        "            for e in summary_iterator(log_dir + event_file):\n",
        "                if len(e.summary.value) > 0:\n",
        "                    if e.summary.value[0].tag == 'train/reward':\n",
        "                        episode_rewards_list.append(e.summary.value[0].simple_value)\n",
        "        except Exception as e:\n",
        "            pass\n",
        "    episode_rewards['Reward'] = episode_rewards_list\n",
        "\n",
        "    # Learning curve\n",
        "    learning_curve(episode_rewards, log_dir, window=window)"
      ],
      "metadata": {
        "id": "0rn-8jGKX6sz"
      },
      "execution_count": null,
      "outputs": []
    },
    {
      "cell_type": "markdown",
      "source": [
        "The utilities section of the Lunar Lander project encompasses several functions and callback classes essential for managing and analyzing the reinforcement learning training process. Here's a breakdown of each component:"
      ],
      "metadata": {
        "id": "WN9R1tt1rSLF"
      }
    },
    {
      "cell_type": "markdown",
      "source": [
        "1. **LogStepsCallback**:\n",
        "\n",
        "This callback class is responsible for logging training rewards and episode completion status during the training process. It captures reward values and whether an episode is done at each training step and stores them in a Pandas DataFrame. Upon training completion, it saves the training data to a CSV file.\n",
        "\n",
        "2. **TqdmCallback**:\n",
        "\n",
        "  This callback class integrates a progress bar using the tqdm library to track the training progress. It displays the progress bar during training, updating it with each training step.\n",
        "\n",
        "3. **save_dict_to_file**:\n",
        "\n",
        "  This function enables saving dictionaries to text files. It takes a dictionary, a file path, and an optional text file name as input, converting the dictionary to a string representation and writing it to a text file.\n",
        "\n",
        "4. **calc_episode_rewards**:\n",
        "\n",
        "  This function calculates the cumulative rewards for each training episode based on the training data. It iterates through the training data, summing up rewards until an episode is complete, then resets the reward sum for the next episode.\n",
        "\n",
        "5. **learning_curve**:\n",
        "\n",
        "  This function generates and saves learning curve plots based on episode rewards. It calculates rolling window metrics such as the average, maximum, and minimum rewards over a specified window size, then plots these metrics over episodes, providing insights into the training progress.\n",
        "\n",
        "6. **learning_curve_baselines**:\n",
        "\n",
        "  This function generates learning curves from training data using baselines. It reads training data from a CSV file, calculates episode rewards, and calls the learning_curve function to plot and save the learning curve.\n",
        "\n",
        "7. **learning_curve_tianshou**:\n",
        "\n",
        "  This function generates learning curves from training data using the Tianshou library. It reads episode rewards from event files generated during training, constructs a DataFrame, and calls the learning_curve function to plot and save the learning curve.\n",
        "\n",
        "8. **learning_curve_tianshou_multiple_runs**:\n",
        "\n",
        "  This function generates learning curves from multiple runs of Tianshou training. It iterates through directories containing event files from multiple runs, aggregates episode rewards, and calls the learning_curve function to plot and save the learning curve."
      ],
      "metadata": {
        "id": "2OSc4xN8rVLZ"
      }
    },
    {
      "cell_type": "markdown",
      "source": [
        "### More packages"
      ],
      "metadata": {
        "id": "xCaBo0mstkj9"
      }
    },
    {
      "cell_type": "code",
      "source": [
        "!pip install tianshou"
      ],
      "metadata": {
        "colab": {
          "base_uri": "https://localhost:8080/"
        },
        "id": "ODGi-t1lYKeD",
        "outputId": "c623bdce-4a57-4359-b6e6-c79908747b84"
      },
      "execution_count": null,
      "outputs": [
        {
          "output_type": "stream",
          "name": "stderr",
          "text": [
            "/usr/local/lib/python3.10/dist-packages/ipykernel/ipkernel.py:283: DeprecationWarning: `should_run_async` will not call `transform_cell` automatically in the future. Please pass the result to `transformed_cell` argument and any exception that happen during thetransform in `preprocessing_exc_tuple` in IPython 7.17 and above.\n",
            "  and should_run_async(code)\n"
          ]
        },
        {
          "output_type": "stream",
          "name": "stdout",
          "text": [
            "Collecting tianshou\n",
            "  Downloading tianshou-0.5.1-py3-none-any.whl (163 kB)\n",
            "\u001b[?25l     \u001b[90m━━━━━━━━━━━━━━━━━━━━━━━━━━━━━━━━━━━━━━━━\u001b[0m \u001b[32m0.0/163.1 kB\u001b[0m \u001b[31m?\u001b[0m eta \u001b[36m-:--:--\u001b[0m\r\u001b[2K     \u001b[91m━━━━━━━━━━━━━━━━━━━━━━━━━━━━━━━━━━━━━\u001b[0m\u001b[91m╸\u001b[0m\u001b[90m━━\u001b[0m \u001b[32m153.6/163.1 kB\u001b[0m \u001b[31m4.9 MB/s\u001b[0m eta \u001b[36m0:00:01\u001b[0m\r\u001b[2K     \u001b[90m━━━━━━━━━━━━━━━━━━━━━━━━━━━━━━━━━━━━━━━━\u001b[0m \u001b[32m163.1/163.1 kB\u001b[0m \u001b[31m4.3 MB/s\u001b[0m eta \u001b[36m0:00:00\u001b[0m\n",
            "\u001b[?25hRequirement already satisfied: gymnasium>=0.26.0 in /usr/local/lib/python3.10/dist-packages (from tianshou) (0.29.1)\n",
            "Requirement already satisfied: tqdm in /usr/local/lib/python3.10/dist-packages (from tianshou) (4.66.1)\n",
            "Requirement already satisfied: numpy>1.16.0 in /usr/local/lib/python3.10/dist-packages (from tianshou) (1.23.5)\n",
            "Requirement already satisfied: tensorboard>=2.5.0 in /usr/local/lib/python3.10/dist-packages (from tianshou) (2.15.1)\n",
            "Requirement already satisfied: torch>=1.4.0 in /usr/local/lib/python3.10/dist-packages (from tianshou) (2.1.0+cu121)\n",
            "Requirement already satisfied: numba>=0.51.0 in /usr/local/lib/python3.10/dist-packages (from tianshou) (0.58.1)\n",
            "Requirement already satisfied: h5py>=2.10.0 in /usr/local/lib/python3.10/dist-packages (from tianshou) (3.9.0)\n",
            "Requirement already satisfied: packaging in /usr/local/lib/python3.10/dist-packages (from tianshou) (23.2)\n",
            "Collecting pettingzoo>=1.22 (from tianshou)\n",
            "  Downloading pettingzoo-1.24.3-py3-none-any.whl (847 kB)\n",
            "\u001b[2K     \u001b[90m━━━━━━━━━━━━━━━━━━━━━━━━━━━━━━━━━━━━━━━━\u001b[0m \u001b[32m847.8/847.8 kB\u001b[0m \u001b[31m52.5 MB/s\u001b[0m eta \u001b[36m0:00:00\u001b[0m\n",
            "\u001b[?25hRequirement already satisfied: cloudpickle>=1.2.0 in /usr/local/lib/python3.10/dist-packages (from gymnasium>=0.26.0->tianshou) (2.2.1)\n",
            "Requirement already satisfied: typing-extensions>=4.3.0 in /usr/local/lib/python3.10/dist-packages (from gymnasium>=0.26.0->tianshou) (4.5.0)\n",
            "Requirement already satisfied: farama-notifications>=0.0.1 in /usr/local/lib/python3.10/dist-packages (from gymnasium>=0.26.0->tianshou) (0.0.4)\n",
            "Requirement already satisfied: llvmlite<0.42,>=0.41.0dev0 in /usr/local/lib/python3.10/dist-packages (from numba>=0.51.0->tianshou) (0.41.1)\n",
            "Requirement already satisfied: absl-py>=0.4 in /usr/local/lib/python3.10/dist-packages (from tensorboard>=2.5.0->tianshou) (1.4.0)\n",
            "Requirement already satisfied: grpcio>=1.48.2 in /usr/local/lib/python3.10/dist-packages (from tensorboard>=2.5.0->tianshou) (1.60.0)\n",
            "Requirement already satisfied: google-auth<3,>=1.6.3 in /usr/local/lib/python3.10/dist-packages (from tensorboard>=2.5.0->tianshou) (2.17.3)\n",
            "Requirement already satisfied: google-auth-oauthlib<2,>=0.5 in /usr/local/lib/python3.10/dist-packages (from tensorboard>=2.5.0->tianshou) (1.2.0)\n",
            "Requirement already satisfied: markdown>=2.6.8 in /usr/local/lib/python3.10/dist-packages (from tensorboard>=2.5.0->tianshou) (3.5.2)\n",
            "Requirement already satisfied: protobuf<4.24,>=3.19.6 in /usr/local/lib/python3.10/dist-packages (from tensorboard>=2.5.0->tianshou) (3.20.3)\n",
            "Requirement already satisfied: requests<3,>=2.21.0 in /usr/local/lib/python3.10/dist-packages (from tensorboard>=2.5.0->tianshou) (2.31.0)\n",
            "Requirement already satisfied: setuptools>=41.0.0 in /usr/local/lib/python3.10/dist-packages (from tensorboard>=2.5.0->tianshou) (67.7.2)\n",
            "Requirement already satisfied: six>1.9 in /usr/local/lib/python3.10/dist-packages (from tensorboard>=2.5.0->tianshou) (1.16.0)\n",
            "Requirement already satisfied: tensorboard-data-server<0.8.0,>=0.7.0 in /usr/local/lib/python3.10/dist-packages (from tensorboard>=2.5.0->tianshou) (0.7.2)\n",
            "Requirement already satisfied: werkzeug>=1.0.1 in /usr/local/lib/python3.10/dist-packages (from tensorboard>=2.5.0->tianshou) (3.0.1)\n",
            "Requirement already satisfied: filelock in /usr/local/lib/python3.10/dist-packages (from torch>=1.4.0->tianshou) (3.13.1)\n",
            "Requirement already satisfied: sympy in /usr/local/lib/python3.10/dist-packages (from torch>=1.4.0->tianshou) (1.12)\n",
            "Requirement already satisfied: networkx in /usr/local/lib/python3.10/dist-packages (from torch>=1.4.0->tianshou) (3.2.1)\n",
            "Requirement already satisfied: jinja2 in /usr/local/lib/python3.10/dist-packages (from torch>=1.4.0->tianshou) (3.1.3)\n",
            "Requirement already satisfied: fsspec in /usr/local/lib/python3.10/dist-packages (from torch>=1.4.0->tianshou) (2023.6.0)\n",
            "Requirement already satisfied: triton==2.1.0 in /usr/local/lib/python3.10/dist-packages (from torch>=1.4.0->tianshou) (2.1.0)\n",
            "Requirement already satisfied: cachetools<6.0,>=2.0.0 in /usr/local/lib/python3.10/dist-packages (from google-auth<3,>=1.6.3->tensorboard>=2.5.0->tianshou) (5.3.2)\n",
            "Requirement already satisfied: pyasn1-modules>=0.2.1 in /usr/local/lib/python3.10/dist-packages (from google-auth<3,>=1.6.3->tensorboard>=2.5.0->tianshou) (0.3.0)\n",
            "Requirement already satisfied: rsa<5,>=3.1.4 in /usr/local/lib/python3.10/dist-packages (from google-auth<3,>=1.6.3->tensorboard>=2.5.0->tianshou) (4.9)\n",
            "Requirement already satisfied: requests-oauthlib>=0.7.0 in /usr/local/lib/python3.10/dist-packages (from google-auth-oauthlib<2,>=0.5->tensorboard>=2.5.0->tianshou) (1.3.1)\n",
            "Requirement already satisfied: charset-normalizer<4,>=2 in /usr/local/lib/python3.10/dist-packages (from requests<3,>=2.21.0->tensorboard>=2.5.0->tianshou) (3.3.2)\n",
            "Requirement already satisfied: idna<4,>=2.5 in /usr/local/lib/python3.10/dist-packages (from requests<3,>=2.21.0->tensorboard>=2.5.0->tianshou) (3.6)\n",
            "Requirement already satisfied: urllib3<3,>=1.21.1 in /usr/local/lib/python3.10/dist-packages (from requests<3,>=2.21.0->tensorboard>=2.5.0->tianshou) (2.0.7)\n",
            "Requirement already satisfied: certifi>=2017.4.17 in /usr/local/lib/python3.10/dist-packages (from requests<3,>=2.21.0->tensorboard>=2.5.0->tianshou) (2023.11.17)\n",
            "Requirement already satisfied: MarkupSafe>=2.1.1 in /usr/local/lib/python3.10/dist-packages (from werkzeug>=1.0.1->tensorboard>=2.5.0->tianshou) (2.1.4)\n",
            "Requirement already satisfied: mpmath>=0.19 in /usr/local/lib/python3.10/dist-packages (from sympy->torch>=1.4.0->tianshou) (1.3.0)\n",
            "Requirement already satisfied: pyasn1<0.6.0,>=0.4.6 in /usr/local/lib/python3.10/dist-packages (from pyasn1-modules>=0.2.1->google-auth<3,>=1.6.3->tensorboard>=2.5.0->tianshou) (0.5.1)\n",
            "Requirement already satisfied: oauthlib>=3.0.0 in /usr/local/lib/python3.10/dist-packages (from requests-oauthlib>=0.7.0->google-auth-oauthlib<2,>=0.5->tensorboard>=2.5.0->tianshou) (3.2.2)\n",
            "Installing collected packages: pettingzoo, tianshou\n",
            "Successfully installed pettingzoo-1.24.3 tianshou-0.5.1\n"
          ]
        }
      ]
    },
    {
      "cell_type": "code",
      "execution_count": null,
      "metadata": {
        "colab": {
          "base_uri": "https://localhost:8080/"
        },
        "id": "y3en6ipEQoPn",
        "outputId": "20d197f1-26cb-4795-a824-c3e559b8332e"
      },
      "outputs": [
        {
          "output_type": "stream",
          "name": "stderr",
          "text": [
            "/usr/local/lib/python3.10/dist-packages/ipykernel/ipkernel.py:283: DeprecationWarning: `should_run_async` will not call `transform_cell` automatically in the future. Please pass the result to `transformed_cell` argument and any exception that happen during thetransform in `preprocessing_exc_tuple` in IPython 7.17 and above.\n",
            "  and should_run_async(code)\n"
          ]
        }
      ],
      "source": [
        "import time\n",
        "from gymnasium import wrappers\n",
        "import gymnasium as gym\n",
        "import tianshou as ts\n",
        "import torch\n",
        "import numpy as np\n",
        "from torch.utils.tensorboard import SummaryWriter\n",
        "from tianshou.utils import TensorboardLogger\n",
        "import torch\n",
        "from tianshou.utils.net.common import Net"
      ]
    },
    {
      "cell_type": "markdown",
      "source": [
        "### Another one"
      ],
      "metadata": {
        "id": "oxsrtLmTpFi4"
      }
    },
    {
      "cell_type": "code",
      "source": [
        "!pip install shimmy"
      ],
      "metadata": {
        "colab": {
          "base_uri": "https://localhost:8080/"
        },
        "id": "-_2ND20NYlpm",
        "outputId": "1bd10b03-d6da-4af6-fca9-1974ecb2ed48"
      },
      "execution_count": null,
      "outputs": [
        {
          "output_type": "stream",
          "name": "stdout",
          "text": [
            "Collecting shimmy\n",
            "  Downloading Shimmy-1.3.0-py3-none-any.whl (37 kB)\n",
            "Requirement already satisfied: numpy>=1.18.0 in /usr/local/lib/python3.10/dist-packages (from shimmy) (1.23.5)\n",
            "Requirement already satisfied: gymnasium>=0.27.0 in /usr/local/lib/python3.10/dist-packages (from shimmy) (0.29.1)\n",
            "Requirement already satisfied: cloudpickle>=1.2.0 in /usr/local/lib/python3.10/dist-packages (from gymnasium>=0.27.0->shimmy) (2.2.1)\n",
            "Requirement already satisfied: typing-extensions>=4.3.0 in /usr/local/lib/python3.10/dist-packages (from gymnasium>=0.27.0->shimmy) (4.5.0)\n",
            "Requirement already satisfied: farama-notifications>=0.0.1 in /usr/local/lib/python3.10/dist-packages (from gymnasium>=0.27.0->shimmy) (0.0.4)\n",
            "Installing collected packages: shimmy\n",
            "Successfully installed shimmy-1.3.0\n"
          ]
        }
      ]
    },
    {
      "cell_type": "markdown",
      "source": [
        "## **More information about Lunar-Lander-v2**\n",
        "\n",
        "It navigates the lander to its landing pad. The landing pad is always at coordinates (0,0). Coordinates are the first two numbers in state vector. Reward for moving from the top of the screen to landing pad and zero speed is about 100..140 points. If lander moves away from landing pad it loses reward back. Episode finishes if the lander crashes or comes to rest, receiving additional -100 or +100 points. Each leg ground contact is +10. Firing main engine is -0.3 points each frame. Solved is 200 points. Landing outside landing pad is possible. Fuel is infinite, so an agent can learn to fly and then land on its first attempt. Four discrete actions available: do nothing, fire left orientation engine, fire main engine, fire right orientation engine."
      ],
      "metadata": {
        "id": "iMzbma8HyLTx"
      }
    },
    {
      "cell_type": "markdown",
      "source": [
        "## **Main**"
      ],
      "metadata": {
        "id": "svp8N2_npJ3M"
      }
    },
    {
      "cell_type": "code",
      "source": [
        "if __name__ == '__main__':\n",
        "    start = time.perf_counter()\n",
        "    env_id = \"LunarLander-v2\"\n",
        "    seed = 0\n",
        "    device = torch.device(\"cuda:0\" if torch.cuda.is_available() else \"cpu\")\n",
        "    print(f\"Using: {device}\")\n",
        "\n",
        "    # Logging directory\n",
        "    model_name = 'Tianshou_ER_DD_DQN'\n",
        "    log_dir = 'logs/' + model_name + '_' + str(time.strftime('%d_%b_%Y_%H_%M_%S', time.localtime())) + '/'\n",
        "    writer = SummaryWriter(log_dir=log_dir)\n",
        "    logger = TensorboardLogger(writer, train_interval=1, update_interval=1)\n",
        "\n",
        "    # Environment\n",
        "    env = gym.make(env_id, render_mode=\"rgb_array\")\n",
        "    train_envs = ts.env.DummyVectorEnv([lambda: gym.make(env_id, render_mode=\"rgb_array\") for _ in range(1)])\n",
        "    test_envs = ts.env.DummyVectorEnv([lambda: gym.make(env_id, render_mode=\"rgb_array\") for _ in range(1)])\n",
        "\n",
        "    # Neural network\n",
        "    Q_param = {\"hidden_sizes\": [128, 128]}\n",
        "    V_param = {\"hidden_sizes\": [128, 128]}\n",
        "    learning_rate = 1.5e-3\n",
        "    model_hyperparameters = {'Q_param': Q_param['hidden_sizes'], 'V_param': V_param['hidden_sizes'],\n",
        "                             'learning_rate': learning_rate}\n",
        "    state_shape = env.observation_space.shape or env.observation_space.n\n",
        "    action_shape = env.action_space.shape or env.action_space.n\n",
        "    net = Net(state_shape, action_shape, dueling_param=(Q_param, V_param), device=device).to(device)\n",
        "    optim = torch.optim.Adam(net.parameters(), lr=learning_rate)\n",
        "\n",
        "    # Policy\n",
        "    policy_hyperparameters = {'discount_factor': 0.99, 'estimation_step': 4, 'target_update_freq': 10,\n",
        "                              'is_double': True}\n",
        "    policy = ts.policy.DQNPolicy(net, optim, **policy_hyperparameters)\n",
        "\n",
        "    # Collectors\n",
        "    use_prioritised_replay_buffer = False\n",
        "    prioritized_buffer_hyperparameters = {'total_size': 1_000_000, 'buffer_num': 1, 'alpha': 0.4, 'beta': 0.5}\n",
        "    if use_prioritised_replay_buffer:\n",
        "        train_collector = ts.data.Collector(policy, train_envs,\n",
        "                                            ts.data.PrioritizedVectorReplayBuffer(**prioritized_buffer_hyperparameters),\n",
        "                                            exploration_noise=True)\n",
        "    else:\n",
        "        train_collector = ts.data.Collector(policy, train_envs,\n",
        "                                            ts.data.ReplayBuffer(size=prioritized_buffer_hyperparameters['total_size']),\n",
        "                                            exploration_noise=True)\n",
        "    test_collector = ts.data.Collector(policy, test_envs, exploration_noise=False)\n",
        "\n",
        "    # Epsilon schedule\n",
        "    def build_epsilon_schedule(max_epsilon=0.5, min_epsilon=0.0, num_episodes_decay=10000):\n",
        "        def custom_epsilon_schedule(epoch, env_step):\n",
        "            decay_step = (max_epsilon - min_epsilon) / num_episodes_decay\n",
        "            current_epsilon = max_epsilon - env_step * decay_step\n",
        "            if current_epsilon < 0.0:\n",
        "                current_epsilon = 0\n",
        "            policy.set_eps(current_epsilon)\n",
        "\n",
        "        return custom_epsilon_schedule\n",
        "\n",
        "    # Test function\n",
        "    def build_test_fn(num_episodes):\n",
        "        def custom_test_fn(epoch, env_step):\n",
        "            print(f\"Epoch = {epoch}\")\n",
        "\n",
        "            # Save agent\n",
        "            torch.save(policy.state_dict(), log_dir + f'dqn_epoch{epoch}.pth')\n",
        "\n",
        "            # No exploration\n",
        "            policy.set_eps(0.00)\n",
        "\n",
        "            # Record agents performance in video\n",
        "            for episode in range(num_episodes):\n",
        "                env = ts.env.DummyVectorEnv([lambda: wrappers.RecordVideo(env=gym.make(env_id, render_mode=\"rgb_array\"), video_folder=log_dir + '/videos/epoch_' + str(epoch) + '/video' + str(episode), name_prefix=\"eval\",\n",
        "                  episode_trigger=lambda x: True) for _ in range(1)])\n",
        "\n",
        "                # Video\n",
        "                policy.eval()\n",
        "                policy.set_eps(0.00)\n",
        "                collector = ts.data.Collector(policy, env, exploration_noise=True)\n",
        "                collector.collect(n_episode=1, render=1 / 60)\n",
        "\n",
        "        return custom_test_fn\n",
        "\n",
        "\n",
        "    # Training\n",
        "    trainer_hyperparameters = {'max_epoch': 15, 'step_per_epoch': 100_000, 'step_per_collect': 5,\n",
        "                               'episode_per_test': 10, 'batch_size': 64}\n",
        "    epsilon_schedule_hyperparameters = {'max_epsilon': 0.1, 'min_epsilon': 0.0,\n",
        "                                        'num_episodes_decay': int(trainer_hyperparameters['step_per_epoch'] * 0.1)}\n",
        "    all_hypeparameters = dict(model_hyperparameters, **policy_hyperparameters, **prioritized_buffer_hyperparameters,\n",
        "                              **trainer_hyperparameters, **epsilon_schedule_hyperparameters)\n",
        "    all_hypeparameters['seed'] = seed\n",
        "    all_hypeparameters['use_prioritised_replay_buffer'] = use_prioritised_replay_buffer\n",
        "    save_dict_to_file(all_hypeparameters, path=log_dir)\n",
        "    result = ts.trainer.offpolicy_trainer(policy, train_collector, test_collector, **trainer_hyperparameters,\n",
        "                                          train_fn=build_epsilon_schedule(**epsilon_schedule_hyperparameters),\n",
        "                                          test_fn=build_test_fn(num_episodes=4), stop_fn=None, logger=logger)\n",
        "    print(f'Finished training! Use {result[\"duration\"]}')\n",
        "\n",
        "    # Learning Curve\n",
        "    learning_curve_tianshou(log_dir=log_dir, window=50)\n",
        "\n",
        "    # Record Episode Video\n",
        "    num_episodes = 10\n",
        "    for i in range(num_episodes):\n",
        "        env = ts.env.DummyVectorEnv([lambda: wrappers.RecordVideo(env=gym.make(env_id, render_mode=\"rgb_array\"),\n",
        "                                                              video_folder=log_dir + '/videos/final_agent/video' + str(i),\n",
        "                                                              name_prefix=\"eval\",\n",
        "                                                              episode_trigger=lambda x: True) for _ in range(1)])\n",
        "\n",
        "        # Video\n",
        "        policy.eval()\n",
        "        policy.set_eps(0.00)\n",
        "        collector = ts.data.Collector(policy, env, exploration_noise=True)\n",
        "        collector.collect(n_episode=1, render=1 / 60)\n",
        "\n",
        "    # Save policy\n",
        "    torch.save(policy.state_dict(), log_dir + 'dqn.pth')\n",
        "\n",
        "    # Execution Time\n",
        "    end = time.perf_counter()  # tensorboard --logdir './Box2D/LunarLander/logs'\n",
        "    print(f\"\\nExecution time = {end - start:.2f} second(s)\")"
      ],
      "metadata": {
        "colab": {
          "base_uri": "https://localhost:8080/",
          "height": 1000
        },
        "id": "QKaYO8nTYZN6",
        "outputId": "d8400e42-590d-43ac-9c98-19d7333d60fe"
      },
      "execution_count": null,
      "outputs": [
        {
          "output_type": "stream",
          "name": "stdout",
          "text": [
            "Using: cuda:0\n",
            "Epoch = 0\n",
            "Moviepy - Building video /content/logs/Tianshou_ER_DD_DQN_05_Feb_2024_13_40_33/videos/epoch_0/video0/eval-episode-0.mp4.\n",
            "Moviepy - Writing video /content/logs/Tianshou_ER_DD_DQN_05_Feb_2024_13_40_33/videos/epoch_0/video0/eval-episode-0.mp4\n",
            "\n"
          ]
        },
        {
          "output_type": "stream",
          "name": "stderr",
          "text": [
            "/usr/local/lib/python3.10/dist-packages/gymnasium/wrappers/monitoring/video_recorder.py:178: UserWarning: \u001b[33mWARN: Unable to save last video! Did you call close()?\u001b[0m\n",
            "  logger.warn(\"Unable to save last video! Did you call close()?\")\n"
          ]
        },
        {
          "output_type": "stream",
          "name": "stdout",
          "text": [
            "Moviepy - Done !\n",
            "Moviepy - video ready /content/logs/Tianshou_ER_DD_DQN_05_Feb_2024_13_40_33/videos/epoch_0/video0/eval-episode-0.mp4\n",
            "Moviepy - Building video /content/logs/Tianshou_ER_DD_DQN_05_Feb_2024_13_40_33/videos/epoch_0/video1/eval-episode-0.mp4.\n",
            "Moviepy - Writing video /content/logs/Tianshou_ER_DD_DQN_05_Feb_2024_13_40_33/videos/epoch_0/video1/eval-episode-0.mp4\n",
            "\n"
          ]
        },
        {
          "output_type": "stream",
          "name": "stderr",
          "text": []
        },
        {
          "output_type": "stream",
          "name": "stdout",
          "text": [
            "Moviepy - Done !\n",
            "Moviepy - video ready /content/logs/Tianshou_ER_DD_DQN_05_Feb_2024_13_40_33/videos/epoch_0/video1/eval-episode-0.mp4\n",
            "Moviepy - Building video /content/logs/Tianshou_ER_DD_DQN_05_Feb_2024_13_40_33/videos/epoch_0/video2/eval-episode-0.mp4.\n",
            "Moviepy - Writing video /content/logs/Tianshou_ER_DD_DQN_05_Feb_2024_13_40_33/videos/epoch_0/video2/eval-episode-0.mp4\n",
            "\n"
          ]
        },
        {
          "output_type": "stream",
          "name": "stderr",
          "text": []
        },
        {
          "output_type": "stream",
          "name": "stdout",
          "text": [
            "Moviepy - Done !\n",
            "Moviepy - video ready /content/logs/Tianshou_ER_DD_DQN_05_Feb_2024_13_40_33/videos/epoch_0/video2/eval-episode-0.mp4\n",
            "Moviepy - Building video /content/logs/Tianshou_ER_DD_DQN_05_Feb_2024_13_40_33/videos/epoch_0/video3/eval-episode-0.mp4.\n",
            "Moviepy - Writing video /content/logs/Tianshou_ER_DD_DQN_05_Feb_2024_13_40_33/videos/epoch_0/video3/eval-episode-0.mp4\n",
            "\n"
          ]
        },
        {
          "output_type": "stream",
          "name": "stderr",
          "text": []
        },
        {
          "output_type": "stream",
          "name": "stdout",
          "text": [
            "Moviepy - Done !\n",
            "Moviepy - video ready /content/logs/Tianshou_ER_DD_DQN_05_Feb_2024_13_40_33/videos/epoch_0/video3/eval-episode-0.mp4\n"
          ]
        },
        {
          "output_type": "stream",
          "name": "stderr",
          "text": [
            "Epoch #1: 100001it [13:11, 126.40it/s, env_step=100000, len=277, loss=49.115, n/ep=0, n/st=5, rew=43.30]                            \n"
          ]
        },
        {
          "output_type": "stream",
          "name": "stdout",
          "text": [
            "Epoch = 1\n",
            "Moviepy - Building video /content/logs/Tianshou_ER_DD_DQN_05_Feb_2024_13_40_33/videos/epoch_1/video0/eval-episode-0.mp4.\n",
            "Moviepy - Writing video /content/logs/Tianshou_ER_DD_DQN_05_Feb_2024_13_40_33/videos/epoch_1/video0/eval-episode-0.mp4\n",
            "\n"
          ]
        },
        {
          "output_type": "stream",
          "name": "stderr",
          "text": []
        },
        {
          "output_type": "stream",
          "name": "stdout",
          "text": [
            "Moviepy - Done !\n",
            "Moviepy - video ready /content/logs/Tianshou_ER_DD_DQN_05_Feb_2024_13_40_33/videos/epoch_1/video0/eval-episode-0.mp4\n",
            "Moviepy - Building video /content/logs/Tianshou_ER_DD_DQN_05_Feb_2024_13_40_33/videos/epoch_1/video1/eval-episode-0.mp4.\n",
            "Moviepy - Writing video /content/logs/Tianshou_ER_DD_DQN_05_Feb_2024_13_40_33/videos/epoch_1/video1/eval-episode-0.mp4\n",
            "\n"
          ]
        },
        {
          "output_type": "stream",
          "name": "stderr",
          "text": []
        },
        {
          "output_type": "stream",
          "name": "stdout",
          "text": [
            "Moviepy - Done !\n",
            "Moviepy - video ready /content/logs/Tianshou_ER_DD_DQN_05_Feb_2024_13_40_33/videos/epoch_1/video1/eval-episode-0.mp4\n",
            "Moviepy - Building video /content/logs/Tianshou_ER_DD_DQN_05_Feb_2024_13_40_33/videos/epoch_1/video2/eval-episode-0.mp4.\n",
            "Moviepy - Writing video /content/logs/Tianshou_ER_DD_DQN_05_Feb_2024_13_40_33/videos/epoch_1/video2/eval-episode-0.mp4\n",
            "\n"
          ]
        },
        {
          "output_type": "stream",
          "name": "stderr",
          "text": []
        },
        {
          "output_type": "stream",
          "name": "stdout",
          "text": [
            "Moviepy - Done !\n",
            "Moviepy - video ready /content/logs/Tianshou_ER_DD_DQN_05_Feb_2024_13_40_33/videos/epoch_1/video2/eval-episode-0.mp4\n",
            "Moviepy - Building video /content/logs/Tianshou_ER_DD_DQN_05_Feb_2024_13_40_33/videos/epoch_1/video3/eval-episode-0.mp4.\n",
            "Moviepy - Writing video /content/logs/Tianshou_ER_DD_DQN_05_Feb_2024_13_40_33/videos/epoch_1/video3/eval-episode-0.mp4\n",
            "\n"
          ]
        },
        {
          "output_type": "stream",
          "name": "stderr",
          "text": []
        },
        {
          "output_type": "stream",
          "name": "stdout",
          "text": [
            "Moviepy - Done !\n",
            "Moviepy - video ready /content/logs/Tianshou_ER_DD_DQN_05_Feb_2024_13_40_33/videos/epoch_1/video3/eval-episode-0.mp4\n",
            "Epoch #1: test_reward: 63.530472 ± 192.361309, best_reward: 63.530472 ± 192.361309 in #1\n"
          ]
        },
        {
          "output_type": "stream",
          "name": "stderr",
          "text": [
            "Epoch #2: 100001it [12:51, 129.70it/s, env_step=200000, len=428, loss=33.096, n/ep=0, n/st=5, rew=195.53]                            \n"
          ]
        },
        {
          "output_type": "stream",
          "name": "stdout",
          "text": [
            "Epoch = 2\n",
            "Moviepy - Building video /content/logs/Tianshou_ER_DD_DQN_05_Feb_2024_13_40_33/videos/epoch_2/video0/eval-episode-0.mp4.\n",
            "Moviepy - Writing video /content/logs/Tianshou_ER_DD_DQN_05_Feb_2024_13_40_33/videos/epoch_2/video0/eval-episode-0.mp4\n",
            "\n"
          ]
        },
        {
          "output_type": "stream",
          "name": "stderr",
          "text": []
        },
        {
          "output_type": "stream",
          "name": "stdout",
          "text": [
            "Moviepy - Done !\n",
            "Moviepy - video ready /content/logs/Tianshou_ER_DD_DQN_05_Feb_2024_13_40_33/videos/epoch_2/video0/eval-episode-0.mp4\n",
            "Moviepy - Building video /content/logs/Tianshou_ER_DD_DQN_05_Feb_2024_13_40_33/videos/epoch_2/video1/eval-episode-0.mp4.\n",
            "Moviepy - Writing video /content/logs/Tianshou_ER_DD_DQN_05_Feb_2024_13_40_33/videos/epoch_2/video1/eval-episode-0.mp4\n",
            "\n"
          ]
        },
        {
          "output_type": "stream",
          "name": "stderr",
          "text": []
        },
        {
          "output_type": "stream",
          "name": "stdout",
          "text": [
            "Moviepy - Done !\n",
            "Moviepy - video ready /content/logs/Tianshou_ER_DD_DQN_05_Feb_2024_13_40_33/videos/epoch_2/video1/eval-episode-0.mp4\n",
            "Moviepy - Building video /content/logs/Tianshou_ER_DD_DQN_05_Feb_2024_13_40_33/videos/epoch_2/video2/eval-episode-0.mp4.\n",
            "Moviepy - Writing video /content/logs/Tianshou_ER_DD_DQN_05_Feb_2024_13_40_33/videos/epoch_2/video2/eval-episode-0.mp4\n",
            "\n"
          ]
        },
        {
          "output_type": "stream",
          "name": "stderr",
          "text": []
        },
        {
          "output_type": "stream",
          "name": "stdout",
          "text": [
            "Moviepy - Done !\n",
            "Moviepy - video ready /content/logs/Tianshou_ER_DD_DQN_05_Feb_2024_13_40_33/videos/epoch_2/video2/eval-episode-0.mp4\n",
            "Moviepy - Building video /content/logs/Tianshou_ER_DD_DQN_05_Feb_2024_13_40_33/videos/epoch_2/video3/eval-episode-0.mp4.\n",
            "Moviepy - Writing video /content/logs/Tianshou_ER_DD_DQN_05_Feb_2024_13_40_33/videos/epoch_2/video3/eval-episode-0.mp4\n",
            "\n"
          ]
        },
        {
          "output_type": "stream",
          "name": "stderr",
          "text": []
        },
        {
          "output_type": "stream",
          "name": "stdout",
          "text": [
            "Moviepy - Done !\n",
            "Moviepy - video ready /content/logs/Tianshou_ER_DD_DQN_05_Feb_2024_13_40_33/videos/epoch_2/video3/eval-episode-0.mp4\n",
            "Epoch #2: test_reward: 85.695488 ± 174.845041, best_reward: 85.695488 ± 174.845041 in #2\n"
          ]
        },
        {
          "output_type": "stream",
          "name": "stderr",
          "text": [
            "Epoch #3: 100001it [12:55, 128.89it/s, env_step=300000, len=114, loss=38.753, n/ep=0, n/st=5, rew=16.46]                            \n"
          ]
        },
        {
          "output_type": "stream",
          "name": "stdout",
          "text": [
            "Epoch = 3\n",
            "Moviepy - Building video /content/logs/Tianshou_ER_DD_DQN_05_Feb_2024_13_40_33/videos/epoch_3/video0/eval-episode-0.mp4.\n",
            "Moviepy - Writing video /content/logs/Tianshou_ER_DD_DQN_05_Feb_2024_13_40_33/videos/epoch_3/video0/eval-episode-0.mp4\n",
            "\n"
          ]
        },
        {
          "output_type": "stream",
          "name": "stderr",
          "text": []
        },
        {
          "output_type": "stream",
          "name": "stdout",
          "text": [
            "Moviepy - Done !\n",
            "Moviepy - video ready /content/logs/Tianshou_ER_DD_DQN_05_Feb_2024_13_40_33/videos/epoch_3/video0/eval-episode-0.mp4\n",
            "Moviepy - Building video /content/logs/Tianshou_ER_DD_DQN_05_Feb_2024_13_40_33/videos/epoch_3/video1/eval-episode-0.mp4.\n",
            "Moviepy - Writing video /content/logs/Tianshou_ER_DD_DQN_05_Feb_2024_13_40_33/videos/epoch_3/video1/eval-episode-0.mp4\n",
            "\n"
          ]
        },
        {
          "output_type": "stream",
          "name": "stderr",
          "text": []
        },
        {
          "output_type": "stream",
          "name": "stdout",
          "text": [
            "Moviepy - Done !\n",
            "Moviepy - video ready /content/logs/Tianshou_ER_DD_DQN_05_Feb_2024_13_40_33/videos/epoch_3/video1/eval-episode-0.mp4\n",
            "Moviepy - Building video /content/logs/Tianshou_ER_DD_DQN_05_Feb_2024_13_40_33/videos/epoch_3/video2/eval-episode-0.mp4.\n",
            "Moviepy - Writing video /content/logs/Tianshou_ER_DD_DQN_05_Feb_2024_13_40_33/videos/epoch_3/video2/eval-episode-0.mp4\n",
            "\n"
          ]
        },
        {
          "output_type": "stream",
          "name": "stderr",
          "text": []
        },
        {
          "output_type": "stream",
          "name": "stdout",
          "text": [
            "Moviepy - Done !\n",
            "Moviepy - video ready /content/logs/Tianshou_ER_DD_DQN_05_Feb_2024_13_40_33/videos/epoch_3/video2/eval-episode-0.mp4\n",
            "Moviepy - Building video /content/logs/Tianshou_ER_DD_DQN_05_Feb_2024_13_40_33/videos/epoch_3/video3/eval-episode-0.mp4.\n",
            "Moviepy - Writing video /content/logs/Tianshou_ER_DD_DQN_05_Feb_2024_13_40_33/videos/epoch_3/video3/eval-episode-0.mp4\n",
            "\n"
          ]
        },
        {
          "output_type": "stream",
          "name": "stderr",
          "text": []
        },
        {
          "output_type": "stream",
          "name": "stdout",
          "text": [
            "Moviepy - Done !\n",
            "Moviepy - video ready /content/logs/Tianshou_ER_DD_DQN_05_Feb_2024_13_40_33/videos/epoch_3/video3/eval-episode-0.mp4\n",
            "Epoch #3: test_reward: 236.428035 ± 74.427672, best_reward: 236.428035 ± 74.427672 in #3\n"
          ]
        },
        {
          "output_type": "stream",
          "name": "stderr",
          "text": [
            "Epoch #4: 100001it [12:21, 134.90it/s, env_step=400000, len=997, loss=34.933, n/ep=0, n/st=5, rew=220.27]                            \n"
          ]
        },
        {
          "output_type": "stream",
          "name": "stdout",
          "text": [
            "Epoch = 4\n",
            "Moviepy - Building video /content/logs/Tianshou_ER_DD_DQN_05_Feb_2024_13_40_33/videos/epoch_4/video0/eval-episode-0.mp4.\n",
            "Moviepy - Writing video /content/logs/Tianshou_ER_DD_DQN_05_Feb_2024_13_40_33/videos/epoch_4/video0/eval-episode-0.mp4\n",
            "\n"
          ]
        },
        {
          "output_type": "stream",
          "name": "stderr",
          "text": []
        },
        {
          "output_type": "stream",
          "name": "stdout",
          "text": [
            "Moviepy - Done !\n",
            "Moviepy - video ready /content/logs/Tianshou_ER_DD_DQN_05_Feb_2024_13_40_33/videos/epoch_4/video0/eval-episode-0.mp4\n",
            "Moviepy - Building video /content/logs/Tianshou_ER_DD_DQN_05_Feb_2024_13_40_33/videos/epoch_4/video1/eval-episode-0.mp4.\n",
            "Moviepy - Writing video /content/logs/Tianshou_ER_DD_DQN_05_Feb_2024_13_40_33/videos/epoch_4/video1/eval-episode-0.mp4\n",
            "\n"
          ]
        },
        {
          "output_type": "stream",
          "name": "stderr",
          "text": []
        },
        {
          "output_type": "stream",
          "name": "stdout",
          "text": [
            "Moviepy - Done !\n",
            "Moviepy - video ready /content/logs/Tianshou_ER_DD_DQN_05_Feb_2024_13_40_33/videos/epoch_4/video1/eval-episode-0.mp4\n",
            "Moviepy - Building video /content/logs/Tianshou_ER_DD_DQN_05_Feb_2024_13_40_33/videos/epoch_4/video2/eval-episode-0.mp4.\n",
            "Moviepy - Writing video /content/logs/Tianshou_ER_DD_DQN_05_Feb_2024_13_40_33/videos/epoch_4/video2/eval-episode-0.mp4\n",
            "\n"
          ]
        },
        {
          "output_type": "stream",
          "name": "stderr",
          "text": []
        },
        {
          "output_type": "stream",
          "name": "stdout",
          "text": [
            "Moviepy - Done !\n",
            "Moviepy - video ready /content/logs/Tianshou_ER_DD_DQN_05_Feb_2024_13_40_33/videos/epoch_4/video2/eval-episode-0.mp4\n",
            "Moviepy - Building video /content/logs/Tianshou_ER_DD_DQN_05_Feb_2024_13_40_33/videos/epoch_4/video3/eval-episode-0.mp4.\n",
            "Moviepy - Writing video /content/logs/Tianshou_ER_DD_DQN_05_Feb_2024_13_40_33/videos/epoch_4/video3/eval-episode-0.mp4\n",
            "\n"
          ]
        },
        {
          "output_type": "stream",
          "name": "stderr",
          "text": []
        },
        {
          "output_type": "stream",
          "name": "stdout",
          "text": [
            "Moviepy - Done !\n",
            "Moviepy - video ready /content/logs/Tianshou_ER_DD_DQN_05_Feb_2024_13_40_33/videos/epoch_4/video3/eval-episode-0.mp4\n",
            "Epoch #4: test_reward: 176.752802 ± 82.657687, best_reward: 236.428035 ± 74.427672 in #3\n"
          ]
        },
        {
          "output_type": "stream",
          "name": "stderr",
          "text": [
            "Epoch #5: 100001it [12:10, 136.98it/s, env_step=500000, len=259, loss=47.359, n/ep=0, n/st=5, rew=-190.19]                            \n"
          ]
        },
        {
          "output_type": "stream",
          "name": "stdout",
          "text": [
            "Epoch = 5\n",
            "Moviepy - Building video /content/logs/Tianshou_ER_DD_DQN_05_Feb_2024_13_40_33/videos/epoch_5/video0/eval-episode-0.mp4.\n",
            "Moviepy - Writing video /content/logs/Tianshou_ER_DD_DQN_05_Feb_2024_13_40_33/videos/epoch_5/video0/eval-episode-0.mp4\n",
            "\n"
          ]
        },
        {
          "output_type": "stream",
          "name": "stderr",
          "text": []
        },
        {
          "output_type": "stream",
          "name": "stdout",
          "text": [
            "Moviepy - Done !\n",
            "Moviepy - video ready /content/logs/Tianshou_ER_DD_DQN_05_Feb_2024_13_40_33/videos/epoch_5/video0/eval-episode-0.mp4\n",
            "Moviepy - Building video /content/logs/Tianshou_ER_DD_DQN_05_Feb_2024_13_40_33/videos/epoch_5/video1/eval-episode-0.mp4.\n",
            "Moviepy - Writing video /content/logs/Tianshou_ER_DD_DQN_05_Feb_2024_13_40_33/videos/epoch_5/video1/eval-episode-0.mp4\n",
            "\n"
          ]
        },
        {
          "output_type": "stream",
          "name": "stderr",
          "text": []
        },
        {
          "output_type": "stream",
          "name": "stdout",
          "text": [
            "Moviepy - Done !\n",
            "Moviepy - video ready /content/logs/Tianshou_ER_DD_DQN_05_Feb_2024_13_40_33/videos/epoch_5/video1/eval-episode-0.mp4\n",
            "Moviepy - Building video /content/logs/Tianshou_ER_DD_DQN_05_Feb_2024_13_40_33/videos/epoch_5/video2/eval-episode-0.mp4.\n",
            "Moviepy - Writing video /content/logs/Tianshou_ER_DD_DQN_05_Feb_2024_13_40_33/videos/epoch_5/video2/eval-episode-0.mp4\n",
            "\n"
          ]
        },
        {
          "output_type": "stream",
          "name": "stderr",
          "text": []
        },
        {
          "output_type": "stream",
          "name": "stdout",
          "text": [
            "Moviepy - Done !\n",
            "Moviepy - video ready /content/logs/Tianshou_ER_DD_DQN_05_Feb_2024_13_40_33/videos/epoch_5/video2/eval-episode-0.mp4\n",
            "Moviepy - Building video /content/logs/Tianshou_ER_DD_DQN_05_Feb_2024_13_40_33/videos/epoch_5/video3/eval-episode-0.mp4.\n",
            "Moviepy - Writing video /content/logs/Tianshou_ER_DD_DQN_05_Feb_2024_13_40_33/videos/epoch_5/video3/eval-episode-0.mp4\n",
            "\n"
          ]
        },
        {
          "output_type": "stream",
          "name": "stderr",
          "text": []
        },
        {
          "output_type": "stream",
          "name": "stdout",
          "text": [
            "Moviepy - Done !\n",
            "Moviepy - video ready /content/logs/Tianshou_ER_DD_DQN_05_Feb_2024_13_40_33/videos/epoch_5/video3/eval-episode-0.mp4\n",
            "Epoch #5: test_reward: 243.341500 ± 34.913760, best_reward: 243.341500 ± 34.913760 in #5\n"
          ]
        },
        {
          "output_type": "stream",
          "name": "stderr",
          "text": [
            "Epoch #6: 100001it [12:16, 135.73it/s, env_step=600000, len=249, loss=36.782, n/ep=0, n/st=5, rew=270.77]                            \n"
          ]
        },
        {
          "output_type": "stream",
          "name": "stdout",
          "text": [
            "Epoch = 6\n",
            "Moviepy - Building video /content/logs/Tianshou_ER_DD_DQN_05_Feb_2024_13_40_33/videos/epoch_6/video0/eval-episode-0.mp4.\n",
            "Moviepy - Writing video /content/logs/Tianshou_ER_DD_DQN_05_Feb_2024_13_40_33/videos/epoch_6/video0/eval-episode-0.mp4\n",
            "\n"
          ]
        },
        {
          "output_type": "stream",
          "name": "stderr",
          "text": []
        },
        {
          "output_type": "stream",
          "name": "stdout",
          "text": [
            "Moviepy - Done !\n",
            "Moviepy - video ready /content/logs/Tianshou_ER_DD_DQN_05_Feb_2024_13_40_33/videos/epoch_6/video0/eval-episode-0.mp4\n",
            "Moviepy - Building video /content/logs/Tianshou_ER_DD_DQN_05_Feb_2024_13_40_33/videos/epoch_6/video1/eval-episode-0.mp4.\n",
            "Moviepy - Writing video /content/logs/Tianshou_ER_DD_DQN_05_Feb_2024_13_40_33/videos/epoch_6/video1/eval-episode-0.mp4\n",
            "\n"
          ]
        },
        {
          "output_type": "stream",
          "name": "stderr",
          "text": []
        },
        {
          "output_type": "stream",
          "name": "stdout",
          "text": [
            "Moviepy - Done !\n",
            "Moviepy - video ready /content/logs/Tianshou_ER_DD_DQN_05_Feb_2024_13_40_33/videos/epoch_6/video1/eval-episode-0.mp4\n",
            "Moviepy - Building video /content/logs/Tianshou_ER_DD_DQN_05_Feb_2024_13_40_33/videos/epoch_6/video2/eval-episode-0.mp4.\n",
            "Moviepy - Writing video /content/logs/Tianshou_ER_DD_DQN_05_Feb_2024_13_40_33/videos/epoch_6/video2/eval-episode-0.mp4\n",
            "\n"
          ]
        },
        {
          "output_type": "stream",
          "name": "stderr",
          "text": []
        },
        {
          "output_type": "stream",
          "name": "stdout",
          "text": [
            "Moviepy - Done !\n",
            "Moviepy - video ready /content/logs/Tianshou_ER_DD_DQN_05_Feb_2024_13_40_33/videos/epoch_6/video2/eval-episode-0.mp4\n",
            "Moviepy - Building video /content/logs/Tianshou_ER_DD_DQN_05_Feb_2024_13_40_33/videos/epoch_6/video3/eval-episode-0.mp4.\n",
            "Moviepy - Writing video /content/logs/Tianshou_ER_DD_DQN_05_Feb_2024_13_40_33/videos/epoch_6/video3/eval-episode-0.mp4\n",
            "\n"
          ]
        },
        {
          "output_type": "stream",
          "name": "stderr",
          "text": []
        },
        {
          "output_type": "stream",
          "name": "stdout",
          "text": [
            "Moviepy - Done !\n",
            "Moviepy - video ready /content/logs/Tianshou_ER_DD_DQN_05_Feb_2024_13_40_33/videos/epoch_6/video3/eval-episode-0.mp4\n",
            "Epoch #6: test_reward: 207.604551 ± 61.022276, best_reward: 243.341500 ± 34.913760 in #5\n"
          ]
        },
        {
          "output_type": "stream",
          "name": "stderr",
          "text": [
            "Epoch #7: 100001it [11:57, 139.30it/s, env_step=700000, len=162, loss=36.030, n/ep=0, n/st=5, rew=256.41]\n"
          ]
        },
        {
          "output_type": "stream",
          "name": "stdout",
          "text": [
            "Epoch = 7\n",
            "Moviepy - Building video /content/logs/Tianshou_ER_DD_DQN_05_Feb_2024_13_40_33/videos/epoch_7/video0/eval-episode-0.mp4.\n",
            "Moviepy - Writing video /content/logs/Tianshou_ER_DD_DQN_05_Feb_2024_13_40_33/videos/epoch_7/video0/eval-episode-0.mp4\n",
            "\n"
          ]
        },
        {
          "output_type": "stream",
          "name": "stderr",
          "text": []
        },
        {
          "output_type": "stream",
          "name": "stdout",
          "text": [
            "Moviepy - Done !\n",
            "Moviepy - video ready /content/logs/Tianshou_ER_DD_DQN_05_Feb_2024_13_40_33/videos/epoch_7/video0/eval-episode-0.mp4\n",
            "Moviepy - Building video /content/logs/Tianshou_ER_DD_DQN_05_Feb_2024_13_40_33/videos/epoch_7/video1/eval-episode-0.mp4.\n",
            "Moviepy - Writing video /content/logs/Tianshou_ER_DD_DQN_05_Feb_2024_13_40_33/videos/epoch_7/video1/eval-episode-0.mp4\n",
            "\n"
          ]
        },
        {
          "output_type": "stream",
          "name": "stderr",
          "text": []
        },
        {
          "output_type": "stream",
          "name": "stdout",
          "text": [
            "Moviepy - Done !\n",
            "Moviepy - video ready /content/logs/Tianshou_ER_DD_DQN_05_Feb_2024_13_40_33/videos/epoch_7/video1/eval-episode-0.mp4\n",
            "Moviepy - Building video /content/logs/Tianshou_ER_DD_DQN_05_Feb_2024_13_40_33/videos/epoch_7/video2/eval-episode-0.mp4.\n",
            "Moviepy - Writing video /content/logs/Tianshou_ER_DD_DQN_05_Feb_2024_13_40_33/videos/epoch_7/video2/eval-episode-0.mp4\n",
            "\n"
          ]
        },
        {
          "output_type": "stream",
          "name": "stderr",
          "text": []
        },
        {
          "output_type": "stream",
          "name": "stdout",
          "text": [
            "Moviepy - Done !\n",
            "Moviepy - video ready /content/logs/Tianshou_ER_DD_DQN_05_Feb_2024_13_40_33/videos/epoch_7/video2/eval-episode-0.mp4\n",
            "Moviepy - Building video /content/logs/Tianshou_ER_DD_DQN_05_Feb_2024_13_40_33/videos/epoch_7/video3/eval-episode-0.mp4.\n",
            "Moviepy - Writing video /content/logs/Tianshou_ER_DD_DQN_05_Feb_2024_13_40_33/videos/epoch_7/video3/eval-episode-0.mp4\n",
            "\n"
          ]
        },
        {
          "output_type": "stream",
          "name": "stderr",
          "text": []
        },
        {
          "output_type": "stream",
          "name": "stdout",
          "text": [
            "Moviepy - Done !\n",
            "Moviepy - video ready /content/logs/Tianshou_ER_DD_DQN_05_Feb_2024_13_40_33/videos/epoch_7/video3/eval-episode-0.mp4\n",
            "Epoch #7: test_reward: 228.489572 ± 104.764380, best_reward: 243.341500 ± 34.913760 in #5\n"
          ]
        },
        {
          "output_type": "stream",
          "name": "stderr",
          "text": [
            "Epoch #8: 100001it [11:57, 139.33it/s, env_step=800000, len=151, loss=29.932, n/ep=0, n/st=5, rew=252.93]                            \n"
          ]
        },
        {
          "output_type": "stream",
          "name": "stdout",
          "text": [
            "Epoch = 8\n",
            "Moviepy - Building video /content/logs/Tianshou_ER_DD_DQN_05_Feb_2024_13_40_33/videos/epoch_8/video0/eval-episode-0.mp4.\n",
            "Moviepy - Writing video /content/logs/Tianshou_ER_DD_DQN_05_Feb_2024_13_40_33/videos/epoch_8/video0/eval-episode-0.mp4\n",
            "\n"
          ]
        },
        {
          "output_type": "stream",
          "name": "stderr",
          "text": []
        },
        {
          "output_type": "stream",
          "name": "stdout",
          "text": [
            "Moviepy - Done !\n",
            "Moviepy - video ready /content/logs/Tianshou_ER_DD_DQN_05_Feb_2024_13_40_33/videos/epoch_8/video0/eval-episode-0.mp4\n",
            "Moviepy - Building video /content/logs/Tianshou_ER_DD_DQN_05_Feb_2024_13_40_33/videos/epoch_8/video1/eval-episode-0.mp4.\n",
            "Moviepy - Writing video /content/logs/Tianshou_ER_DD_DQN_05_Feb_2024_13_40_33/videos/epoch_8/video1/eval-episode-0.mp4\n",
            "\n"
          ]
        },
        {
          "output_type": "stream",
          "name": "stderr",
          "text": []
        },
        {
          "output_type": "stream",
          "name": "stdout",
          "text": [
            "Moviepy - Done !\n",
            "Moviepy - video ready /content/logs/Tianshou_ER_DD_DQN_05_Feb_2024_13_40_33/videos/epoch_8/video1/eval-episode-0.mp4\n",
            "Moviepy - Building video /content/logs/Tianshou_ER_DD_DQN_05_Feb_2024_13_40_33/videos/epoch_8/video2/eval-episode-0.mp4.\n",
            "Moviepy - Writing video /content/logs/Tianshou_ER_DD_DQN_05_Feb_2024_13_40_33/videos/epoch_8/video2/eval-episode-0.mp4\n",
            "\n"
          ]
        },
        {
          "output_type": "stream",
          "name": "stderr",
          "text": []
        },
        {
          "output_type": "stream",
          "name": "stdout",
          "text": [
            "Moviepy - Done !\n",
            "Moviepy - video ready /content/logs/Tianshou_ER_DD_DQN_05_Feb_2024_13_40_33/videos/epoch_8/video2/eval-episode-0.mp4\n",
            "Moviepy - Building video /content/logs/Tianshou_ER_DD_DQN_05_Feb_2024_13_40_33/videos/epoch_8/video3/eval-episode-0.mp4.\n",
            "Moviepy - Writing video /content/logs/Tianshou_ER_DD_DQN_05_Feb_2024_13_40_33/videos/epoch_8/video3/eval-episode-0.mp4\n",
            "\n"
          ]
        },
        {
          "output_type": "stream",
          "name": "stderr",
          "text": []
        },
        {
          "output_type": "stream",
          "name": "stdout",
          "text": [
            "Moviepy - Done !\n",
            "Moviepy - video ready /content/logs/Tianshou_ER_DD_DQN_05_Feb_2024_13_40_33/videos/epoch_8/video3/eval-episode-0.mp4\n",
            "Epoch #8: test_reward: 281.007235 ± 15.354798, best_reward: 281.007235 ± 15.354798 in #8\n"
          ]
        },
        {
          "output_type": "stream",
          "name": "stderr",
          "text": [
            "Epoch #9: 100001it [11:51, 140.61it/s, env_step=900000, len=146, loss=30.501, n/ep=0, n/st=5, rew=290.99]                            \n"
          ]
        },
        {
          "output_type": "stream",
          "name": "stdout",
          "text": [
            "Epoch = 9\n",
            "Moviepy - Building video /content/logs/Tianshou_ER_DD_DQN_05_Feb_2024_13_40_33/videos/epoch_9/video0/eval-episode-0.mp4.\n",
            "Moviepy - Writing video /content/logs/Tianshou_ER_DD_DQN_05_Feb_2024_13_40_33/videos/epoch_9/video0/eval-episode-0.mp4\n",
            "\n"
          ]
        },
        {
          "output_type": "stream",
          "name": "stderr",
          "text": []
        },
        {
          "output_type": "stream",
          "name": "stdout",
          "text": [
            "Moviepy - Done !\n",
            "Moviepy - video ready /content/logs/Tianshou_ER_DD_DQN_05_Feb_2024_13_40_33/videos/epoch_9/video0/eval-episode-0.mp4\n",
            "Moviepy - Building video /content/logs/Tianshou_ER_DD_DQN_05_Feb_2024_13_40_33/videos/epoch_9/video1/eval-episode-0.mp4.\n",
            "Moviepy - Writing video /content/logs/Tianshou_ER_DD_DQN_05_Feb_2024_13_40_33/videos/epoch_9/video1/eval-episode-0.mp4\n",
            "\n"
          ]
        },
        {
          "output_type": "stream",
          "name": "stderr",
          "text": []
        },
        {
          "output_type": "stream",
          "name": "stdout",
          "text": [
            "Moviepy - Done !\n",
            "Moviepy - video ready /content/logs/Tianshou_ER_DD_DQN_05_Feb_2024_13_40_33/videos/epoch_9/video1/eval-episode-0.mp4\n",
            "Moviepy - Building video /content/logs/Tianshou_ER_DD_DQN_05_Feb_2024_13_40_33/videos/epoch_9/video2/eval-episode-0.mp4.\n",
            "Moviepy - Writing video /content/logs/Tianshou_ER_DD_DQN_05_Feb_2024_13_40_33/videos/epoch_9/video2/eval-episode-0.mp4\n",
            "\n"
          ]
        },
        {
          "output_type": "stream",
          "name": "stderr",
          "text": []
        },
        {
          "output_type": "stream",
          "name": "stdout",
          "text": [
            "Moviepy - Done !\n",
            "Moviepy - video ready /content/logs/Tianshou_ER_DD_DQN_05_Feb_2024_13_40_33/videos/epoch_9/video2/eval-episode-0.mp4\n",
            "Moviepy - Building video /content/logs/Tianshou_ER_DD_DQN_05_Feb_2024_13_40_33/videos/epoch_9/video3/eval-episode-0.mp4.\n",
            "Moviepy - Writing video /content/logs/Tianshou_ER_DD_DQN_05_Feb_2024_13_40_33/videos/epoch_9/video3/eval-episode-0.mp4\n",
            "\n"
          ]
        },
        {
          "output_type": "stream",
          "name": "stderr",
          "text": []
        },
        {
          "output_type": "stream",
          "name": "stdout",
          "text": [
            "Moviepy - Done !\n",
            "Moviepy - video ready /content/logs/Tianshou_ER_DD_DQN_05_Feb_2024_13_40_33/videos/epoch_9/video3/eval-episode-0.mp4\n",
            "Epoch #9: test_reward: 273.386739 ± 14.751761, best_reward: 281.007235 ± 15.354798 in #8\n"
          ]
        },
        {
          "output_type": "stream",
          "name": "stderr",
          "text": [
            "Epoch #10: 100001it [11:46, 141.63it/s, env_step=1000000, len=188, loss=25.397, n/ep=0, n/st=5, rew=290.53]                            \n"
          ]
        },
        {
          "output_type": "stream",
          "name": "stdout",
          "text": [
            "Epoch = 10\n",
            "Moviepy - Building video /content/logs/Tianshou_ER_DD_DQN_05_Feb_2024_13_40_33/videos/epoch_10/video0/eval-episode-0.mp4.\n",
            "Moviepy - Writing video /content/logs/Tianshou_ER_DD_DQN_05_Feb_2024_13_40_33/videos/epoch_10/video0/eval-episode-0.mp4\n",
            "\n"
          ]
        },
        {
          "output_type": "stream",
          "name": "stderr",
          "text": []
        },
        {
          "output_type": "stream",
          "name": "stdout",
          "text": [
            "Moviepy - Done !\n",
            "Moviepy - video ready /content/logs/Tianshou_ER_DD_DQN_05_Feb_2024_13_40_33/videos/epoch_10/video0/eval-episode-0.mp4\n",
            "Moviepy - Building video /content/logs/Tianshou_ER_DD_DQN_05_Feb_2024_13_40_33/videos/epoch_10/video1/eval-episode-0.mp4.\n",
            "Moviepy - Writing video /content/logs/Tianshou_ER_DD_DQN_05_Feb_2024_13_40_33/videos/epoch_10/video1/eval-episode-0.mp4\n",
            "\n"
          ]
        },
        {
          "output_type": "stream",
          "name": "stderr",
          "text": []
        },
        {
          "output_type": "stream",
          "name": "stdout",
          "text": [
            "Moviepy - Done !\n",
            "Moviepy - video ready /content/logs/Tianshou_ER_DD_DQN_05_Feb_2024_13_40_33/videos/epoch_10/video1/eval-episode-0.mp4\n",
            "Moviepy - Building video /content/logs/Tianshou_ER_DD_DQN_05_Feb_2024_13_40_33/videos/epoch_10/video2/eval-episode-0.mp4.\n",
            "Moviepy - Writing video /content/logs/Tianshou_ER_DD_DQN_05_Feb_2024_13_40_33/videos/epoch_10/video2/eval-episode-0.mp4\n",
            "\n"
          ]
        },
        {
          "output_type": "stream",
          "name": "stderr",
          "text": []
        },
        {
          "output_type": "stream",
          "name": "stdout",
          "text": [
            "Moviepy - Done !\n",
            "Moviepy - video ready /content/logs/Tianshou_ER_DD_DQN_05_Feb_2024_13_40_33/videos/epoch_10/video2/eval-episode-0.mp4\n",
            "Moviepy - Building video /content/logs/Tianshou_ER_DD_DQN_05_Feb_2024_13_40_33/videos/epoch_10/video3/eval-episode-0.mp4.\n",
            "Moviepy - Writing video /content/logs/Tianshou_ER_DD_DQN_05_Feb_2024_13_40_33/videos/epoch_10/video3/eval-episode-0.mp4\n",
            "\n"
          ]
        },
        {
          "output_type": "stream",
          "name": "stderr",
          "text": []
        },
        {
          "output_type": "stream",
          "name": "stdout",
          "text": [
            "Moviepy - Done !\n",
            "Moviepy - video ready /content/logs/Tianshou_ER_DD_DQN_05_Feb_2024_13_40_33/videos/epoch_10/video3/eval-episode-0.mp4\n",
            "Epoch #10: test_reward: 285.794522 ± 15.273176, best_reward: 285.794522 ± 15.273176 in #10\n"
          ]
        },
        {
          "output_type": "stream",
          "name": "stderr",
          "text": [
            "Epoch #11: 100001it [11:48, 141.21it/s, env_step=1100000, len=224, loss=23.116, n/ep=0, n/st=5, rew=299.02]                            \n"
          ]
        },
        {
          "output_type": "stream",
          "name": "stdout",
          "text": [
            "Epoch = 11\n",
            "Moviepy - Building video /content/logs/Tianshou_ER_DD_DQN_05_Feb_2024_13_40_33/videos/epoch_11/video0/eval-episode-0.mp4.\n",
            "Moviepy - Writing video /content/logs/Tianshou_ER_DD_DQN_05_Feb_2024_13_40_33/videos/epoch_11/video0/eval-episode-0.mp4\n",
            "\n"
          ]
        },
        {
          "output_type": "stream",
          "name": "stderr",
          "text": []
        },
        {
          "output_type": "stream",
          "name": "stdout",
          "text": [
            "Moviepy - Done !\n",
            "Moviepy - video ready /content/logs/Tianshou_ER_DD_DQN_05_Feb_2024_13_40_33/videos/epoch_11/video0/eval-episode-0.mp4\n",
            "Moviepy - Building video /content/logs/Tianshou_ER_DD_DQN_05_Feb_2024_13_40_33/videos/epoch_11/video1/eval-episode-0.mp4.\n",
            "Moviepy - Writing video /content/logs/Tianshou_ER_DD_DQN_05_Feb_2024_13_40_33/videos/epoch_11/video1/eval-episode-0.mp4\n",
            "\n"
          ]
        },
        {
          "output_type": "stream",
          "name": "stderr",
          "text": []
        },
        {
          "output_type": "stream",
          "name": "stdout",
          "text": [
            "Moviepy - Done !\n",
            "Moviepy - video ready /content/logs/Tianshou_ER_DD_DQN_05_Feb_2024_13_40_33/videos/epoch_11/video1/eval-episode-0.mp4\n",
            "Moviepy - Building video /content/logs/Tianshou_ER_DD_DQN_05_Feb_2024_13_40_33/videos/epoch_11/video2/eval-episode-0.mp4.\n",
            "Moviepy - Writing video /content/logs/Tianshou_ER_DD_DQN_05_Feb_2024_13_40_33/videos/epoch_11/video2/eval-episode-0.mp4\n",
            "\n"
          ]
        },
        {
          "output_type": "stream",
          "name": "stderr",
          "text": []
        },
        {
          "output_type": "stream",
          "name": "stdout",
          "text": [
            "Moviepy - Done !\n",
            "Moviepy - video ready /content/logs/Tianshou_ER_DD_DQN_05_Feb_2024_13_40_33/videos/epoch_11/video2/eval-episode-0.mp4\n",
            "Moviepy - Building video /content/logs/Tianshou_ER_DD_DQN_05_Feb_2024_13_40_33/videos/epoch_11/video3/eval-episode-0.mp4.\n",
            "Moviepy - Writing video /content/logs/Tianshou_ER_DD_DQN_05_Feb_2024_13_40_33/videos/epoch_11/video3/eval-episode-0.mp4\n",
            "\n"
          ]
        },
        {
          "output_type": "stream",
          "name": "stderr",
          "text": []
        },
        {
          "output_type": "stream",
          "name": "stdout",
          "text": [
            "Moviepy - Done !\n",
            "Moviepy - video ready /content/logs/Tianshou_ER_DD_DQN_05_Feb_2024_13_40_33/videos/epoch_11/video3/eval-episode-0.mp4\n",
            "Epoch #11: test_reward: 280.858002 ± 15.406816, best_reward: 285.794522 ± 15.273176 in #10\n"
          ]
        },
        {
          "output_type": "stream",
          "name": "stderr",
          "text": [
            "Epoch #12: 100001it [11:48, 141.16it/s, env_step=1200000, len=155, loss=26.207, n/ep=0, n/st=5, rew=269.57]                            \n"
          ]
        },
        {
          "output_type": "stream",
          "name": "stdout",
          "text": [
            "Epoch = 12\n",
            "Moviepy - Building video /content/logs/Tianshou_ER_DD_DQN_05_Feb_2024_13_40_33/videos/epoch_12/video0/eval-episode-0.mp4.\n",
            "Moviepy - Writing video /content/logs/Tianshou_ER_DD_DQN_05_Feb_2024_13_40_33/videos/epoch_12/video0/eval-episode-0.mp4\n",
            "\n"
          ]
        },
        {
          "output_type": "stream",
          "name": "stderr",
          "text": []
        },
        {
          "output_type": "stream",
          "name": "stdout",
          "text": [
            "Moviepy - Done !\n",
            "Moviepy - video ready /content/logs/Tianshou_ER_DD_DQN_05_Feb_2024_13_40_33/videos/epoch_12/video0/eval-episode-0.mp4\n",
            "Moviepy - Building video /content/logs/Tianshou_ER_DD_DQN_05_Feb_2024_13_40_33/videos/epoch_12/video1/eval-episode-0.mp4.\n",
            "Moviepy - Writing video /content/logs/Tianshou_ER_DD_DQN_05_Feb_2024_13_40_33/videos/epoch_12/video1/eval-episode-0.mp4\n",
            "\n"
          ]
        },
        {
          "output_type": "stream",
          "name": "stderr",
          "text": []
        },
        {
          "output_type": "stream",
          "name": "stdout",
          "text": [
            "Moviepy - Done !\n",
            "Moviepy - video ready /content/logs/Tianshou_ER_DD_DQN_05_Feb_2024_13_40_33/videos/epoch_12/video1/eval-episode-0.mp4\n",
            "Moviepy - Building video /content/logs/Tianshou_ER_DD_DQN_05_Feb_2024_13_40_33/videos/epoch_12/video2/eval-episode-0.mp4.\n",
            "Moviepy - Writing video /content/logs/Tianshou_ER_DD_DQN_05_Feb_2024_13_40_33/videos/epoch_12/video2/eval-episode-0.mp4\n",
            "\n"
          ]
        },
        {
          "output_type": "stream",
          "name": "stderr",
          "text": []
        },
        {
          "output_type": "stream",
          "name": "stdout",
          "text": [
            "Moviepy - Done !\n",
            "Moviepy - video ready /content/logs/Tianshou_ER_DD_DQN_05_Feb_2024_13_40_33/videos/epoch_12/video2/eval-episode-0.mp4\n",
            "Moviepy - Building video /content/logs/Tianshou_ER_DD_DQN_05_Feb_2024_13_40_33/videos/epoch_12/video3/eval-episode-0.mp4.\n",
            "Moviepy - Writing video /content/logs/Tianshou_ER_DD_DQN_05_Feb_2024_13_40_33/videos/epoch_12/video3/eval-episode-0.mp4\n",
            "\n"
          ]
        },
        {
          "output_type": "stream",
          "name": "stderr",
          "text": []
        },
        {
          "output_type": "stream",
          "name": "stdout",
          "text": [
            "Moviepy - Done !\n",
            "Moviepy - video ready /content/logs/Tianshou_ER_DD_DQN_05_Feb_2024_13_40_33/videos/epoch_12/video3/eval-episode-0.mp4\n",
            "Epoch #12: test_reward: 282.681551 ± 20.815698, best_reward: 285.794522 ± 15.273176 in #10\n"
          ]
        },
        {
          "output_type": "stream",
          "name": "stderr",
          "text": [
            "Epoch #13: 100001it [11:40, 142.76it/s, env_step=1300000, len=158, loss=34.293, n/ep=0, n/st=5, rew=272.11]                            \n"
          ]
        },
        {
          "output_type": "stream",
          "name": "stdout",
          "text": [
            "Epoch = 13\n",
            "Moviepy - Building video /content/logs/Tianshou_ER_DD_DQN_05_Feb_2024_13_40_33/videos/epoch_13/video0/eval-episode-0.mp4.\n",
            "Moviepy - Writing video /content/logs/Tianshou_ER_DD_DQN_05_Feb_2024_13_40_33/videos/epoch_13/video0/eval-episode-0.mp4\n",
            "\n"
          ]
        },
        {
          "output_type": "stream",
          "name": "stderr",
          "text": []
        },
        {
          "output_type": "stream",
          "name": "stdout",
          "text": [
            "Moviepy - Done !\n",
            "Moviepy - video ready /content/logs/Tianshou_ER_DD_DQN_05_Feb_2024_13_40_33/videos/epoch_13/video0/eval-episode-0.mp4\n",
            "Moviepy - Building video /content/logs/Tianshou_ER_DD_DQN_05_Feb_2024_13_40_33/videos/epoch_13/video1/eval-episode-0.mp4.\n",
            "Moviepy - Writing video /content/logs/Tianshou_ER_DD_DQN_05_Feb_2024_13_40_33/videos/epoch_13/video1/eval-episode-0.mp4\n",
            "\n"
          ]
        },
        {
          "output_type": "stream",
          "name": "stderr",
          "text": []
        },
        {
          "output_type": "stream",
          "name": "stdout",
          "text": [
            "Moviepy - Done !\n",
            "Moviepy - video ready /content/logs/Tianshou_ER_DD_DQN_05_Feb_2024_13_40_33/videos/epoch_13/video1/eval-episode-0.mp4\n",
            "Moviepy - Building video /content/logs/Tianshou_ER_DD_DQN_05_Feb_2024_13_40_33/videos/epoch_13/video2/eval-episode-0.mp4.\n",
            "Moviepy - Writing video /content/logs/Tianshou_ER_DD_DQN_05_Feb_2024_13_40_33/videos/epoch_13/video2/eval-episode-0.mp4\n",
            "\n"
          ]
        },
        {
          "output_type": "stream",
          "name": "stderr",
          "text": []
        },
        {
          "output_type": "stream",
          "name": "stdout",
          "text": [
            "Moviepy - Done !\n",
            "Moviepy - video ready /content/logs/Tianshou_ER_DD_DQN_05_Feb_2024_13_40_33/videos/epoch_13/video2/eval-episode-0.mp4\n",
            "Moviepy - Building video /content/logs/Tianshou_ER_DD_DQN_05_Feb_2024_13_40_33/videos/epoch_13/video3/eval-episode-0.mp4.\n",
            "Moviepy - Writing video /content/logs/Tianshou_ER_DD_DQN_05_Feb_2024_13_40_33/videos/epoch_13/video3/eval-episode-0.mp4\n",
            "\n"
          ]
        },
        {
          "output_type": "stream",
          "name": "stderr",
          "text": []
        },
        {
          "output_type": "stream",
          "name": "stdout",
          "text": [
            "Moviepy - Done !\n",
            "Moviepy - video ready /content/logs/Tianshou_ER_DD_DQN_05_Feb_2024_13_40_33/videos/epoch_13/video3/eval-episode-0.mp4\n",
            "Epoch #13: test_reward: 287.625486 ± 14.655282, best_reward: 287.625486 ± 14.655282 in #13\n"
          ]
        },
        {
          "output_type": "stream",
          "name": "stderr",
          "text": [
            "Epoch #14: 100001it [11:55, 139.68it/s, env_step=1400000, len=190, loss=33.722, n/ep=0, n/st=5, rew=292.49]                            \n"
          ]
        },
        {
          "output_type": "stream",
          "name": "stdout",
          "text": [
            "Epoch = 14\n",
            "Moviepy - Building video /content/logs/Tianshou_ER_DD_DQN_05_Feb_2024_13_40_33/videos/epoch_14/video0/eval-episode-0.mp4.\n",
            "Moviepy - Writing video /content/logs/Tianshou_ER_DD_DQN_05_Feb_2024_13_40_33/videos/epoch_14/video0/eval-episode-0.mp4\n",
            "\n"
          ]
        },
        {
          "output_type": "stream",
          "name": "stderr",
          "text": []
        },
        {
          "output_type": "stream",
          "name": "stdout",
          "text": [
            "Moviepy - Done !\n",
            "Moviepy - video ready /content/logs/Tianshou_ER_DD_DQN_05_Feb_2024_13_40_33/videos/epoch_14/video0/eval-episode-0.mp4\n",
            "Moviepy - Building video /content/logs/Tianshou_ER_DD_DQN_05_Feb_2024_13_40_33/videos/epoch_14/video1/eval-episode-0.mp4.\n",
            "Moviepy - Writing video /content/logs/Tianshou_ER_DD_DQN_05_Feb_2024_13_40_33/videos/epoch_14/video1/eval-episode-0.mp4\n",
            "\n"
          ]
        },
        {
          "output_type": "stream",
          "name": "stderr",
          "text": []
        },
        {
          "output_type": "stream",
          "name": "stdout",
          "text": [
            "Moviepy - Done !\n",
            "Moviepy - video ready /content/logs/Tianshou_ER_DD_DQN_05_Feb_2024_13_40_33/videos/epoch_14/video1/eval-episode-0.mp4\n",
            "Moviepy - Building video /content/logs/Tianshou_ER_DD_DQN_05_Feb_2024_13_40_33/videos/epoch_14/video2/eval-episode-0.mp4.\n",
            "Moviepy - Writing video /content/logs/Tianshou_ER_DD_DQN_05_Feb_2024_13_40_33/videos/epoch_14/video2/eval-episode-0.mp4\n",
            "\n"
          ]
        },
        {
          "output_type": "stream",
          "name": "stderr",
          "text": []
        },
        {
          "output_type": "stream",
          "name": "stdout",
          "text": [
            "Moviepy - Done !\n",
            "Moviepy - video ready /content/logs/Tianshou_ER_DD_DQN_05_Feb_2024_13_40_33/videos/epoch_14/video2/eval-episode-0.mp4\n",
            "Moviepy - Building video /content/logs/Tianshou_ER_DD_DQN_05_Feb_2024_13_40_33/videos/epoch_14/video3/eval-episode-0.mp4.\n",
            "Moviepy - Writing video /content/logs/Tianshou_ER_DD_DQN_05_Feb_2024_13_40_33/videos/epoch_14/video3/eval-episode-0.mp4\n",
            "\n"
          ]
        },
        {
          "output_type": "stream",
          "name": "stderr",
          "text": []
        },
        {
          "output_type": "stream",
          "name": "stdout",
          "text": [
            "Moviepy - Done !\n",
            "Moviepy - video ready /content/logs/Tianshou_ER_DD_DQN_05_Feb_2024_13_40_33/videos/epoch_14/video3/eval-episode-0.mp4\n",
            "Epoch #14: test_reward: 283.952697 ± 12.908026, best_reward: 287.625486 ± 14.655282 in #13\n"
          ]
        },
        {
          "output_type": "stream",
          "name": "stderr",
          "text": [
            "Epoch #15: 100001it [11:56, 139.58it/s, env_step=1500000, len=137, loss=20.360, n/ep=0, n/st=5, rew=269.66]                            \n"
          ]
        },
        {
          "output_type": "stream",
          "name": "stdout",
          "text": [
            "Epoch = 15\n",
            "Moviepy - Building video /content/logs/Tianshou_ER_DD_DQN_05_Feb_2024_13_40_33/videos/epoch_15/video0/eval-episode-0.mp4.\n",
            "Moviepy - Writing video /content/logs/Tianshou_ER_DD_DQN_05_Feb_2024_13_40_33/videos/epoch_15/video0/eval-episode-0.mp4\n",
            "\n"
          ]
        },
        {
          "output_type": "stream",
          "name": "stderr",
          "text": []
        },
        {
          "output_type": "stream",
          "name": "stdout",
          "text": [
            "Moviepy - Done !\n",
            "Moviepy - video ready /content/logs/Tianshou_ER_DD_DQN_05_Feb_2024_13_40_33/videos/epoch_15/video0/eval-episode-0.mp4\n",
            "Moviepy - Building video /content/logs/Tianshou_ER_DD_DQN_05_Feb_2024_13_40_33/videos/epoch_15/video1/eval-episode-0.mp4.\n",
            "Moviepy - Writing video /content/logs/Tianshou_ER_DD_DQN_05_Feb_2024_13_40_33/videos/epoch_15/video1/eval-episode-0.mp4\n",
            "\n"
          ]
        },
        {
          "output_type": "stream",
          "name": "stderr",
          "text": []
        },
        {
          "output_type": "stream",
          "name": "stdout",
          "text": [
            "Moviepy - Done !\n",
            "Moviepy - video ready /content/logs/Tianshou_ER_DD_DQN_05_Feb_2024_13_40_33/videos/epoch_15/video1/eval-episode-0.mp4\n",
            "Moviepy - Building video /content/logs/Tianshou_ER_DD_DQN_05_Feb_2024_13_40_33/videos/epoch_15/video2/eval-episode-0.mp4.\n",
            "Moviepy - Writing video /content/logs/Tianshou_ER_DD_DQN_05_Feb_2024_13_40_33/videos/epoch_15/video2/eval-episode-0.mp4\n",
            "\n"
          ]
        },
        {
          "output_type": "stream",
          "name": "stderr",
          "text": []
        },
        {
          "output_type": "stream",
          "name": "stdout",
          "text": [
            "Moviepy - Done !\n",
            "Moviepy - video ready /content/logs/Tianshou_ER_DD_DQN_05_Feb_2024_13_40_33/videos/epoch_15/video2/eval-episode-0.mp4\n",
            "Moviepy - Building video /content/logs/Tianshou_ER_DD_DQN_05_Feb_2024_13_40_33/videos/epoch_15/video3/eval-episode-0.mp4.\n",
            "Moviepy - Writing video /content/logs/Tianshou_ER_DD_DQN_05_Feb_2024_13_40_33/videos/epoch_15/video3/eval-episode-0.mp4\n",
            "\n"
          ]
        },
        {
          "output_type": "stream",
          "name": "stderr",
          "text": []
        },
        {
          "output_type": "stream",
          "name": "stdout",
          "text": [
            "Moviepy - Done !\n",
            "Moviepy - video ready /content/logs/Tianshou_ER_DD_DQN_05_Feb_2024_13_40_33/videos/epoch_15/video3/eval-episode-0.mp4\n",
            "Epoch #15: test_reward: 273.420183 ± 45.720027, best_reward: 287.625486 ± 14.655282 in #13\n"
          ]
        },
        {
          "output_type": "stream",
          "name": "stderr",
          "text": [
            "WARNING:tensorflow:From /usr/local/lib/python3.10/dist-packages/tensorflow/python/summary/summary_iterator.py:27: tf_record_iterator (from tensorflow.python.lib.io.tf_record) is deprecated and will be removed in a future version.\n",
            "Instructions for updating:\n",
            "Use eager execution and: \n",
            "`tf.data.TFRecordDataset(path)`\n"
          ]
        },
        {
          "output_type": "stream",
          "name": "stdout",
          "text": [
            "Finished training! Use 11455.60s\n"
          ]
        },
        {
          "output_type": "error",
          "ename": "AttributeError",
          "evalue": "module 'gymnasium.wrappers' has no attribute 'Monitor'",
          "traceback": [
            "\u001b[0;31m---------------------------------------------------------------------------\u001b[0m",
            "\u001b[0;31mAttributeError\u001b[0m                            Traceback (most recent call last)",
            "\u001b[0;32m<ipython-input-57-c3ed6495cd25>\u001b[0m in \u001b[0;36m<cell line: 1>\u001b[0;34m()\u001b[0m\n\u001b[1;32m    104\u001b[0m     \u001b[0mnum_episodes\u001b[0m \u001b[0;34m=\u001b[0m \u001b[0;36m10\u001b[0m\u001b[0;34m\u001b[0m\u001b[0;34m\u001b[0m\u001b[0m\n\u001b[1;32m    105\u001b[0m     \u001b[0;32mfor\u001b[0m \u001b[0mi\u001b[0m \u001b[0;32min\u001b[0m \u001b[0mrange\u001b[0m\u001b[0;34m(\u001b[0m\u001b[0mnum_episodes\u001b[0m\u001b[0;34m)\u001b[0m\u001b[0;34m:\u001b[0m\u001b[0;34m\u001b[0m\u001b[0;34m\u001b[0m\u001b[0m\n\u001b[0;32m--> 106\u001b[0;31m         env = ts.env.DummyVectorEnv([lambda: wrappers.Monitor(env=gym.make(env_id),\n\u001b[0m\u001b[1;32m    107\u001b[0m                                                               \u001b[0mdirectory\u001b[0m\u001b[0;34m=\u001b[0m\u001b[0mlog_dir\u001b[0m \u001b[0;34m+\u001b[0m \u001b[0;34m'/videos/final_agent/video'\u001b[0m \u001b[0;34m+\u001b[0m \u001b[0mstr\u001b[0m\u001b[0;34m(\u001b[0m\u001b[0mi\u001b[0m\u001b[0;34m)\u001b[0m\u001b[0;34m,\u001b[0m\u001b[0;34m\u001b[0m\u001b[0;34m\u001b[0m\u001b[0m\n\u001b[1;32m    108\u001b[0m                                                               force=False) for _ in range(1)])\n",
            "\u001b[0;32m/usr/local/lib/python3.10/dist-packages/tianshou/env/venvs.py\u001b[0m in \u001b[0;36m__init__\u001b[0;34m(self, env_fns, **kwargs)\u001b[0m\n\u001b[1;32m    437\u001b[0m \u001b[0;34m\u001b[0m\u001b[0m\n\u001b[1;32m    438\u001b[0m     \u001b[0;32mdef\u001b[0m \u001b[0m__init__\u001b[0m\u001b[0;34m(\u001b[0m\u001b[0mself\u001b[0m\u001b[0;34m,\u001b[0m \u001b[0menv_fns\u001b[0m\u001b[0;34m:\u001b[0m \u001b[0mList\u001b[0m\u001b[0;34m[\u001b[0m\u001b[0mCallable\u001b[0m\u001b[0;34m[\u001b[0m\u001b[0;34m[\u001b[0m\u001b[0;34m]\u001b[0m\u001b[0;34m,\u001b[0m \u001b[0mENV_TYPE\u001b[0m\u001b[0;34m]\u001b[0m\u001b[0;34m]\u001b[0m\u001b[0;34m,\u001b[0m \u001b[0;34m**\u001b[0m\u001b[0mkwargs\u001b[0m\u001b[0;34m:\u001b[0m \u001b[0mAny\u001b[0m\u001b[0;34m)\u001b[0m \u001b[0;34m->\u001b[0m \u001b[0;32mNone\u001b[0m\u001b[0;34m:\u001b[0m\u001b[0;34m\u001b[0m\u001b[0;34m\u001b[0m\u001b[0m\n\u001b[0;32m--> 439\u001b[0;31m         \u001b[0msuper\u001b[0m\u001b[0;34m(\u001b[0m\u001b[0;34m)\u001b[0m\u001b[0;34m.\u001b[0m\u001b[0m__init__\u001b[0m\u001b[0;34m(\u001b[0m\u001b[0menv_fns\u001b[0m\u001b[0;34m,\u001b[0m \u001b[0mDummyEnvWorker\u001b[0m\u001b[0;34m,\u001b[0m \u001b[0;34m**\u001b[0m\u001b[0mkwargs\u001b[0m\u001b[0;34m)\u001b[0m\u001b[0;34m\u001b[0m\u001b[0;34m\u001b[0m\u001b[0m\n\u001b[0m\u001b[1;32m    440\u001b[0m \u001b[0;34m\u001b[0m\u001b[0m\n\u001b[1;32m    441\u001b[0m \u001b[0;34m\u001b[0m\u001b[0m\n",
            "\u001b[0;32m/usr/local/lib/python3.10/dist-packages/tianshou/env/venvs.py\u001b[0m in \u001b[0;36m__init__\u001b[0;34m(self, env_fns, worker_fn, wait_num, timeout)\u001b[0m\n\u001b[1;32m    147\u001b[0m         \u001b[0;31m# A VectorEnv contains a pool of EnvWorkers, which corresponds to\u001b[0m\u001b[0;34m\u001b[0m\u001b[0;34m\u001b[0m\u001b[0m\n\u001b[1;32m    148\u001b[0m         \u001b[0;31m# interact with the given envs (one worker <-> one env).\u001b[0m\u001b[0;34m\u001b[0m\u001b[0;34m\u001b[0m\u001b[0m\n\u001b[0;32m--> 149\u001b[0;31m         \u001b[0mself\u001b[0m\u001b[0;34m.\u001b[0m\u001b[0mworkers\u001b[0m \u001b[0;34m=\u001b[0m \u001b[0;34m[\u001b[0m\u001b[0mworker_fn\u001b[0m\u001b[0;34m(\u001b[0m\u001b[0m_patch_env_generator\u001b[0m\u001b[0;34m(\u001b[0m\u001b[0mfn\u001b[0m\u001b[0;34m)\u001b[0m\u001b[0;34m)\u001b[0m \u001b[0;32mfor\u001b[0m \u001b[0mfn\u001b[0m \u001b[0;32min\u001b[0m \u001b[0menv_fns\u001b[0m\u001b[0;34m]\u001b[0m\u001b[0;34m\u001b[0m\u001b[0;34m\u001b[0m\u001b[0m\n\u001b[0m\u001b[1;32m    150\u001b[0m         \u001b[0mself\u001b[0m\u001b[0;34m.\u001b[0m\u001b[0mworker_class\u001b[0m \u001b[0;34m=\u001b[0m \u001b[0mtype\u001b[0m\u001b[0;34m(\u001b[0m\u001b[0mself\u001b[0m\u001b[0;34m.\u001b[0m\u001b[0mworkers\u001b[0m\u001b[0;34m[\u001b[0m\u001b[0;36m0\u001b[0m\u001b[0;34m]\u001b[0m\u001b[0;34m)\u001b[0m\u001b[0;34m\u001b[0m\u001b[0;34m\u001b[0m\u001b[0m\n\u001b[1;32m    151\u001b[0m         \u001b[0;32massert\u001b[0m \u001b[0missubclass\u001b[0m\u001b[0;34m(\u001b[0m\u001b[0mself\u001b[0m\u001b[0;34m.\u001b[0m\u001b[0mworker_class\u001b[0m\u001b[0;34m,\u001b[0m \u001b[0mEnvWorker\u001b[0m\u001b[0;34m)\u001b[0m\u001b[0;34m\u001b[0m\u001b[0;34m\u001b[0m\u001b[0m\n",
            "\u001b[0;32m/usr/local/lib/python3.10/dist-packages/tianshou/env/venvs.py\u001b[0m in \u001b[0;36m<listcomp>\u001b[0;34m(.0)\u001b[0m\n\u001b[1;32m    147\u001b[0m         \u001b[0;31m# A VectorEnv contains a pool of EnvWorkers, which corresponds to\u001b[0m\u001b[0;34m\u001b[0m\u001b[0;34m\u001b[0m\u001b[0m\n\u001b[1;32m    148\u001b[0m         \u001b[0;31m# interact with the given envs (one worker <-> one env).\u001b[0m\u001b[0;34m\u001b[0m\u001b[0;34m\u001b[0m\u001b[0m\n\u001b[0;32m--> 149\u001b[0;31m         \u001b[0mself\u001b[0m\u001b[0;34m.\u001b[0m\u001b[0mworkers\u001b[0m \u001b[0;34m=\u001b[0m \u001b[0;34m[\u001b[0m\u001b[0mworker_fn\u001b[0m\u001b[0;34m(\u001b[0m\u001b[0m_patch_env_generator\u001b[0m\u001b[0;34m(\u001b[0m\u001b[0mfn\u001b[0m\u001b[0;34m)\u001b[0m\u001b[0;34m)\u001b[0m \u001b[0;32mfor\u001b[0m \u001b[0mfn\u001b[0m \u001b[0;32min\u001b[0m \u001b[0menv_fns\u001b[0m\u001b[0;34m]\u001b[0m\u001b[0;34m\u001b[0m\u001b[0;34m\u001b[0m\u001b[0m\n\u001b[0m\u001b[1;32m    150\u001b[0m         \u001b[0mself\u001b[0m\u001b[0;34m.\u001b[0m\u001b[0mworker_class\u001b[0m \u001b[0;34m=\u001b[0m \u001b[0mtype\u001b[0m\u001b[0;34m(\u001b[0m\u001b[0mself\u001b[0m\u001b[0;34m.\u001b[0m\u001b[0mworkers\u001b[0m\u001b[0;34m[\u001b[0m\u001b[0;36m0\u001b[0m\u001b[0;34m]\u001b[0m\u001b[0;34m)\u001b[0m\u001b[0;34m\u001b[0m\u001b[0;34m\u001b[0m\u001b[0m\n\u001b[1;32m    151\u001b[0m         \u001b[0;32massert\u001b[0m \u001b[0missubclass\u001b[0m\u001b[0;34m(\u001b[0m\u001b[0mself\u001b[0m\u001b[0;34m.\u001b[0m\u001b[0mworker_class\u001b[0m\u001b[0;34m,\u001b[0m \u001b[0mEnvWorker\u001b[0m\u001b[0;34m)\u001b[0m\u001b[0;34m\u001b[0m\u001b[0;34m\u001b[0m\u001b[0m\n",
            "\u001b[0;32m/usr/local/lib/python3.10/dist-packages/tianshou/env/worker/dummy.py\u001b[0m in \u001b[0;36m__init__\u001b[0;34m(self, env_fn)\u001b[0m\n\u001b[1;32m     11\u001b[0m \u001b[0;34m\u001b[0m\u001b[0m\n\u001b[1;32m     12\u001b[0m     \u001b[0;32mdef\u001b[0m \u001b[0m__init__\u001b[0m\u001b[0;34m(\u001b[0m\u001b[0mself\u001b[0m\u001b[0;34m,\u001b[0m \u001b[0menv_fn\u001b[0m\u001b[0;34m:\u001b[0m \u001b[0mCallable\u001b[0m\u001b[0;34m[\u001b[0m\u001b[0;34m[\u001b[0m\u001b[0;34m]\u001b[0m\u001b[0;34m,\u001b[0m \u001b[0mgym\u001b[0m\u001b[0;34m.\u001b[0m\u001b[0mEnv\u001b[0m\u001b[0;34m]\u001b[0m\u001b[0;34m)\u001b[0m \u001b[0;34m->\u001b[0m \u001b[0;32mNone\u001b[0m\u001b[0;34m:\u001b[0m\u001b[0;34m\u001b[0m\u001b[0;34m\u001b[0m\u001b[0m\n\u001b[0;32m---> 13\u001b[0;31m         \u001b[0mself\u001b[0m\u001b[0;34m.\u001b[0m\u001b[0menv\u001b[0m \u001b[0;34m=\u001b[0m \u001b[0menv_fn\u001b[0m\u001b[0;34m(\u001b[0m\u001b[0;34m)\u001b[0m\u001b[0;34m\u001b[0m\u001b[0;34m\u001b[0m\u001b[0m\n\u001b[0m\u001b[1;32m     14\u001b[0m         \u001b[0msuper\u001b[0m\u001b[0;34m(\u001b[0m\u001b[0;34m)\u001b[0m\u001b[0;34m.\u001b[0m\u001b[0m__init__\u001b[0m\u001b[0;34m(\u001b[0m\u001b[0menv_fn\u001b[0m\u001b[0;34m)\u001b[0m\u001b[0;34m\u001b[0m\u001b[0;34m\u001b[0m\u001b[0m\n\u001b[1;32m     15\u001b[0m \u001b[0;34m\u001b[0m\u001b[0m\n",
            "\u001b[0;32m/usr/local/lib/python3.10/dist-packages/tianshou/env/venvs.py\u001b[0m in \u001b[0;36mpatched\u001b[0;34m()\u001b[0m\n\u001b[1;32m     42\u001b[0m         ), \"Env generators that are provided to vector environemnts must be callable.\"\n\u001b[1;32m     43\u001b[0m \u001b[0;34m\u001b[0m\u001b[0m\n\u001b[0;32m---> 44\u001b[0;31m         \u001b[0menv\u001b[0m \u001b[0;34m=\u001b[0m \u001b[0mfn\u001b[0m\u001b[0;34m(\u001b[0m\u001b[0;34m)\u001b[0m\u001b[0;34m\u001b[0m\u001b[0;34m\u001b[0m\u001b[0m\n\u001b[0m\u001b[1;32m     45\u001b[0m         \u001b[0;32mif\u001b[0m \u001b[0misinstance\u001b[0m\u001b[0;34m(\u001b[0m\u001b[0menv\u001b[0m\u001b[0;34m,\u001b[0m \u001b[0;34m(\u001b[0m\u001b[0mgym\u001b[0m\u001b[0;34m.\u001b[0m\u001b[0mEnv\u001b[0m\u001b[0;34m,\u001b[0m \u001b[0mPettingZooEnv\u001b[0m\u001b[0;34m)\u001b[0m\u001b[0;34m)\u001b[0m\u001b[0;34m:\u001b[0m\u001b[0;34m\u001b[0m\u001b[0;34m\u001b[0m\u001b[0m\n\u001b[1;32m     46\u001b[0m             \u001b[0;32mreturn\u001b[0m \u001b[0menv\u001b[0m\u001b[0;34m\u001b[0m\u001b[0;34m\u001b[0m\u001b[0m\n",
            "\u001b[0;32m<ipython-input-57-c3ed6495cd25>\u001b[0m in \u001b[0;36m<lambda>\u001b[0;34m()\u001b[0m\n\u001b[1;32m    104\u001b[0m     \u001b[0mnum_episodes\u001b[0m \u001b[0;34m=\u001b[0m \u001b[0;36m10\u001b[0m\u001b[0;34m\u001b[0m\u001b[0;34m\u001b[0m\u001b[0m\n\u001b[1;32m    105\u001b[0m     \u001b[0;32mfor\u001b[0m \u001b[0mi\u001b[0m \u001b[0;32min\u001b[0m \u001b[0mrange\u001b[0m\u001b[0;34m(\u001b[0m\u001b[0mnum_episodes\u001b[0m\u001b[0;34m)\u001b[0m\u001b[0;34m:\u001b[0m\u001b[0;34m\u001b[0m\u001b[0;34m\u001b[0m\u001b[0m\n\u001b[0;32m--> 106\u001b[0;31m         env = ts.env.DummyVectorEnv([lambda: wrappers.Monitor(env=gym.make(env_id),\n\u001b[0m\u001b[1;32m    107\u001b[0m                                                               \u001b[0mdirectory\u001b[0m\u001b[0;34m=\u001b[0m\u001b[0mlog_dir\u001b[0m \u001b[0;34m+\u001b[0m \u001b[0;34m'/videos/final_agent/video'\u001b[0m \u001b[0;34m+\u001b[0m \u001b[0mstr\u001b[0m\u001b[0;34m(\u001b[0m\u001b[0mi\u001b[0m\u001b[0;34m)\u001b[0m\u001b[0;34m,\u001b[0m\u001b[0;34m\u001b[0m\u001b[0;34m\u001b[0m\u001b[0m\n\u001b[1;32m    108\u001b[0m                                                               force=False) for _ in range(1)])\n",
            "\u001b[0;31mAttributeError\u001b[0m: module 'gymnasium.wrappers' has no attribute 'Monitor'"
          ]
        },
        {
          "output_type": "display_data",
          "data": {
            "text/plain": [
              "<Figure size 640x480 with 1 Axes>"
            ],
            "image/png": "[encoded data removed]"
          },
          "metadata": {}
        }
      ]
    },
    {
      "cell_type": "code",
      "source": [
        "# Record Episode Video\n",
        "num_episodes = 10\n",
        "for i in range(num_episodes):\n",
        "    env = ts.env.DummyVectorEnv([lambda: wrappers.RecordVideo(env=gym.make(env_id, render_mode=\"rgb_array\"),\n",
        "                                                              video_folder=log_dir + '/videos/final_agent/video' + str(i),\n",
        "                                                              name_prefix=\"eval\",\n",
        "                                                              episode_trigger=lambda x: True) for _ in range(1)])\n",
        "\n",
        "    # Video\n",
        "    policy.eval()\n",
        "    policy.set_eps(0.00)\n",
        "    collector = ts.data.Collector(policy, env, exploration_noise=True)\n",
        "    collector.collect(n_episode=1, render=1 / 60)\n",
        "\n",
        "# Save policy\n",
        "torch.save(policy.state_dict(), log_dir + 'dqn.pth')\n",
        "\n",
        "# Execution Time\n",
        "end = time.perf_counter()  # tensorboard --logdir './Box2D/LunarLander/logs'\n",
        "print(f\"\\nExecution time = {end - start:.2f} second(s)\")"
      ],
      "metadata": {
        "colab": {
          "base_uri": "https://localhost:8080/"
        },
        "id": "RzmfNJGUPsd3",
        "outputId": "f9d57aff-fa04-4e11-f67d-ced1e445c5fc"
      },
      "execution_count": null,
      "outputs": [
        {
          "output_type": "stream",
          "name": "stdout",
          "text": [
            "Moviepy - Building video /content/logs/Tianshou_ER_DD_DQN_05_Feb_2024_13_40_33/videos/final_agent/video0/eval-episode-0.mp4.\n",
            "Moviepy - Writing video /content/logs/Tianshou_ER_DD_DQN_05_Feb_2024_13_40_33/videos/final_agent/video0/eval-episode-0.mp4\n",
            "\n"
          ]
        },
        {
          "output_type": "stream",
          "name": "stderr",
          "text": []
        },
        {
          "output_type": "stream",
          "name": "stdout",
          "text": [
            "Moviepy - Done !\n",
            "Moviepy - video ready /content/logs/Tianshou_ER_DD_DQN_05_Feb_2024_13_40_33/videos/final_agent/video0/eval-episode-0.mp4\n"
          ]
        },
        {
          "output_type": "stream",
          "name": "stderr",
          "text": [
            "/usr/local/lib/python3.10/dist-packages/gymnasium/wrappers/monitoring/video_recorder.py:178: UserWarning: \u001b[33mWARN: Unable to save last video! Did you call close()?\u001b[0m\n",
            "  logger.warn(\"Unable to save last video! Did you call close()?\")\n"
          ]
        },
        {
          "output_type": "stream",
          "name": "stdout",
          "text": [
            "Moviepy - Building video /content/logs/Tianshou_ER_DD_DQN_05_Feb_2024_13_40_33/videos/final_agent/video1/eval-episode-0.mp4.\n",
            "Moviepy - Writing video /content/logs/Tianshou_ER_DD_DQN_05_Feb_2024_13_40_33/videos/final_agent/video1/eval-episode-0.mp4\n",
            "\n"
          ]
        },
        {
          "output_type": "stream",
          "name": "stderr",
          "text": []
        },
        {
          "output_type": "stream",
          "name": "stdout",
          "text": [
            "Moviepy - Done !\n",
            "Moviepy - video ready /content/logs/Tianshou_ER_DD_DQN_05_Feb_2024_13_40_33/videos/final_agent/video1/eval-episode-0.mp4\n",
            "Moviepy - Building video /content/logs/Tianshou_ER_DD_DQN_05_Feb_2024_13_40_33/videos/final_agent/video2/eval-episode-0.mp4.\n",
            "Moviepy - Writing video /content/logs/Tianshou_ER_DD_DQN_05_Feb_2024_13_40_33/videos/final_agent/video2/eval-episode-0.mp4\n",
            "\n"
          ]
        },
        {
          "output_type": "stream",
          "name": "stderr",
          "text": []
        },
        {
          "output_type": "stream",
          "name": "stdout",
          "text": [
            "Moviepy - Done !\n",
            "Moviepy - video ready /content/logs/Tianshou_ER_DD_DQN_05_Feb_2024_13_40_33/videos/final_agent/video2/eval-episode-0.mp4\n",
            "Moviepy - Building video /content/logs/Tianshou_ER_DD_DQN_05_Feb_2024_13_40_33/videos/final_agent/video3/eval-episode-0.mp4.\n",
            "Moviepy - Writing video /content/logs/Tianshou_ER_DD_DQN_05_Feb_2024_13_40_33/videos/final_agent/video3/eval-episode-0.mp4\n",
            "\n"
          ]
        },
        {
          "output_type": "stream",
          "name": "stderr",
          "text": []
        },
        {
          "output_type": "stream",
          "name": "stdout",
          "text": [
            "Moviepy - Done !\n",
            "Moviepy - video ready /content/logs/Tianshou_ER_DD_DQN_05_Feb_2024_13_40_33/videos/final_agent/video3/eval-episode-0.mp4\n",
            "Moviepy - Building video /content/logs/Tianshou_ER_DD_DQN_05_Feb_2024_13_40_33/videos/final_agent/video4/eval-episode-0.mp4.\n",
            "Moviepy - Writing video /content/logs/Tianshou_ER_DD_DQN_05_Feb_2024_13_40_33/videos/final_agent/video4/eval-episode-0.mp4\n",
            "\n"
          ]
        },
        {
          "output_type": "stream",
          "name": "stderr",
          "text": []
        },
        {
          "output_type": "stream",
          "name": "stdout",
          "text": [
            "Moviepy - Done !\n",
            "Moviepy - video ready /content/logs/Tianshou_ER_DD_DQN_05_Feb_2024_13_40_33/videos/final_agent/video4/eval-episode-0.mp4\n",
            "Moviepy - Building video /content/logs/Tianshou_ER_DD_DQN_05_Feb_2024_13_40_33/videos/final_agent/video5/eval-episode-0.mp4.\n",
            "Moviepy - Writing video /content/logs/Tianshou_ER_DD_DQN_05_Feb_2024_13_40_33/videos/final_agent/video5/eval-episode-0.mp4\n",
            "\n"
          ]
        },
        {
          "output_type": "stream",
          "name": "stderr",
          "text": []
        },
        {
          "output_type": "stream",
          "name": "stdout",
          "text": [
            "Moviepy - Done !\n",
            "Moviepy - video ready /content/logs/Tianshou_ER_DD_DQN_05_Feb_2024_13_40_33/videos/final_agent/video5/eval-episode-0.mp4\n",
            "Moviepy - Building video /content/logs/Tianshou_ER_DD_DQN_05_Feb_2024_13_40_33/videos/final_agent/video6/eval-episode-0.mp4.\n",
            "Moviepy - Writing video /content/logs/Tianshou_ER_DD_DQN_05_Feb_2024_13_40_33/videos/final_agent/video6/eval-episode-0.mp4\n",
            "\n"
          ]
        },
        {
          "output_type": "stream",
          "name": "stderr",
          "text": []
        },
        {
          "output_type": "stream",
          "name": "stdout",
          "text": [
            "Moviepy - Done !\n",
            "Moviepy - video ready /content/logs/Tianshou_ER_DD_DQN_05_Feb_2024_13_40_33/videos/final_agent/video6/eval-episode-0.mp4\n",
            "Moviepy - Building video /content/logs/Tianshou_ER_DD_DQN_05_Feb_2024_13_40_33/videos/final_agent/video7/eval-episode-0.mp4.\n",
            "Moviepy - Writing video /content/logs/Tianshou_ER_DD_DQN_05_Feb_2024_13_40_33/videos/final_agent/video7/eval-episode-0.mp4\n",
            "\n"
          ]
        },
        {
          "output_type": "stream",
          "name": "stderr",
          "text": []
        },
        {
          "output_type": "stream",
          "name": "stdout",
          "text": [
            "Moviepy - Done !\n",
            "Moviepy - video ready /content/logs/Tianshou_ER_DD_DQN_05_Feb_2024_13_40_33/videos/final_agent/video7/eval-episode-0.mp4\n",
            "Moviepy - Building video /content/logs/Tianshou_ER_DD_DQN_05_Feb_2024_13_40_33/videos/final_agent/video8/eval-episode-0.mp4.\n",
            "Moviepy - Writing video /content/logs/Tianshou_ER_DD_DQN_05_Feb_2024_13_40_33/videos/final_agent/video8/eval-episode-0.mp4\n",
            "\n"
          ]
        },
        {
          "output_type": "stream",
          "name": "stderr",
          "text": []
        },
        {
          "output_type": "stream",
          "name": "stdout",
          "text": [
            "Moviepy - Done !\n",
            "Moviepy - video ready /content/logs/Tianshou_ER_DD_DQN_05_Feb_2024_13_40_33/videos/final_agent/video8/eval-episode-0.mp4\n",
            "Moviepy - Building video /content/logs/Tianshou_ER_DD_DQN_05_Feb_2024_13_40_33/videos/final_agent/video9/eval-episode-0.mp4.\n",
            "Moviepy - Writing video /content/logs/Tianshou_ER_DD_DQN_05_Feb_2024_13_40_33/videos/final_agent/video9/eval-episode-0.mp4\n",
            "\n"
          ]
        },
        {
          "output_type": "stream",
          "name": "stderr",
          "text": []
        },
        {
          "output_type": "stream",
          "name": "stdout",
          "text": [
            "Moviepy - Done !\n",
            "Moviepy - video ready /content/logs/Tianshou_ER_DD_DQN_05_Feb_2024_13_40_33/videos/final_agent/video9/eval-episode-0.mp4\n",
            "\n",
            "Execution time = 12613.52 second(s)\n"
          ]
        }
      ]
    },
    {
      "cell_type": "markdown",
      "source": [
        "The main part of the Lunar Lander project orchestrates the training process of the reinforcement learning agent to solve the LunarLander-v2 environment. Here's a detailed explanation of each component within the main section:"
      ],
      "metadata": {
        "id": "twAJFTeauxLa"
      }
    },
    {
      "cell_type": "markdown",
      "source": [
        "1. **Setup Environment and Logging**:\n",
        "\n",
        "  Initializes the Gym environment for LunarLander-v2 and sets up logging directories for storing training data and Tensorboard logging.\n",
        "2. **Initialize Neural Network and Optimizer**:\n",
        "\n",
        "  Defines the neural network architecture for the DQN agent and initializes the optimizer for training.\n",
        "3. **Initialize Policy and Collectors**:\n",
        "\n",
        "  Configures the DQN policy and sets up data collectors for both training and testing phases.\n",
        "4. **Define Epsilon Schedule Function**:\n",
        "\n",
        "  Constructs an epsilon schedule function to adjust the exploration rate during training.\n",
        "5. **Define Test Function**:\n",
        "\n",
        "  Defines a function to test the trained agent's performance, save its state, and record evaluation videos.\n",
        "6. **Training**:\n",
        "\n",
        "  Sets hyperparameters for training and executes the off-policy training loop using the Tianshou library. It saves hyperparameters to a file for reference.\n",
        "6. **Generate Learning Curve**:\n",
        "\n",
        "  Calls the learning_curve_tianshou function to generate and save the learning curve plot based on training data.\n",
        "7. **Record Episode Videos**:\n",
        "\n",
        "  Records videos of the final trained agent's performance in multiple episodes and saves them for evaluation.\n",
        "8. **Save Trained Policy**:\n",
        "\n",
        "  Saves the trained policy's state dictionary for future use or further analysis.\n",
        "9. **Print Execution Time**:\n",
        "\n",
        "  Prints the total execution time of the training process for performance evaluation and monitoring."
      ],
      "metadata": {
        "id": "vyCFPYGKu3Zs"
      }
    },
    {
      "cell_type": "markdown",
      "source": [
        "## **Results**\n",
        "If you are unable to access the videos, please click on the link provided to view them on [Google Colab](https://colab.research.google.com/drive/1PSgWgQs8qo1aQdAekZsZNhZURDN0RDCo#scrollTo=eDdapJW_zSDj)."
      ],
      "metadata": {
        "id": "eDdapJW_zSDj"
      }
    },
    {
      "cell_type": "code",
      "source": [
        "import imageio\n",
        "import matplotlib.animation as animation\n",
        "from skimage.transform import resize\n",
        "from IPython.display import HTML\n",
        "\n",
        "def display_video(video):\n",
        "    fig = plt.figure(figsize=(3,3))  #Display size specification\n",
        "\n",
        "    mov = []\n",
        "    for i in range(len(video)):  #Append videos one by one to mov\n",
        "        img = plt.imshow(video[i], animated=True)\n",
        "        plt.axis('off')\n",
        "        mov.append([img])\n",
        "\n",
        "    #Animation creation\n",
        "    anime = animation.ArtistAnimation(fig, mov, interval=17, repeat_delay=1000)\n",
        "\n",
        "    plt.close()\n",
        "    return anime"
      ],
      "metadata": {
        "id": "f6cgfpC6VWD2"
      },
      "execution_count": null,
      "outputs": []
    },
    {
      "cell_type": "markdown",
      "source": [
        "# **Epoch 0, Video 3**"
      ],
      "metadata": {
        "id": "FiPcTU8oaX9u"
      }
    },
    {
      "cell_type": "code",
      "source": [
        "video = imageio.mimread('/content/logs/Tianshou_ER_DD_DQN_05_Feb_2024_13_40_33/videos/epoch_0/video3/eval-episode-0.mp4')  #Loading video\n",
        "# video = [resize(frame, (400, 600)) for frame in video]    # Size adjustment (if necessary)\n",
        "HTML(display_video(video).to_html5_video())  #Inline video display in HTML5"
      ],
      "metadata": {
        "colab": {
          "base_uri": "https://localhost:8080/",
          "height": 321
        },
        "id": "-dX_UGecZP-2",
        "outputId": "7d35da26-7a0f-4aa4-a1fa-0522a1d52187"
      },
      "execution_count": null,
      "outputs": [
        {
          "output_type": "execute_result",
          "data": {
            "text/plain": [
              "<IPython.core.display.HTML object>"
            ],
            "text/html": [
              "<video width=\"300\" height=\"300\" controls autoplay loop>\n",
              "  <source type=\"video/mp4\" src=\"data:video/mp4;base64,AAAAIGZ0eXBNNFYgAAACAE00ViBpc29taXNvMmF2YzEAAAAIZnJlZQAADThtZGF0AAACrgYF//+q\n",
              "3EXpvebZSLeWLNgg2SPu73gyNjQgLSBjb3JlIDE2MyByMzA2MCA1ZGI2YWE2IC0gSC4yNjQvTVBF\n",
              "Ry00IEFWQyBjb2RlYyAtIENvcHlsZWZ0IDIwMDMtMjAyMSAtIGh0dHA6Ly93d3cudmlkZW9sYW4u\n",
              "b3JnL3gyNjQuaHRtbCAtIG9wdGlvbnM6IGNhYmFjPTEgcmVmPTMgZGVibG9jaz0xOjA6MCBhbmFs\n",
              "eXNlPTB4MzoweDExMyBtZT1oZXggc3VibWU9NyBwc3k9MSBwc3lfcmQ9MS4wMDowLjAwIG1peGVk\n",
              "X3JlZj0xIG1lX3JhbmdlPTE2IGNocm9tYV9tZT0xIHRyZWxsaXM9MSA4eDhkY3Q9MSBjcW09MCBk\n",
              "ZWFkem9uZT0yMSwxMSBmYXN0X3Bza2lwPTEgY2hyb21hX3FwX29mZnNldD0tMiB0aHJlYWRzPTMg\n",
              "bG9va2FoZWFkX3RocmVhZHM9MSBzbGljZWRfdGhyZWFkcz0wIG5yPTAgZGVjaW1hdGU9MSBpbnRl\n",
              "cmxhY2VkPTAgYmx1cmF5X2NvbXBhdD0wIGNvbnN0cmFpbmVkX2ludHJhPTAgYmZyYW1lcz0zIGJf\n",
              "cHlyYW1pZD0yIGJfYWRhcHQ9MSBiX2JpYXM9MCBkaXJlY3Q9MSB3ZWlnaHRiPTEgb3Blbl9nb3A9\n",
              "MCB3ZWlnaHRwPTIga2V5aW50PTI1MCBrZXlpbnRfbWluPTI1IHNjZW5lY3V0PTQwIGludHJhX3Jl\n",
              "ZnJlc2g9MCByY19sb29rYWhlYWQ9NDAgcmM9Y3JmIG1idHJlZT0xIGNyZj0yMy4wIHFjb21wPTAu\n",
              "NjAgcXBtaW49MCBxcG1heD02OSBxcHN0ZXA9NCBpcF9yYXRpbz0xLjQwIGFxPTE6MS4wMACAAAAD\n",
              "BWWIhAAv//72rvzLK0cLlS4dWXuzUfLoSXL9iDB9aACNSaGIELTbbjagJAAAAwIUFP83mYOAMQBC\n",
              "3Pln5D2Ntp1Fj9iztNdU0nL3LzK77beOs6cQpF/M58ocu9+eboMhtl0VaBXi88vkUjPBiEEx3KlH\n",
              "hf+ChdWhLTNBHo9oSJS2WtdDaV9TfvKLBXhM3x61AjlJuqgxSfvXOYpowE9C+Ua6/xVLFYbmMGLV\n",
              "jgRvzhRsM6/vdAgBWY5yj7t9VuuOIY+fX5wnM5BNcwDlKMh7ZY/PVk2NBvFy9lwRkHMR65CMaBRW\n",
              "UPvAuehNqprgODtkIu3CPJ9y34Eyv1mW6bFxEDyg0i27Ln+E2No2ng5w/VyOHE2YzdVB7nrSJqzI\n",
              "dRIY6TDAJiFYEcfQONhKSqnvW2UrZm9R5lj2xjtxIK5hfhxhXQDWEZI/J4GbC5GlMGTIFAgvbWAN\n",
              "FaGK6V/hQimv0VO+ck8AvIHcTyk1VwAlj87vEsyQm2kUSKfFGETyytlcJwtF1C8dKg+uhF6tMLrn\n",
              "IVa6JVo7BXowaa3yUZ/wO2TWFJYA+tYKE1+lfld/+/qCdGqamWDkOB1gDXenpnUcJbzteZGeBYOg\n",
              "zUfHuuSIE/NH11rsQ8K++8kk086njvNbuEteznhWXHgUlll4rzDkXflQrataJ0t05bT6L6PeQoeX\n",
              "0r5yCNKO4VbRd3AZQDcLJ53XzWr06rvvSq/4Sg131oUb8GicbktPOb+b9j0LU6xItFuP/Zblb0AN\n",
              "KWM1stAXIpJM99HJNY4Z1579G61MzxzXuKKt5O902vEzpQktiA93pgmiKAG+NMFDwzX2cjL3WGHf\n",
              "pknUhZ878enY0uHMv09eFYHzwsd2vKkm+44OiRYAjqyhQee/6wj+tv/gcztM8kDJY/mukfpqq7vG\n",
              "+aRy0+JeM9PGbdMuiirnE9wNirwbiKqrUF89maCFLStTCe5M3hTAaHD0RcvLRfrGna//u/cEjjlF\n",
              "zVTjTnf1tLEhnh/sQEBfhQJsl0YwONOoBf0GirFkQB+xAAAAU0GaJGxC//6MsANp73XKaJsAB12k\n",
              "yZbZN6yjS0UoSjWOI7v3dN/Zz6TuQdKXTbykB3mV8CCPNp4RdAqgtOdjInuYS+cWLuDCbvTAHpRj\n",
              "yzJIQLJgAAAAKEGeQniEfwEVfqsBJnoAHVpnSoZ3vP1AzVSxLqy6cH2j8prJgokMto8AAAAdAZ5h\n",
              "dEf/Aa9lY7PwVW7AC/Bqk6nPUq2PS9qMqmAAAAAjAZ5jakf/AaaCmuxAEH4bgB0i2+yr7Uch+WNG\n",
              "Py/hYtZH4WkAAAAxQZpoSahBaJlMCF///oywA1XvdiAYAJOlzM5Cb7SObVZAynIYBDr2q3S26UU1\n",
              "6ISTPwAAAC5BnoZFESwj/wENfwvYdAA56QWkFNdPXm0Pkv+/zRH0jkbJQJCX5dpali+TnJQRAAAA\n",
              "HAGepXRH/wGlZLSp2kKyJYPKASTS672jj+TWvM0AAAAfAZ6nakf/AaaBDsNhgEOANqPgUsY3fkMX\n",
              "L8pM2Xi+YAAAADBBmqxJqEFsmUwIX//+jLADQc6BABNl7+Xs5WnDG3UU86uGWq+tRdCcFfkT/CUg\n",
              "k4AAAAAbQZ7KRRUsI/8BBdTYq4UwiqANpSUJJYHBhibbAAAAHAGe6XRH/wEFv3ASdWHRgBvGBmtz\n",
              "av7uXP9GeFgAAAAXAZ7rakf/AQY9Yn5eACUrqgPLAN9ZRxwAAAAvQZrwSahBbJlMCF///oywAzy0\n",
              "hLOp4dAfOd3hcs4AiQ0nwW5eifupZFFWAY3EHpEAAAAjQZ8ORRUsI/8BBYIS5geYdYAJ3ALyGEbV\n",
              "dWiwaPow0StjW9kAAAAVAZ8tdEf/AQVhBD/R4aAUEA1zzmfNAAAAEAGfL2pH/wD+OCW1NrcR9HwA\n",
              "AAAiQZsySahBbJlMFEwv//6MsAHzRGjb6wAcaBKCRI0XOAlRvQAAABUBn1FqR/8BBfWVwCvv0AmT\n",
              "Qp8xwk8AAAAVQZtWSeEKUmUwIX/+jLAB9flvA0QcAAAAFkGfdEU0TCP/AKGGquUANdNr3qd0DPgA\n",
              "AAATAZ+TdEf/AP4TFbpcAo4i+y0NBwAAABIBn5VqR/8A/fCiASymC5LtzPgAAAATQZuaSahBaJlM\n",
              "CF///oywAAC4gQAAAAxBn7hFESwj/wAAOmEAAAASAZ/XdEf/AP7evAKGSsqZrK2AAAAACgGf2WpH\n",
              "/wAAXcEAAAATQZveSahBbJlMCF///oywAAC4gAAAAAxBn/xFFSwj/wAAOmEAAAASAZ4bdEf/AP7e\n",
              "vAJNlruxduZ9AAAAEgGeHWpH/wD+/nsAbfTQqR2nzAAAABNBmgJJqEFsmUwIX//+jLAAALiAAAAA\n",
              "DEGeIEUVLCP/AAA6YQAAABIBnl90R/8A/t68AlXEim3bmfAAAAAKAZ5Bakf/AABdwQAAABNBmkZJ\n",
              "qEFsmUwIX//+jLAAALiAAAAADEGeZEUVLCP/AAA6YQAAAAoBnoN0R/8AAF3BAAAACgGehWpH/wAA\n",
              "XcEAAAATQZqKSahBbJlMCF///oywAAC4gQAAAAxBnqhFFSwj/wAAOmAAAAAKAZ7HdEf/AABdwAAA\n",
              "AAoBnslqR/8AAF3BAAAAE0GazkmoQWyZTAhf//6MsAAAuIAAAAAMQZ7sRRUsI/8AADpgAAAACgGf\n",
              "C3RH/wAAXcEAAAAKAZ8Nakf/AABdwQAAABNBmxJJqEFsmUwIX//+jLAAALiBAAAADEGfMEUVLCP/\n",
              "AAA6YAAAAAoBn090R/8AAF3AAAAACgGfUWpH/wAAXcEAAAATQZtWSahBbJlMCF///oywAAC4gAAA\n",
              "AAxBn3RFFSwj/wAAOmAAAAAKAZ+TdEf/AABdwQAAAAoBn5VqR/8AAF3AAAAAE0GbmkmoQWyZTAhf\n",
              "//6MsAAAuIEAAAAMQZ+4RRUsI/8AADphAAAACgGf13RH/wAAXcAAAAAKAZ/Zakf/AABdwQAAABNB\n",
              "m95JqEFsmUwIX//+jLAAALiAAAAADEGf/EUVLCP/AAA6YQAAAAoBnht0R/8AAF3BAAAACgGeHWpH\n",
              "/wAAXcAAAAATQZoCSahBbJlMCF///oywAAC4gAAAAAxBniBFFSwj/wAAOmEAAAAKAZ5fdEf/AABd\n",
              "wAAAAAoBnkFqR/8AAF3BAAAAE0GaRkmoQWyZTAhf//6MsAAAuIAAAAAMQZ5kRRUsI/8AADphAAAA\n",
              "CgGeg3RH/wAAXcEAAAAKAZ6Fakf/AABdwQAAABNBmopJqEFsmUwIX//+jLAAALiBAAAADEGeqEUV\n",
              "LCP/AAA6YAAAAAoBnsd0R/8AAF3AAAAACgGeyWpH/wAAXcEAAAASQZrOSahBbJlMCFf//jhAAALK\n",
              "AAAADEGe7EUVLCP/AAA6YAAAAAoBnwt0R/8AAF3BAAAACgGfDWpH/wAAXcEAAAASQZsSSahBbJlM\n",
              "CE///fEAAAbNAAAADEGfMEUVLCP/AAA6YAAAAAoBn090R/8AAF3AAAAACgGfUWpH/wAAXcEAAAAR\n",
              "QZtWSahBbJlMCP/8hAAAKmAAAAAMQZ90RRUsI/8AADpgAAAACgGfk3RH/wAAXcEAAAAKAZ+Vakf/\n",
              "AABdwAAAB0Ztb292AAAAbG12aGQAAAAAAAAAAAAAAAAAAAPoAAAFxwABAAABAAAAAAAAAAAAAAAA\n",
              "AQAAAAAAAAAAAAAAAAAAAAEAAAAAAAAAAAAAAAAAAEAAAAAAAAAAAAAAAAAAAAAAAAAAAAAAAAAA\n",
              "AAAAAAACAAAGcHRyYWsAAABcdGtoZAAAAAMAAAAAAAAAAAAAAAEAAAAAAAAFxwAAAAAAAAAAAAAA\n",
              "AAAAAAAAAQAAAAAAAAAAAAAAAAAAAAEAAAAAAAAAAAAAAAAAAEAAAAABLAAAASwAAAAAACRlZHRz\n",
              "AAAAHGVsc3QAAAAAAAAAAQAABccAAAIgAAEAAAAABehtZGlhAAAAIG1kaGQAAAAAAAAAAAAAAAAA\n",
              "AD6AAABccFXEAAAAAAAtaGRscgAAAAAAAAAAdmlkZQAAAAAAAAAAAAAAAFZpZGVvSGFuZGxlcgAA\n",
              "AAWTbWluZgAAABR2bWhkAAAAAQAAAAAAAAAAAAAAJGRpbmYAAAAcZHJlZgAAAAAAAAABAAAADHVy\n",
              "bCAAAAABAAAFU3N0YmwAAAC3c3RzZAAAAAAAAAABAAAAp2F2YzEAAAAAAAAAAQAAAAAAAAAAAAAA\n",
              "AAAAAAABLAEsAEgAAABIAAAAAAAAAAEAAAAAAAAAAAAAAAAAAAAAAAAAAAAAAAAAAAAAAAAAAAAY\n",
              "//8AAAA1YXZjQwFkAB7/4QAYZ2QAHqzZQTCfu4QAAAMARAAAH0A8WLZYAQAGaOvjyyLA/fj4AAAA\n",
              "ABx1dWlka2hA8l8kT8W6OaUbzwMj8wAAAAAAAAAYc3R0cwAAAAAAAAABAAAAVwAAARAAAAAUc3Rz\n",
              "cwAAAAAAAAABAAAAAQAAAshjdHRzAAAAAAAAAFcAAAABAAACIAAAAAEAAAVQAAAAAQAAAiAAAAAB\n",
              "AAAAAAAAAAEAAAEQAAAAAQAABVAAAAABAAACIAAAAAEAAAAAAAAAAQAAARAAAAABAAAFUAAAAAEA\n",
              "AAIgAAAAAQAAAAAAAAABAAABEAAAAAEAAAVQAAAAAQAAAiAAAAABAAAAAAAAAAEAAAEQAAAAAQAA\n",
              "AzAAAAABAAABEAAAAAEAAAVQAAAAAQAAAiAAAAABAAAAAAAAAAEAAAEQAAAAAQAABVAAAAABAAAC\n",
              "IAAAAAEAAAAAAAAAAQAAARAAAAABAAAFUAAAAAEAAAIgAAAAAQAAAAAAAAABAAABEAAAAAEAAAVQ\n",
              "AAAAAQAAAiAAAAABAAAAAAAAAAEAAAEQAAAAAQAABVAAAAABAAACIAAAAAEAAAAAAAAAAQAAARAA\n",
              "AAABAAAFUAAAAAEAAAIgAAAAAQAAAAAAAAABAAABEAAAAAEAAAVQAAAAAQAAAiAAAAABAAAAAAAA\n",
              "AAEAAAEQAAAAAQAABVAAAAABAAACIAAAAAEAAAAAAAAAAQAAARAAAAABAAAFUAAAAAEAAAIgAAAA\n",
              "AQAAAAAAAAABAAABEAAAAAEAAAVQAAAAAQAAAiAAAAABAAAAAAAAAAEAAAEQAAAAAQAABVAAAAAB\n",
              "AAACIAAAAAEAAAAAAAAAAQAAARAAAAABAAAFUAAAAAEAAAIgAAAAAQAAAAAAAAABAAABEAAAAAEA\n",
              "AAVQAAAAAQAAAiAAAAABAAAAAAAAAAEAAAEQAAAAAQAABVAAAAABAAACIAAAAAEAAAAAAAAAAQAA\n",
              "ARAAAAABAAAFUAAAAAEAAAIgAAAAAQAAAAAAAAABAAABEAAAAAEAAAVQAAAAAQAAAiAAAAABAAAA\n",
              "AAAAAAEAAAEQAAAAAQAABVAAAAABAAACIAAAAAEAAAAAAAAAAQAAARAAAAAcc3RzYwAAAAAAAAAB\n",
              "AAAAAQAAAFcAAAABAAABcHN0c3oAAAAAAAAAAAAAAFcAAAW7AAAAVwAAACwAAAAhAAAAJwAAADUA\n",
              "AAAyAAAAIAAAACMAAAA0AAAAHwAAACAAAAAbAAAAMwAAACcAAAAZAAAAFAAAACYAAAAZAAAAGQAA\n",
              "ABoAAAAXAAAAFgAAABcAAAAQAAAAFgAAAA4AAAAXAAAAEAAAABYAAAAWAAAAFwAAABAAAAAWAAAA\n",
              "DgAAABcAAAAQAAAADgAAAA4AAAAXAAAAEAAAAA4AAAAOAAAAFwAAABAAAAAOAAAADgAAABcAAAAQ\n",
              "AAAADgAAAA4AAAAXAAAAEAAAAA4AAAAOAAAAFwAAABAAAAAOAAAADgAAABcAAAAQAAAADgAAAA4A\n",
              "AAAXAAAAEAAAAA4AAAAOAAAAFwAAABAAAAAOAAAADgAAABcAAAAQAAAADgAAAA4AAAAWAAAAEAAA\n",
              "AA4AAAAOAAAAFgAAABAAAAAOAAAADgAAABUAAAAQAAAADgAAAA4AAAAUc3RjbwAAAAAAAAABAAAA\n",
              "MAAAAGJ1ZHRhAAAAWm1ldGEAAAAAAAAAIWhkbHIAAAAAAAAAAG1kaXJhcHBsAAAAAAAAAAAAAAAA\n",
              "LWlsc3QAAAAlqXRvbwAAAB1kYXRhAAAAAQAAAABMYXZmNTguNzYuMTAw\n",
              "\">\n",
              "  Your browser does not support the video tag.\n",
              "</video>"
            ]
          },
          "metadata": {},
          "execution_count": 84
        }
      ]
    },
    {
      "cell_type": "markdown",
      "source": [
        "# **Epoch 5, Video 3**"
      ],
      "metadata": {
        "id": "ARG-6UOyaYg-"
      }
    },
    {
      "cell_type": "code",
      "source": [
        "video = imageio.mimread('/content/logs/Tianshou_ER_DD_DQN_05_Feb_2024_13_40_33/videos/epoch_5/video3/eval-episode-0.mp4')\n",
        "HTML(display_video(video).to_html5_video())"
      ],
      "metadata": {
        "colab": {
          "base_uri": "https://localhost:8080/",
          "height": 321
        },
        "id": "VzJc144RZP4F",
        "outputId": "44f72249-0fde-4e3b-e615-1ed558a0c764"
      },
      "execution_count": null,
      "outputs": [
        {
          "output_type": "execute_result",
          "data": {
            "text/plain": [
              "<IPython.core.display.HTML object>"
            ],
            "text/html": [
              "<video width=\"300\" height=\"300\" controls autoplay loop>\n",
              "  <source type=\"video/mp4\" src=\"data:video/mp4;base64,AAAAIGZ0eXBNNFYgAAACAE00ViBpc29taXNvMmF2YzEAAAAIZnJlZQAAKD5tZGF0AAACrgYF//+q\n",
              "3EXpvebZSLeWLNgg2SPu73gyNjQgLSBjb3JlIDE2MyByMzA2MCA1ZGI2YWE2IC0gSC4yNjQvTVBF\n",
              "Ry00IEFWQyBjb2RlYyAtIENvcHlsZWZ0IDIwMDMtMjAyMSAtIGh0dHA6Ly93d3cudmlkZW9sYW4u\n",
              "b3JnL3gyNjQuaHRtbCAtIG9wdGlvbnM6IGNhYmFjPTEgcmVmPTMgZGVibG9jaz0xOjA6MCBhbmFs\n",
              "eXNlPTB4MzoweDExMyBtZT1oZXggc3VibWU9NyBwc3k9MSBwc3lfcmQ9MS4wMDowLjAwIG1peGVk\n",
              "X3JlZj0xIG1lX3JhbmdlPTE2IGNocm9tYV9tZT0xIHRyZWxsaXM9MSA4eDhkY3Q9MSBjcW09MCBk\n",
              "ZWFkem9uZT0yMSwxMSBmYXN0X3Bza2lwPTEgY2hyb21hX3FwX29mZnNldD0tMiB0aHJlYWRzPTMg\n",
              "bG9va2FoZWFkX3RocmVhZHM9MSBzbGljZWRfdGhyZWFkcz0wIG5yPTAgZGVjaW1hdGU9MSBpbnRl\n",
              "cmxhY2VkPTAgYmx1cmF5X2NvbXBhdD0wIGNvbnN0cmFpbmVkX2ludHJhPTAgYmZyYW1lcz0zIGJf\n",
              "cHlyYW1pZD0yIGJfYWRhcHQ9MSBiX2JpYXM9MCBkaXJlY3Q9MSB3ZWlnaHRiPTEgb3Blbl9nb3A9\n",
              "MCB3ZWlnaHRwPTIga2V5aW50PTI1MCBrZXlpbnRfbWluPTI1IHNjZW5lY3V0PTQwIGludHJhX3Jl\n",
              "ZnJlc2g9MCByY19sb29rYWhlYWQ9NDAgcmM9Y3JmIG1idHJlZT0xIGNyZj0yMy4wIHFjb21wPTAu\n",
              "NjAgcXBtaW49MCBxcG1heD02OSBxcHN0ZXA9NCBpcF9yYXRpbz0xLjQwIGFxPTE6MS4wMACAAAAC\n",
              "8GWIhAAv//72rvzLK0cLlS4dWXuzUfLoSXL9iDB9aACNSaGIELTbbjagJAAAAwIUFP83mYOAMQBC\n",
              "3Pln5D2Ntp1Fj9iztNepW6y3WxuTYKg/fkONy2LWroNew2xmqfX8KYUgq+d+1Q69QrMG7359+ESO\n",
              "I1xfqHy2vTg5tsTL72mB4juqVCxXd/kyfcbJwB+X5+cKgEin6o/AgAk+hbaApXMH6DvHFdlqUfOY\n",
              "Cbj5u/oXUUH27r/OQj1OcqEwkSLnJzJh8jv89jaQbAN7UUmnFbDQqVm0+uPIs+F28NEelfVe9dC7\n",
              "gNqeZo0XaA1O5st8ockRASqRjNeU7AFx3d1rmzVWAFMs8gsPKKCM2xYIjj9qubL8OQMndWOJxIP8\n",
              "ysdGRB6J3+ITvAHhwrcL8KGouzVOKWf7zFSnWpOaL0aNzSZ3mvfLWRSRiOVTskpTjVFaSXjAJ87x\n",
              "cSg7gXNhCboT+tIpLWnH2pa9TIbaUZpJaiwxuhHpuw10mOIElkDlSAp2W+i9xVaiadgxy+J92BsB\n",
              "3SVqJ+qtNWWBlqHxGWevL7t07QH58nwwilDRaGUmmdgdOTSLljOj0RcoJFK59+93KsU8Slid28QM\n",
              "/O22rbHF2z0SFDJahQRJUhjwNugPrcuvtrvgSbfcC52uB460HKR3rcFr+r6PHHsDp3J3K2GUBnbM\n",
              "RWhFzDC+3THbZQG4qDzauYJAWMWZ627dWYSKvMN8u/fRU56oQ2CAZaEb39Sop01RhbiIaSUiPiT+\n",
              "3iooTgolnZglAikNVIaX12Mu4k2Dqnt0Z62H3rj8Q9nACSI+XsRwetDAbrJ8xDcmBH7RJGQDwpA+\n",
              "hOEM8HVK+iquYoEvyQPBZw3pdPMxERwYYQSiVagtVgtrcJNLDfdiO2anIRJcpamnP4BCKkXzGZQJ\n",
              "mP2qEfTOmXLUE9pfJuT4qUMw3fB2X5gCdR9X+LHtQjgMyxnPqMIBY+QAAbprI58w3R+TWXk+G3uC\n",
              "o6DeV2AAAAMAABBxAAAAQkGaJGxC//6MsANQtKYALp+ngrl+Y0NQpp/B+w3CgX4s8Ht8GLbe8KQc\n",
              "rl1IYZgBWvBKedGIa70UozxlJjTBpsg20AAAAB9BnkJ4hH8BFUi46M5ZQ2cP03yAUkWNHfPj/+2T\n",
              "MJOBAAAAGAGeYXRH/wGwJthTqNm0i/AdH6mRhYAC8gAAABEBnmNqR/8BBfghrjZtqzT/4QAAAD5B\n",
              "mmhJqEFomUwIX//+jLADZMOwaDcRACt4aqzcvRA+DfjU2+TRtpqD4wPyjpt83L7nd/DMTFjpJJic\n",
              "ka/BCQAAABhBnoZFESwj/wEVf9f/jtYhPPJ5UR45Ak8AAAARAZ6ldEf/AQVfw9xoRldrBoEAAAAS\n",
              "AZ6nakf/AQ34IDjylMoVmr/gAAAAQ0GaqkmoQWyZTBRML//+jLADZMOsyaIAJYgzYx5q2kQGscZG\n",
              "QEbtPoh8PEmi3d05eVfirXrDrxBe3BjKiY1Lw3RDzggAAAAOAZ7Jakf/ABiPI0l6ma8AAAB8QZrO\n",
              "SeEKUmUwIX/+jLADac6BAJjXAAADABuFEBuTJmLaG46AEmbaUuqbrvGPbcA8NBU9wvF8ImOWhSS7\n",
              "y5+LTILwx3Vz3Ax7VPLfVdadh6bQlN6vTNyJmpuRLGeAhmvQYnRTDJSQ0OamujZuVRBEVRwCjh1Q\n",
              "GZYJF+Q+YAAAACRBnuxFNEwj/wEMDX8xEAG1Eb5KzMHf5R6tFjOv4RKrCg2aAj4AAAATAZ8LdEf/\n",
              "AQ4K9cXt53ft741TYQAAABABnw1qR/8AGD1076a8JMOZAAAAVUGbEkmoQWiZTAhf//6MsANQk88A\n",
              "CZExHVaLFdvxbHskFI7ecC5PB9g36ahJfK/ifjgXfvb3rVr0dvekfgB1kfqLfPRqF96Hf0K1CTF+\n",
              "6RdxMga7O4EAAAASQZ8wRREsI/8ArKmU/Mts7RDwAAAAEgGfT3RH/wENIDSM4FA31teu4AAAABAB\n",
              "n1FqR/8BBc7t6bmgqvXdAAAAUkGbVkmoQWyZTAhf//6MsANQxFScADsiI4V0sYi8r84j56LjCGPt\n",
              "Orerc1+Rl6W2bXsciMs85mWEh5TBgJkMR2Wi7gPEAlC9JNZBdVBDxuIwvBAAAAAYQZ90RRUsI/8B\n",
              "DTMHsSeFnsmd08jvzc58AAAAEgGfk3RH/wEFt1nvlPESiN5mOQAAABIBn5VqR/8BBc4Kh/PRKKCU\n",
              "u4AAAABUQZuaSahBbJlMCF///oywA1WtPPCFIAAbP/XLQGgFv9H6ksk2F9S8yl43s792VXV4Q97a\n",
              "tQ5VXctuBYgP2Or1VviIOaQeW2VNKRCiWw+T2hd/Y81BAAAAKUGfuEUVLCP/AQqoGZxw5ACD6FXe\n",
              "7OQxrzYlbqFclXwwFBLJkByx5tC1AAAAHgGf13RH/wGxkvAA4AXM8lgrJVK6xp1xUWKkFZsfMAAA\n",
              "ABMBn9lqR/8BBc4HHI5CnFYHvF3BAAAAS0Gb3kmoQWyZTAhf//6MsANV7RqBpZ4JKapgBOq9I2d2\n",
              "c1vKZ0Z5iXlN5IrfgnQ8nrbp3JkTxJOAMHpj0x5FQflUWBVxk9EQAulN4AAAACZBn/xFFSwj/wEN\n",
              "kC4AB2Qyg5P7CnAuTKnrB0cPfBOvA5uVgu6OcQAAAB0Bnht0R/8BsZLwAMtlsd75UNXZeVmtPada\n",
              "7d4rYQAAACIBnh1qR/8Br/tsLX4ACWiaGTtxRZCCZqo1HHS2yhUX0GDgAAAASEGaAkmoQWyZTAhX\n",
              "//44QAfsH4OAOSv5PgM66ytlHfXWhgjdeREicYLEZvG6rDm98FZmPcGeZWjYBWjuj6aTRHLqBjMz\n",
              "Y/nJwAAAAC1BniBFFSwj/wCqrRAASlrYWF/MNNhLFhuQdKeHfTsW4+/creWB3oRQ1QvQ/EEAAAAi\n",
              "AZ5fdEf/ARYZY64Akrul0GzhvVSNF17dCQHG+CKq0pizIAAAACwBnkFqR/8BFZABqoAmkBOC8Vpp\n",
              "boakQyWedrCs+4D9UNXmN/S/Jqak49ulIQAAAEFBmkNJqEFsmUwIX//+jLACE/REIek4MwCL2ozO\n",
              "nBQ+ddOVBwmzEmTOAjbZzH3HSdibZTw5IqWrCjKf5W9rqw8m4AAAAD5BmmdJ4QpSZTAhf/6MsAIB\n",
              "K9HnQcAqAFsABD4XefUPdJYqIfGaF4C6CJudGyrPTIIVHW8sn/ZjjaCS+cteQQAAADFBnoVFNEwj\n",
              "/wCtRyIBTpCw9ow1qQXNexdjEBlwZg2dMnkksEe+oLXWszv8f8I/UhphAAAAJQGepHRH/wENRvUA\n",
              "MAmD6K2y7nUPpuMLjdiY3PkMkvaFbMyMQm8AAAAoAZ6makf/AQ3qUgm/tjc/qACJBWfSaZFVF9mG\n",
              "5jLOEgxEVV3Yi5khNwAAAE1BmqlJqEFomUwU8L/+jLACED3IAL/YkAfZ2q23VpLPaJPiYy9oNGB9\n",
              "+cZ5yaOJHZEclmbKm7g9AdRor5LNjsejDAxFb4IAt3GhlsF9SQAAACUBnshqR/8BDffUtYAn/zKR\n",
              "/23yNbqPwVahOoFxZu+nHLeVis+AAAAAUUGazUnhClJlMCF//oywAhP0KxTCLVNZTKuyUwA4NuCv\n",
              "ORwVZW/py37M/x+LYOQEQxXkhrL1COdHjJQShagx0/tHhSQryTP3SMoC/nSfnJgrzQAAADFBnutF\n",
              "NEwj/wCsq0q2R09enbE3qZqKR8wbXgBqSqmhI68sztw8paGHNyDmyNq6bV5oAAAAIQGfCnRH/wEN\n",
              "YnVBl5lACaaEzTngBlZDfGWiabHytRhLSQAAACYBnwxqR/8Ao/WKaNUQACdO/tRrG5GoRXODna77\n",
              "FWihmc4xg1QAYQAAAERBmxFJqEFomUwIX//+jLABQPHmxLuAIigELCmjRJ1ceE0XtZklxIQfyhlV\n",
              "npZk7gjAoBxszEe+U9d47RN13Z1krQlN5wAAAC9Bny9FESwj/wBp294BkFmYZMsfwgI2cfwZQBJ2\n",
              "GG/4vanCLwZ1lr6DWj7zPbvTsQAAABwBn050R/8AoYyHtbcIeNAKGTECHkCk23yEQwWAAAAAGwGf\n",
              "UGpH/wCmRBShPUX17vx4hPD4F/pPTLs9GAAAAD1Bm1RJqEFsmUwIX//+jLABQv+HUL1l7Qh8u7Vx\n",
              "bJvWG+KsQR1xKf5Lwvj0EH9x5Q43fe41AOiucs2Y5IuBAAAAKkGfckUVLH8AoYy21VHH6HrkECds\n",
              "Vgx9+AEwKaVa6/+cruZ0qkvtf8bRgAAAACQBn5NqR/8Ao6YC41A2EACaqQSaU8/tgu8FpZMy7mRV\n",
              "tXpGXlAAAABJQZuYSahBbJlMCF///oywAMUpi6YqAFq+1irBYv2oR+zFxoMJSjlTSV/laE6W/qQ6\n",
              "zm4oqaHT0mxRbHh7DBEso7AJ/ByBeswg4QAAACxBn7ZFFSwj/wA/e2jIAtq93CV6iEPIbove4pVv\n",
              "R2wANokybVV7IBm5Rz5LegAAACMBn9V0R/8AZvBg7//1UrmynRPDAApfNlrQyXWiBQlD2gvsIQAA\n",
              "ACMBn9dqR/8AZyRJ37hIQsvYJmABwRoEEqvW66ZYP0VfuQJ3FQAAAEhBm9xJqEFsmUwIX//+jLAA\n",
              "y3raFldigqAGqH2sXyKF8O5SWP7MIDYOlIA5FvNnYFaCB5IcUPuPSXLDlZOP/4bn7EBIuFbRv8AA\n",
              "AAApQZ/6RRUsI/8AP4ABvKy8JWU3bwUE3CpIGD0gEhkSVLuRGyyRCCHcj/EAAAAmAZ4ZdEf/AGbw\n",
              "YPADthL3agBZTlf63iMMHEWXnRP1Hn5DtQINNMAAAAAoAZ4bakf/AGSsjTznSw1Zyc8Z2gBbZzKR\n",
              "ezIl0RCzXCizcSJmzbdlHQAAAD5BmgBJqEFsmUwIX//+jLAAxUmcxgmnMT4QAsG4DO5BhN02hG7B\n",
              "zA2Tvm83MoZnGha7q0kuz8qBNX10UwgezQAAACNBnj5FFSwj/wA+NNikEnLsaxgAXUXGQ6aZTxBM\n",
              "oDoi24vxMAAAABYBnl10R/8AZL6bX8LVfS2b54PwGJDaAAAAJwGeX2pH/wBkrI4Erjob0u8AA/cL\n",
              "rxRGyT2VPQ90Osb2C5Epw9jz4QAAAEtBmkRJqEFsmUwIX//+jLAAxnCdNd5UuBAA6R7Fra8eOwVp\n",
              "t+G/wNxZTs+z8pVdYG20IErnXhG/+xtZfeXBYzV+gJy5m9Sk9Mry0R4AAAAtQZ5iRRUsI/8APhTA\n",
              "eSATE6/ZnNNAAfAygkMGzQkC+jhrfRAkWB7OKegF1zrdAAAAJAGegXRH/wBkexUQf6SHMg9B+/9u\n",
              "gAvKQQAZDF339Tj4exKwUwAAAC4BnoNqR/8AX6eAoB8QbeMEpUE5TVhWZDCtMyTbByV8r4ykoyZy\n",
              "WofnvfUe9c7VAAAAS0Gah0moQWyZTAhf//6MsADGcJ1E7czh+CHJRWWIi2ADjkZWXt7Qap/5/6fy\n",
              "ZWN/xKfTV/lFokIZ44uiVn3uGsuPlOQldHM90u1d0QAAADFBnqVFFSx/AGR//rcYgNAJ27g22avZ\n",
              "kLXgbfizRnAQnRVBhwP4yz0hdMYFcHpgbG+BAAAAIgGexmpH/wBm/bTB85rWi+rM1GglMmz1OJdA\n",
              "EsaFPmQFj5UAAABEQZrLSahBbJlMCF///oywAHoD4RAFWw+ahAianuidkt5eyJZaYwxK35zeu28c\n",
              "kX71qSBKD5Ba7+EBe+8IiwgXnsmbfhAAAAAoQZ7pRRUsI/8AJ9iCjPWpbu4AOgEUgwMIwLiqzemx\n",
              "dqxJYh6rwjargAAAACcBnwh0R/8APN9OLmD9wATqk44lLzjUhGsjDxoDUa2+NzEfm8HZXoEAAAAs\n",
              "AZ8Kakf/AD5PkwCXp6r77p1DfXAjXujrmw8K6gPPt0erb1JPl4Gce9D4284AAAAsQZsPSahBbJlM\n",
              "CF///oywAHq9bPGHk54dE1oKoMAANZ41KK6QRoIsyNab8IAAAAAhQZ8tRRUsI/8AJ8p6igukZc52\n",
              "ENzf/iOwBLkk101JEzXxAAAAIAGfTHRH/wA+EZaLlYb+rCi8AABLIYTWpNMNd64ZPPehAAAAFwGf\n",
              "TmpH/wA8xlyZNQoCA9t8nizm4dx5AAAAO0GbU0moQWyZTAhf//6MsAB3V8g4RyqY7ZuTHrw6+gBu\n",
              "azra5RELzW5vOi32wvBi79gbexzZV/+BTs2zAAAAI0GfcUUVLCP/ACa/rdQ8DH3J63kGQ3iUHtQA\n",
              "X9YrWymuLpeAAAAAFAGfkHRH/wA7f1C5kzIOLS7MYEU7AAAAGAGfkmpH/wAlwlWd7QzACfAFq2Pb\n",
              "iZZXoAAAAE9Bm5dJqEFsmUwIX//+jLAAd0rX/ePqdIZJ1nakIjMEXcWAkRAcO3Z9M8/cR54T1oTx\n",
              "YHhioeF0NxlVdd3Ug4L9eN/b47nXHqIwsb0GxMl4AAAAJEGftUUVLCP/ACbCCRnQGywfGaAAF02T\n",
              "qLCIfQA9Uk9fFadLwQAAABoBn9R0R/8APN9O3rygw36LABJZ0wErHDjAgAAAABYBn9ZqR/8APNQ5\n",
              "3FMLwZe2FXcA7BTBAAAAPEGb20moQWyZTAhf//6MsAB3+E6fz/8TABuvUYBvT37AbuNcAU+xPwLT\n",
              "24QmubVBX6rE8Wh2j9uLN1EP+QAAACpBn/lFFSwj/wAmr2ToVrgYnYze9uCUAJ1EshKXG00EzEY6\n",
              "XSn3GwuvlukAAAAbAZ4YdEf/ADyw+4YaxxpvgjOvi+sXrhjuQxY5AAAAIAGeGmpH/wA7cBE+7Wtp\n",
              "MAE6o3/7qzi56ShBef1EYdfAAAAAQUGaH0moQWyZTAhf//6MsAB1OE6f5dbFcEABh++OqUn5ormv\n",
              "aQeAKjho0kDsnU7WpDwKs6yBSLTXgC4Zuw6m0Y2ZAAAAG0GePUUVLCP/ACWwQ+wqPU7whR+jmSS7\n",
              "80iL0QAAACUBnlx0R/8AO1FhX68AKSW3f4Ki6uHpSEq/mXMwjZwDIPES2HekAAAAGQGeXmpH/wAl\n",
              "ud29Iu/8dWjnkQADcz1ajXoAAAAuQZpDSahBbJlMCF///oywAEoN3Ow6EmqCAIX44uFtU3klr2bU\n",
              "wWV4ToFeNPtfgQAAAB5BnmFFFSwj/wAX5mm1ThoVwALZ3fzzdsxl67w24rgAAAAYAZ6AdEf/ACVF\n",
              "cKBXRmCJ4dAC2ziEdMHpAAAAGQGegmpH/wAkwoRMW5asOAC4nMcWMse/UPMAAAA/QZqHSahBbJlM\n",
              "CF///oywAEwHuQAOPbUZ9c4oobkONUTdgm8TKVXc2sSH0OIWe1eGyQFHV+rWxFEZSTnge9u3AAAA\n",
              "H0GepUUVLCP/ABiJg36uBH7YeTAAnbXxZx8dimVSIMEAAAAaAZ7EdEf/ACW6QQ+wLfI8AD8KszXZ\n",
              "BDn4dPEAAAAbAZ7Gakf/ACa+/vn6ABxu0+zCIVYIuBq6gaUxAAAARkGay0moQWyZTAhf//6MsABM\n",
              "fiYS3+DpEALV9QNpGL5S5i+FOB34qiCqkI7NndIIy2VwQy+LaShpgLMmE4vHAeYm3EQ4qaQAAAAk\n",
              "QZ7pRRUsI/8AGI3XyA3p3ZNBl8lgAP2+zab9qxXkLJHuDMkYAAAAIQGfCHRH/wAm1SEAo2ryL0cy\n",
              "//++sQQVfL2ZuuzkKA3GbQAAABsBnwpqR/8AJbodiLDhwAJxeatEk1XIDSlfQVgAAAAuQZsPSahB\n",
              "bJlMCF///oywAEp6b07toxxxfKLspy/IEvRTYAjIfDAk54ina3btfgAAABhBny1FFSwj/wAX4nLU\n",
              "HSGiUBBE4m2t+8EAAAAYAZ9MdEf/ACXI3fM5t/4NzAAfsOIEztSBAAAADwGfTmpH/wAksleKf1lN\n",
              "vwAAADdBm1NJqEFsmUwIX//+jLAASHpvT+l+/2ls176EjSY5ZDCwAWfmEPf3slsIhCRudZpvaLTc\n",
              "S7DAAAAAFkGfcUUVLCP/ABdFalkQiIfZ98xxCVAAAAAQAZ+QdEf/ACSsT87dGXvnmQAAABIBn5Jq\n",
              "R/8ADiYDt+ADZ2szDpIAAAAsQZuXSahBbJlMCF///oywAC23PT2MAIv62W3zxXajfuqN6hY6GHOZ\n",
              "ZG1nTTgAAAAZQZ+1RRUsI/8ADlGNH7V4I4L0no1rud823wAAAAoBn9R0R/8AAF3AAAAAEQGf1mpH\n",
              "/wAN1PFpACFMRVxnAAAAN0Gb20moQWyZTAhf//6MsAAttzyVlgBxNW9nh0mpt6Xjl7PUUUmbPSpz\n",
              "qx6Mt7VqA7pc22VpTTkAAAAfQZ/5RRUsI/8ADncF1YozVt2FLqwAEPhejHQGnbj0qAAAABMBnhh0\n",
              "R/8AF1K5xgASxnF8T/N1AAAAEwGeGmpH/wAN0XHsAELsU5ns6ugAAAAzQZofSahBbJlMCF///oyw\n",
              "AC3rS+K6g5gBVZcUsxKkF/76g+cejutt6lKIouiXtDY7L41tAAAAH0GePUUVLCP/AA5/XTqEuSu0\n",
              "xXCZ6AB9DNDsqJEBfcEAAAAVAZ5cdEf/ABdEJ3+k1ABNJ+ycgrTAAAAADQGeXmpH/wAOILj6lsAA\n",
              "AAA+QZpDSahBbJlMCF///oywAC28mtjADkeI8t5kAB2nVICVZp6crHHrB1lpo0YAxk7PGIQlv8Z0\n",
              "D6k01mAqNbUAAAAfQZ5hRRUsI/8ADoVC5EULqjssoANpYxFNvt/kF90wwAAAABIBnoB0R/8ADd0Q\n",
              "IAIbnKVT3isAAAAMAZ6Cakf/ABa37b9oAAAAQ0Gah0moQWyZTAhf//6MsAAtvKacwA6NVL+dUcXG\n",
              "6qL2FGJmEQN4e0Q5uAPQJs16AcYS8ExsWEC8odHRL8BCJV1GtoEAAAARQZ6lRRUsI/8ADipyE56/\n",
              "L2EAAAAKAZ7EdEf/AABdwQAAAAoBnsZqR/8AAF3BAAAAPUGay0moQWyZTAhf//6MsAAtvLKoqrG+\n",
              "wkOcACHabgB8ivgWCUZXefReile0VuBQhEVI40gj4v5Bz3o8a2gAAAAcQZ7pRRUsI/8ADi1DH45T\n",
              "fxAAEEfRXr2Oa6NKgAAAAAoBnwh0R/8AAF3BAAAADAGfCmpH/wANz92roAAAAENBmw5JqEFsmUwI\n",
              "X//+jLAALb0LqwBHa1F4UdUAYiTMSmk0uV8psOztegGXndUxUUxKSBqepNHHLCZhXHAxuP3TZKnA\n",
              "AAAAEEGfLEUVLH8AF05gmf+TyoEAAAANAZ9Nakf/ABdMwmRsqQAAAE9Bm1FJqEFsmUwIX//+jLAA\n",
              "LcIOjdwBWqLjvpMyqOLSKEKiycmtJQvdMPWCVAOvTKjIbMIwKRVRzJ+AS9BnSpWaAcse8rqWRRar\n",
              "H4ma6H4tAAAAGkGfb0UVLH8AF07JpAAOL/IRc49vmVCJ9eeAAAAAGQGfkGpH/wAXWY4AHF/lwu5Q\n",
              "7AfFnyRN0lIAAABWQZuVSahBbJlMCF///oywAC3SXfMPKrul05+P5kbSz+LYABv9r8dzSMyIXiyL\n",
              "dGUHlfwR6xYxsJWm15K0cSA66uHzvsNUMJTmGT+5QhqzkktK7YnbbukAAAAQQZ+zRRUsI/8ADlYl\n",
              "iYAygAAAABkBn9J0R/8AFzQu4GAK06CaOmAu8pgZ4DKAAAAADQGf1GpH/wAXUTV1DqUAAABuQZvZ\n",
              "SahBbJlMCF///oywAC3CCx+8KIAAW/61NicvIJAZ5+/k2ubqV7ifAJztbppZaxXEsX7TydGkiJNb\n",
              "vCrZPQvrCzV9wWMh4pwB22zjEmcu+T4kFa6mox3e+lu4lBqGk36GoHuLJXoA9fuOMAgAAAAOQZ/3\n",
              "RRUsI/8ADoGVhH0AAAAMAZ4WdEf/AA6BMWo5AAAACgGeGGpH/wAAXcAAAABTQZodSahBbJlMCF//\n",
              "/oywAC29At2xgGselJYALV3lCtNRRTHRC2KmOdg980X7SijwgIn6Luf6Ovx+EQk2loF4fp2nGgUY\n",
              "3i3yNVukbVmJhVdpTSkAAAAaQZ47RRUsI/8ACOG2AjlUAJphANRg8UeWOboAAAAKAZ5adEf/AABd\n",
              "wQAAAAwBnlxqR/8AF0zYzdEAAABSQZpBSahBbJlMCF///oywAC2yBk7zVBADVP7MfxGlhZbpEWbE\n",
              "pWMoBisX3bQaYXMQNcSDkT+z/u/4r3nOuWZUw7U+Cv4Q+wX7xh0Ac40npHRMsAAAACJBnn9FFSwj\n",
              "/wAOLJThAFbtMUb0pC9NzUDWg1YP+xfo1xmAAAAADQGennRH/wAWuKL5v2kAAAAMAZ6Aakf/AA2H\n",
              "kTWkAAAAWkGahUmoQWyZTAhf//6MsAAtwgcQm4auF/Btqe0YALDHQ7OzDA/61B4rwDXKH3S2OIaH\n",
              "RFjAfDIXgwxOzmOHrabZZEGgJahChWQ2J47lo6r/vNRRRAkYwqB1XwAAAB1BnqNFFSwj/wAOgZCW\n",
              "3zgZG0j0IgBKhb/SC19JgAAAAAoBnsJ0R/8AAF3BAAAADAGexGpH/wANf92tIQAAAFBBmslJqEFs\n",
              "mUwIX//+jLAALN+YvG9MRo+XemwASQ2zv7OQ9PKikO/+Ix9ZgLXbLwsnIj9+w1dcCsfC44wSHmcn\n",
              "EHKy4w0Oe5zz7GcCl3N80QAAABBBnudFFSwj/wAOKAwSkzNDAAAAEgGfBnRH/wAONevABAk/NZbq\n",
              "mAAAABMBnwhqR/8ADjXrwAPyd7k0TpbAAAAAREGbDUmoQWyZTAhf//6MsAAt/sPzP/LggDiUUIPo\n",
              "bvB8HQ5V42qW28aY9zCDpNzsGWS+YUydj5M9nQQhx0G4ta+XevldAAAAE0GfK0UVLCP/AA52cqOo\n",
              "DkqgrYEAAAAMAZ9KdEf/AA4obJqmAAAAFgGfTGpH/wAOKAp4AH2081+8wFu06W0AAAAuQZtRSahB\n",
              "bJlMCF///oywABvM7HmAFbiZ2OTY7k6r1GIh/Aru3+B3WGr620kV2QAAAA9Bn29FFSwj/wAOWAIa\n",
              "R8EAAAAMAZ+OdEf/ABdBdZPgAAAADAGfkGpH/wAXTNjN0AAAADFBm5VJqEFsmUwIX//+jLAAHHE+\n",
              "YgDgio/uKpKjq3r9/LtqefWCJKJ9koc/8uOjLqQvAAAAGEGfs0UVLCP/AA6G5F6rYAQbkVfmTMOE\n",
              "qwAAAA4Bn9J0R/8ADfZZtoHhYAAAABgBn9RqR/8AFwhHSHygACBhEK2o2BtYrYEAAAA1QZvZSahB\n",
              "bJlMCF///oywAC3+w/NLJ/e1TOkAAI9Ah/kiQuJd9WD19N7T+NIhDhe1VzKqhJUAAAAXQZ/3RRUs\n",
              "I/8ADlgCGZsAAJabt7GorYEAAAAOAZ4WdEf/ABdBe74LI4kAAAAKAZ4Yakf/AABdwAAAADNBmh1J\n",
              "qEFsmUwIX//+jLAAHHE7mAG9v8p1aOPPLpyHKwzlj2tBGDwUYFriETwOkzaS+2EAAAAUQZ47RRUs\n",
              "I/8ACO5ijaADxe3kx0wAAAAMAZ5adEf/ABdPSZPhAAAADwGeXGpH/wAXUgYkyErpVwAAADhBmkFJ\n",
              "qEFsmUwIX//+jLAAHJCmMimuRl6ih7soAadNUTpe/laThqdj2vEPdxc+qayWD7Q+b3dsoAAAABhB\n",
              "nn9FFSwj/wAJK/FKuS4ACZXlzHzFRYAAAAAPAZ6edEf/ABcIRzxgxy9xAAAADQGegGpH/wAXCEdO\n",
              "T4AAAAA7QZqFSahBbJlMCF///oywABvZ50z4AIYAIQw2/EEBAhRm5EeF6+yLcoxkm7lMd+zRxD3B\n",
              "w9uSV8upEIEAAAAMQZ6jRRUsI/8AADpgAAAAFAGewnRH/wAOLn3wAPuydlGt50thAAAACgGexGpH\n",
              "/wAAXcEAAAAyQZrJSahBbJlMCF///oywABvGgCoAEC+6CLcXtVCd4QQuJs91yBwjKQLRgiXTI4XU\n",
              "iEEAAAAPQZ7nRRUsI/8ADlgCGkfBAAAADAGfBnRH/wAXQXWT4AAAAAwBnwhqR/8AF0zYzdAAAAAv\n",
              "QZsNSahBbJlMCF///oywABvgvSMAEFTR2o5+ruxdtZWEZWX/qt06xGmZlnq9b8sAAAAOQZ8rRRUs\n",
              "I/8ADobkZHwAAAAMAZ9KdEf/ABdBdZPgAAAADAGfTGpH/wAXTNjN0QAAAC9Bm1FJqEFsmUwIX//+\n",
              "jLAAG8Sq2AFh3vzFywNalmKIaAKweGm6j53nJsHiKa35QQAAAA5Bn29FFSwj/wAOhuRkfQAAAAwB\n",
              "n450R/8AF0F1k+AAAAAMAZ+Qakf/ABdM2M3QAAAAJkGblUmoQWyZTAhf//6MsAAb41de/QBw+34K\n",
              "IqtwPAnq66Ar1r1rAAAAD0Gfs0UVLCP/AA6G5AsZVgAAAA0Bn9J0R/8AF0FyJ7gQAAAADAGf1GpH\n",
              "/wAXTNjN0QAAABNBm9lJqEFsmUwIX//+jLAAALiAAAAADkGf90UVLCP/AA6G5GR9AAAADAGeFnRH\n",
              "/wAXQXWT4QAAAAwBnhhqR/8AF0zYzdAAAAATQZodSahBbJlMCF///oywAAC4gQAAAA5BnjtFFSwj\n",
              "/wAOhuRkfAAAAAwBnlp0R/8AF0F1k+EAAAAMAZ5cakf/ABdM2M3RAAAAE0GaQUmoQWyZTAhf//6M\n",
              "sAAAuIAAAAAOQZ5/RRUsI/8ADobkZHwAAAAMAZ6edEf/ABdBdZPhAAAADAGegGpH/wAXTNjN0AAA\n",
              "ABNBmoVJqEFsmUwIX//+jLAAALiBAAAADkGeo0UVLCP/AA6G5GR8AAAADAGewnRH/wAXQXWT4QAA\n",
              "AAwBnsRqR/8AF0zYzdEAAAASQZrJSahBbJlMCFf//jhAAALLAAAADkGe50UVLCP/AA6G5GR9AAAA\n",
              "DAGfBnRH/wAXQXWT4AAAAAwBnwhqR/8AF0zYzdAAAAASQZsNSahBbJlMCE///fEAAAbNAAAADkGf\n",
              "K0UVLCP/AA6G5GR8AAAADAGfSnRH/wAXQXWT4AAAAAwBn0xqR/8AF0zYzdEAAAASQZtPSahBbJlM\n",
              "FEx//IQAACphAAAADAGfbmpH/wAXUglk+QAADlJtb292AAAAbG12aGQAAAAAAAAAAAAAAAAAAAPo\n",
              "AAAP8AABAAABAAAAAAAAAAAAAAAAAQAAAAAAAAAAAAAAAAAAAAEAAAAAAAAAAAAAAAAAAEAAAAAA\n",
              "AAAAAAAAAAAAAAAAAAAAAAAAAAAAAAAAAAACAAANfHRyYWsAAABcdGtoZAAAAAMAAAAAAAAAAAAA\n",
              "AAEAAAAAAAAP8AAAAAAAAAAAAAAAAAAAAAAAAQAAAAAAAAAAAAAAAAAAAAEAAAAAAAAAAAAAAAAA\n",
              "AEAAAAABLAAAASwAAAAAACRlZHRzAAAAHGVsc3QAAAAAAAAAAQAAD/AAAAIgAAEAAAAADPRtZGlh\n",
              "AAAAIG1kaGQAAAAAAAAAAAAAAAAAAD6AAAD/AFXEAAAAAAAtaGRscgAAAAAAAAAAdmlkZQAAAAAA\n",
              "AAAAAAAAAFZpZGVvSGFuZGxlcgAAAAyfbWluZgAAABR2bWhkAAAAAQAAAAAAAAAAAAAAJGRpbmYA\n",
              "AAAcZHJlZgAAAAAAAAABAAAADHVybCAAAAABAAAMX3N0YmwAAAC3c3RzZAAAAAAAAAABAAAAp2F2\n",
              "YzEAAAAAAAAAAQAAAAAAAAAAAAAAAAAAAAABLAEsAEgAAABIAAAAAAAAAAEAAAAAAAAAAAAAAAAA\n",
              "AAAAAAAAAAAAAAAAAAAAAAAAAAAY//8AAAA1YXZjQwFkAB7/4QAYZ2QAHqzZQTCfu4QAAAMARAAA\n",
              "H0A8WLZYAQAGaOvjyyLA/fj4AAAAABx1dWlka2hA8l8kT8W6OaUbzwMj8wAAAAAAAAAYc3R0cwAA\n",
              "AAAAAAABAAAA8AAAARAAAAAUc3RzcwAAAAAAAAABAAAAAQAAB3BjdHRzAAAAAAAAAOwAAAABAAAC\n",
              "IAAAAAEAAAVQAAAAAQAAAiAAAAABAAAAAAAAAAEAAAEQAAAAAQAABVAAAAABAAACIAAAAAEAAAAA\n",
              "AAAAAQAAARAAAAABAAADMAAAAAEAAAEQAAAAAQAABVAAAAABAAACIAAAAAEAAAAAAAAAAQAAARAA\n",
              "AAABAAAFUAAAAAEAAAIgAAAAAQAAAAAAAAABAAABEAAAAAEAAAVQAAAAAQAAAiAAAAABAAAAAAAA\n",
              "AAEAAAEQAAAAAQAABVAAAAABAAACIAAAAAEAAAAAAAAAAQAAARAAAAABAAAFUAAAAAEAAAIgAAAA\n",
              "AQAAAAAAAAABAAABEAAAAAEAAAVQAAAAAQAAAiAAAAABAAAAAAAAAAEAAAEQAAAAAQAAAiAAAAAB\n",
              "AAAFUAAAAAEAAAIgAAAAAQAAAAAAAAABAAABEAAAAAEAAAMwAAAAAQAAARAAAAABAAAFUAAAAAEA\n",
              "AAIgAAAAAQAAAAAAAAABAAABEAAAAAEAAAVQAAAAAQAAAiAAAAABAAAAAAAAAAEAAAEQAAAAAQAA\n",
              "BEAAAAACAAABEAAAAAEAAAVQAAAAAQAAAiAAAAABAAAAAAAAAAEAAAEQAAAAAQAABVAAAAABAAAC\n",
              "IAAAAAEAAAAAAAAAAQAAARAAAAABAAAFUAAAAAEAAAIgAAAAAQAAAAAAAAABAAABEAAAAAEAAAVQ\n",
              "AAAAAQAAAiAAAAABAAAAAAAAAAEAAAEQAAAAAQAABEAAAAACAAABEAAAAAEAAAVQAAAAAQAAAiAA\n",
              "AAABAAAAAAAAAAEAAAEQAAAAAQAABVAAAAABAAACIAAAAAEAAAAAAAAAAQAAARAAAAABAAAFUAAA\n",
              "AAEAAAIgAAAAAQAAAAAAAAABAAABEAAAAAEAAAVQAAAAAQAAAiAAAAABAAAAAAAAAAEAAAEQAAAA\n",
              "AQAABVAAAAABAAACIAAAAAEAAAAAAAAAAQAAARAAAAABAAAFUAAAAAEAAAIgAAAAAQAAAAAAAAAB\n",
              "AAABEAAAAAEAAAVQAAAAAQAAAiAAAAABAAAAAAAAAAEAAAEQAAAAAQAABVAAAAABAAACIAAAAAEA\n",
              "AAAAAAAAAQAAARAAAAABAAAFUAAAAAEAAAIgAAAAAQAAAAAAAAABAAABEAAAAAEAAAVQAAAAAQAA\n",
              "AiAAAAABAAAAAAAAAAEAAAEQAAAAAQAABVAAAAABAAACIAAAAAEAAAAAAAAAAQAAARAAAAABAAAF\n",
              "UAAAAAEAAAIgAAAAAQAAAAAAAAABAAABEAAAAAEAAAVQAAAAAQAAAiAAAAABAAAAAAAAAAEAAAEQ\n",
              "AAAAAQAABVAAAAABAAACIAAAAAEAAAAAAAAAAQAAARAAAAABAAAFUAAAAAEAAAIgAAAAAQAAAAAA\n",
              "AAABAAABEAAAAAEAAAVQAAAAAQAAAiAAAAABAAAAAAAAAAEAAAEQAAAAAQAABVAAAAABAAACIAAA\n",
              "AAEAAAAAAAAAAQAAARAAAAABAAAEQAAAAAIAAAEQAAAAAQAABEAAAAACAAABEAAAAAEAAAVQAAAA\n",
              "AQAAAiAAAAABAAAAAAAAAAEAAAEQAAAAAQAABVAAAAABAAACIAAAAAEAAAAAAAAAAQAAARAAAAAB\n",
              "AAAFUAAAAAEAAAIgAAAAAQAAAAAAAAABAAABEAAAAAEAAAVQAAAAAQAAAiAAAAABAAAAAAAAAAEA\n",
              "AAEQAAAAAQAABVAAAAABAAACIAAAAAEAAAAAAAAAAQAAARAAAAABAAAFUAAAAAEAAAIgAAAAAQAA\n",
              "AAAAAAABAAABEAAAAAEAAAVQAAAAAQAAAiAAAAABAAAAAAAAAAEAAAEQAAAAAQAABVAAAAABAAAC\n",
              "IAAAAAEAAAAAAAAAAQAAARAAAAABAAAFUAAAAAEAAAIgAAAAAQAAAAAAAAABAAABEAAAAAEAAAVQ\n",
              "AAAAAQAAAiAAAAABAAAAAAAAAAEAAAEQAAAAAQAABVAAAAABAAACIAAAAAEAAAAAAAAAAQAAARAA\n",
              "AAABAAAFUAAAAAEAAAIgAAAAAQAAAAAAAAABAAABEAAAAAEAAAVQAAAAAQAAAiAAAAABAAAAAAAA\n",
              "AAEAAAEQAAAAAQAABVAAAAABAAACIAAAAAEAAAAAAAAAAQAAARAAAAABAAAFUAAAAAEAAAIgAAAA\n",
              "AQAAAAAAAAABAAABEAAAAAEAAAVQAAAAAQAAAiAAAAABAAAAAAAAAAEAAAEQAAAAAQAABVAAAAAB\n",
              "AAACIAAAAAEAAAAAAAAAAQAAARAAAAABAAAFUAAAAAEAAAIgAAAAAQAAAAAAAAABAAABEAAAAAEA\n",
              "AAVQAAAAAQAAAiAAAAABAAAAAAAAAAEAAAEQAAAAAQAABVAAAAABAAACIAAAAAEAAAAAAAAAAQAA\n",
              "ARAAAAABAAAFUAAAAAEAAAIgAAAAAQAAAAAAAAABAAABEAAAAAEAAAVQAAAAAQAAAiAAAAABAAAA\n",
              "AAAAAAEAAAEQAAAAAQAABVAAAAABAAACIAAAAAEAAAAAAAAAAQAAARAAAAABAAADMAAAAAEAAAEQ\n",
              "AAAAHHN0c2MAAAAAAAAAAQAAAAEAAADwAAAAAQAAA9RzdHN6AAAAAAAAAAAAAADwAAAFpgAAAEYA\n",
              "AAAjAAAAHAAAABUAAABCAAAAHAAAABUAAAAWAAAARwAAABIAAACAAAAAKAAAABcAAAAUAAAAWQAA\n",
              "ABYAAAAWAAAAFAAAAFYAAAAcAAAAFgAAABYAAABYAAAALQAAACIAAAAXAAAATwAAACoAAAAhAAAA\n",
              "JgAAAEwAAAAxAAAAJgAAADAAAABFAAAAQgAAADUAAAApAAAALAAAAFEAAAApAAAAVQAAADUAAAAl\n",
              "AAAAKgAAAEgAAAAzAAAAIAAAAB8AAABBAAAALgAAACgAAABNAAAAMAAAACcAAAAnAAAATAAAAC0A\n",
              "AAAqAAAALAAAAEIAAAAnAAAAGgAAACsAAABPAAAAMQAAACgAAAAyAAAATwAAADUAAAAmAAAASAAA\n",
              "ACwAAAArAAAAMAAAADAAAAAlAAAAJAAAABsAAAA/AAAAJwAAABgAAAAcAAAAUwAAACgAAAAeAAAA\n",
              "GgAAAEAAAAAuAAAAHwAAACQAAABFAAAAHwAAACkAAAAdAAAAMgAAACIAAAAcAAAAHQAAAEMAAAAj\n",
              "AAAAHgAAAB8AAABKAAAAKAAAACUAAAAfAAAAMgAAABwAAAAcAAAAEwAAADsAAAAaAAAAFAAAABYA\n",
              "AAAwAAAAHQAAAA4AAAAVAAAAOwAAACMAAAAXAAAAFwAAADcAAAAjAAAAGQAAABEAAABCAAAAIwAA\n",
              "ABYAAAAQAAAARwAAABUAAAAOAAAADgAAAEEAAAAgAAAADgAAABAAAABHAAAAFAAAABEAAABTAAAA\n",
              "HgAAAB0AAABaAAAAFAAAAB0AAAARAAAAcgAAABIAAAAQAAAADgAAAFcAAAAeAAAADgAAABAAAABW\n",
              "AAAAJgAAABEAAAAQAAAAXgAAACEAAAAOAAAAEAAAAFQAAAAUAAAAFgAAABcAAABIAAAAFwAAABAA\n",
              "AAAaAAAAMgAAABMAAAAQAAAAEAAAADUAAAAcAAAAEgAAABwAAAA5AAAAGwAAABIAAAAOAAAANwAA\n",
              "ABgAAAAQAAAAEwAAADwAAAAcAAAAEwAAABEAAAA/AAAAEAAAABgAAAAOAAAANgAAABMAAAAQAAAA\n",
              "EAAAADMAAAASAAAAEAAAABAAAAAzAAAAEgAAABAAAAAQAAAAKgAAABMAAAARAAAAEAAAABcAAAAS\n",
              "AAAAEAAAABAAAAAXAAAAEgAAABAAAAAQAAAAFwAAABIAAAAQAAAAEAAAABcAAAASAAAAEAAAABAA\n",
              "AAAWAAAAEgAAABAAAAAQAAAAFgAAABIAAAAQAAAAEAAAABYAAAAQAAAAFHN0Y28AAAAAAAAAAQAA\n",
              "ADAAAABidWR0YQAAAFptZXRhAAAAAAAAACFoZGxyAAAAAAAAAABtZGlyYXBwbAAAAAAAAAAAAAAA\n",
              "AC1pbHN0AAAAJal0b28AAAAdZGF0YQAAAAEAAAAATGF2ZjU4Ljc2LjEwMA==\n",
              "\">\n",
              "  Your browser does not support the video tag.\n",
              "</video>"
            ]
          },
          "metadata": {},
          "execution_count": 86
        }
      ]
    },
    {
      "cell_type": "markdown",
      "source": [
        "# **Epoch 10, video 3**"
      ],
      "metadata": {
        "id": "TS-h1nEXaZCY"
      }
    },
    {
      "cell_type": "code",
      "source": [
        "video = imageio.mimread('/content/logs/Tianshou_ER_DD_DQN_05_Feb_2024_13_40_33/videos/epoch_10/video3/eval-episode-0.mp4')\n",
        "HTML(display_video(video).to_html5_video())"
      ],
      "metadata": {
        "colab": {
          "base_uri": "https://localhost:8080/",
          "height": 321
        },
        "id": "ityDNNAnZPwW",
        "outputId": "3d699e57-b15b-4695-bb40-badfa13cb76f"
      },
      "execution_count": null,
      "outputs": [
        {
          "output_type": "execute_result",
          "data": {
            "text/plain": [
              "<IPython.core.display.HTML object>"
            ],
            "text/html": [
              "<video width=\"300\" height=\"300\" controls autoplay loop>\n",
              "  <source type=\"video/mp4\" src=\"data:video/mp4;base64,AAAAIGZ0eXBNNFYgAAACAE00ViBpc29taXNvMmF2YzEAAAAIZnJlZQAALgJtZGF0AAACrgYF//+q\n",
              "3EXpvebZSLeWLNgg2SPu73gyNjQgLSBjb3JlIDE2MyByMzA2MCA1ZGI2YWE2IC0gSC4yNjQvTVBF\n",
              "Ry00IEFWQyBjb2RlYyAtIENvcHlsZWZ0IDIwMDMtMjAyMSAtIGh0dHA6Ly93d3cudmlkZW9sYW4u\n",
              "b3JnL3gyNjQuaHRtbCAtIG9wdGlvbnM6IGNhYmFjPTEgcmVmPTMgZGVibG9jaz0xOjA6MCBhbmFs\n",
              "eXNlPTB4MzoweDExMyBtZT1oZXggc3VibWU9NyBwc3k9MSBwc3lfcmQ9MS4wMDowLjAwIG1peGVk\n",
              "X3JlZj0xIG1lX3JhbmdlPTE2IGNocm9tYV9tZT0xIHRyZWxsaXM9MSA4eDhkY3Q9MSBjcW09MCBk\n",
              "ZWFkem9uZT0yMSwxMSBmYXN0X3Bza2lwPTEgY2hyb21hX3FwX29mZnNldD0tMiB0aHJlYWRzPTMg\n",
              "bG9va2FoZWFkX3RocmVhZHM9MSBzbGljZWRfdGhyZWFkcz0wIG5yPTAgZGVjaW1hdGU9MSBpbnRl\n",
              "cmxhY2VkPTAgYmx1cmF5X2NvbXBhdD0wIGNvbnN0cmFpbmVkX2ludHJhPTAgYmZyYW1lcz0zIGJf\n",
              "cHlyYW1pZD0yIGJfYWRhcHQ9MSBiX2JpYXM9MCBkaXJlY3Q9MSB3ZWlnaHRiPTEgb3Blbl9nb3A9\n",
              "MCB3ZWlnaHRwPTIga2V5aW50PTI1MCBrZXlpbnRfbWluPTI1IHNjZW5lY3V0PTQwIGludHJhX3Jl\n",
              "ZnJlc2g9MCByY19sb29rYWhlYWQ9NDAgcmM9Y3JmIG1idHJlZT0xIGNyZj0yMy4wIHFjb21wPTAu\n",
              "NjAgcXBtaW49MCBxcG1heD02OSBxcHN0ZXA9NCBpcF9yYXRpbz0xLjQwIGFxPTE6MS4wMACAAAAC\n",
              "7mWIhAAv//72rvzLK0cLlS4dWXuzUfLoSXL9iDB9aACNSaGIELTbbjagJAAAAwIUFP83mYOAMQBC\n",
              "3Pln5D2Ntp1Fj9iztNepWpq0Rq8aCyfifYfwzP24cDD2N63IDPbQCVt3scl0yNa19n2ZpsLlRfK8\n",
              "Eh1i8pN5tinLVsDArN3MIhuzr+ds+8PK1Ik476ohElTNEcTvlUfw39k6c5R3KYs78GdW+1UToCHk\n",
              "9ot2Sfrc/+CetXUClvafpXCUDs2/GfewhmAGksayL3QUw3b5Tt7Xp0NQrPbYY59d9yfDNzlNq8Xc\n",
              "0Yhs0I75fucciXsDmxDNQ2ioi/YaMfeW2uASGB85bYHFpaVqdQgYCGpIf1GpiJPz8mWOhYokouV8\n",
              "3euHWX2Yr6T2zXhQLF+R7f0S2w4J83ZOpSbqur6YWaNb3zFuGrH3pOQl3tAiHzUctYPiC4Rq86WY\n",
              "OXK/mJ73Oa6akF8szUlHMFPdheX4nN4lQ3VWDIj0pS+xnUkoxjJ2msgi25mGPJ2ZQ8NuQfSer3vP\n",
              "QYHq5rsWux2E8NCTarTvieqnR/3S8mqthYQvlcWnnV5+nzucaCzWnPdDTCNYexBmHbcEoUGy6MsK\n",
              "32pqxwXH4iDreK9gJFmtwtgwj/W8bFDTjay2OQtN6/QbkoZhhuboO9BAK3EKpDE6ieaoHL/aA+Q6\n",
              "4nBw0tIF+Q2DmqYP/9GfSmRI1DRS02PdRA6QgMmFbRMnAQVcNwPx+vz25SfgSeeHBvclsoawdPmN\n",
              "wTjBhA19QCmaBvgSX0OBMijnkYtpZ0Sv7DtsKpF7MKVyaohN25rBB9132vIU7iJg4d8zY8C8jEpK\n",
              "tjbLiziK9bu9Z2L+Isl8ZGZuHRnbLpdlqNWKHVZsXmve/PHHLD6PWSvjvaykz6fk/zie7vQktayp\n",
              "cfFpCkoH0hV9UQZYV7tTPkfhbc5AK2n+badrgxeeksc/7ODl1AYnl1ocSgcx6oavSErMrzpuPpVS\n",
              "xCgAAAMAAAMCRwAAAGBBmiRsQv/+jLADZwSFcYAJ2yqZlgYjE6T1u3l1xgd9+F/1KxjnvOMuwdes\n",
              "xtcSm/FBbXoKHeHPMTQeH0cXDOwuKVthLwucOgdFyrgmgKsh9MNpv7sv0vCRm37cIjz6TqQAAAAm\n",
              "QZ5CeIR/AQzMckJF8HNtABtJutJJ83Wz3jWqwCUVSmk4NWMPTrkAAAAZAZ5hdEf/Abq5J47b479D\n",
              "GmKQqurPfANoUgAAABsBnmNqR/8Br9hnWRbX0yUZLr9B0O8XUbzOIeEAAABuQZpoSahBaJlMCF//\n",
              "/oywA2VcQgAIaa3b5KG1ju5s6qMORWLw/PE6xwGNk1qGLBwWXvuhoiH6o8n9WiBtuqcndJmzd8Al\n",
              "JfkTj8A+86Po2JD158dzUlbwd03hWmkrOI22F+vqcVSUhFfUPumYxvEAAAAsQZ6GRREsI/8BFgPe\n",
              "kAF6B251ebgwWU3nYIbNdf7D532q6xq5uXft1LcMXcEAAAAbAZ6ldEf/Abqmtu6p0OBGfFa3G+q9\n",
              "Zll0yqUhAAAAKAGep2pH/wG5ZA8/Pb9jCAA7QPz1sH1erp5bhCFYVZY6AQjtMlgAxWwAAABQQZqs\n",
              "SahBbJlMCF///oywA2mtPOAtAEAOvlg90LuhMUxwpGL7Fn/WcjijUoOrBqlOsY6X/WH4H+Dq3xN8\n",
              "IO8gtG7/vbniMEoaZ7eVesTCkEgAAAAtQZ7KRRUsI/8BFgwFYAMu6nzj5gh7sgi6O0BLuRwsOsOJ\n",
              "TR8Sw914YFAkGpiFAAAAIwGe6XRH/wGrBB4L3ABy7OeneiEL8hAQ8MGdQu+RFJNYHy2pAAAAHwGe\n",
              "62pH/wGv/JKMnGnttwsnQAEwUjXljlNnSLgVjmAAAABdQZrwSahBbJlMCF///oywAiCSnmAUc0oP\n",
              "VGsqcrUW19CwF6JvDXb+q94f5/DIK18cJY2nqa13savfJdLpTGHha8dZsw1Vv5DI5v29SKU5g+6X\n",
              "JgXS4CnXEfe4I84xAAAAH0GfDkUVLCP/ALEa6NmDCeSu0UgNR3QzZMeqpQjoWL0AAAAnAZ8tdEf/\n",
              "ARJgVPfIbzAA9+HKqLWdtzV0sm9l3zHsZMNfxgTw7km9AAAAJgGfL2pH/wESOXABSOnLvX4W4dqG\n",
              "qG3eomhznZeQ8qOirIr1aCVgAAAAR0GbNEmoQWyZTAhf//6MsAIgCYS8VnAE5AVufdCWdOEWskGw\n",
              "QePHI/9OQhzCJisTLcrBTbUrzE7uzLCpBRWdAjFlPMrNG+9AAAAALkGfUkUVLCP/ALFaXkasteJI\n",
              "AIKg7DuW8m1+yuYgpPsnlNTVg4GRowfwg42CFYEAAAAiAZ9xdEf/AR4Xnm8AKSF1WZy9O41xVc1Y\n",
              "BYAmmu34lRJCbAAAACgBn3NqR/8BHj2tRmmMALr50YFwrFkluyTBBXdVgsZeb9Qzp1pMdtxgAAAA\n",
              "XkGbeEmoQWyZTAhf//6MsAIgop6SE2uyjkaKdim3P8ANDZ97Z7nzkW02E5BPt+JIUUygJBKXq+4v\n",
              "1/KpT0svyH8jhlUi2lDh5rjdc463DUFJRB0j2Qu2sek7/urKtLMAAAAxQZ+WRRUsI/8AtfUVFTnE\n",
              "sALRvLIe/NUVWik2Do/yV0uUp332r5Gv/6veSx6IMJhXoAAAAC4Bn7V0R/8BHV/StYBMInLpvRjr\n",
              "N4fAUvezOkJ1AkNg95aXF1Xr67OVkQO+2tOPAAAALQGft2pH/wEd+g4YzTv1mhwh19pvXbQ8R6Hw\n",
              "uTrcBwAEetsGRTnw/bp/cp0QgQAAAFZBm7xJqEFsmUwIX//+jLABUvNsqutIAKpDwId/e6NtL6Ch\n",
              "160nQ+s4N34zejNQRNvPD0ocJMwjYpZ69D8VzkjXYDCvMA/mr8vdgAv+KNsfOIJx1ymEAgAAAD9B\n",
              "n9pFFSwj/wC2BTiAiWWBBBkfk3hNAAJxE4mHidsTWdLgYbPx6pjFpyRI3keYvgoDcfuz6kzT5v0X\n",
              "2sOpncEAAAA6AZ/5dEf/AR1j7hqdN0vkucFAB8AwzIQ+iBBgUoUgoTD4MIr0evprLgOsyn9Ag1/e\n",
              "14VoAT+NuCjNcAAAADABn/tqR/8BHfohCqRoUs6Leqtx9O/DtAAfxrJpYGRU4o2ce1WWGjeKi6yQ\n",
              "eM06v30AAABXQZvgSahBbJlMCF///oywAVLy8ynQ7gKEKAoKm5WtAujailK498TjL1D6dkHxX1X5\n",
              "ZE9PpMesXg2+iO6Dqaq8Wzwoi2at2/B3vHhjApMx86M+aD1joFXpAAAAP0GeHkUVLCP/ALYFO86s\n",
              "vXvVQI6MADjdTCwPyAxxcxMFgeww24yZJyFNKi03/XWVqhvqbKmox6JDwPgLq1trgAAAACwBnj10\n",
              "R/8BHWPuGpc9EA0zGLSWSCYDpT7xABM+2/kTdJ2cxnXIBMzKVoHHXAAAAC4Bnj9qR/8BHfohCqRQ\n",
              "RZ2FvI+Z4gAnO9f590O4YjZqRXgxkt4UEp/3RJJV12O5AAAAVkGaI0moQWyZTAhf//6MsAFU5ly8\n",
              "N1QXLcjZNPaAE0r8sslLvVtfEW/NP4xbth74/Nv0LaooTdVNaF7eDDVfB904CR0fhGYMt5WuPvr8\n",
              "kBSuCuabBW/gAAAANkGeQUUVLH8BHj69jWmLycc9SXQAFxYaeUOVQk6y1AIScpOiBfsW45RO/6Sf\n",
              "SR+6HrYPY2w+5wAAADIBnmJqR/8BHfohCqS+UpslebxycIAXlYIe7BgbJUwvN0lf7HYD5bSRO7hf\n",
              "B8YTQ/RxgAAAAEpBmmdJqEFsmUwIX//+jLAAz3+vqcjkEeT+IooANGuxUFh2PNkKQaf+ymC/ut6y\n",
              "ByXTdcAnZ8rIFNdGdfW6b4YjwuOmftKoP9st0wAAADNBnoVFFSwj/wC2BTvOp17/LiDpukPeXx2F\n",
              "zYI8wAcbG1CAdBSiXOnQhm3PczxrvntIkUEAAAArAZ6kdEf/AR1j7hnsCx/6TABO2FCmbUpfFrUi\n",
              "njOglOqH0nsmhx5OWxzY4QAAAC8BnqZqR/8BHfohCl6agYBM0MfAe2ZfdY22CEKYJUePlQrfwLB5\n",
              "gDj7BD9k+Ec2gQAAAFZBmqpJqEFsmUwIX//+jLAA0BXQwxamPOKlp7J5QUo4iPLVpAA28IRTBTFe\n",
              "mz+uyE7+q9dH5Q70cXWAk/5V+JVl5mehmxdnMxUlIISxbMMRzgyW3GdDXAAAAC5BnshFFSx/AR4+\n",
              "vY1evRnoFLwuoAR2cxkdIp0AKKEyiLEYIWiYO0m1CQw//dFgAAAAJQGe6WpH/wEd+iEKXJ7UUFf2\n",
              "nJlgQzb6j5DwwCgvomk8vcKCmDEAAABTQZruSahBbJlMCF///oywANB650MRkzlETJnsf4IpDe3w\n",
              "eZeAZ9JpXWPhsHj48G/eKdfkREavjbkJ5AXEbpS9c9DS+2dRFxGQl1AdtRIi3iSB4uAAAAApQZ8M\n",
              "RRUsI/8AtgU7zqdchYcTVSOAXEzZgBO0+hymr/Y+Eg6Zy7DGo+AAAAArAZ8rdEf/AR1j7hnrfuiV\n",
              "Bb/yOlX2Xn1p4ASxozZLhQTf5Uu0UJJFjrTugQAAACUBny1qR/8BHfohClyDtUtgkvolFIkuZhWI\n",
              "gCf6NwbjxjGt4IQXAAAAVEGbMkmoQWyZTAhf//6MsACABALkf3AHKqtLk68t6ZqDE/Ao1UfJ8zfj\n",
              "523Vq+uIX95bjR6VtYXWhojllzyoxJ3LN70De52PbV3UIhpE4dQuw0uD4QAAADZBn1BFFSwj/wC2\n",
              "BTvOpd+nbw5ucJmIAJag6yilhABUg26dvN779hIAX3bufsx9HjAqRDgonWAAAAAwAZ9vdEf/AR1j\n",
              "7hm8OJHsv1pIAJ2wxhTuB2qf8+vdESh2sApb0CbFMKp+1v9z6JaYAAAAKQGfcWpH/wEd+iEKSFl+\n",
              "HK05OyEWnI6B4AON2KgYPOlYed/rcBfj9MGJAAAAWUGbdkmoQWyZTAhf//6MsADQcJ0/ox5OYzQA\n",
              "NYeLMvsziWtC7vgnLT7otPHDAwAvaQcOwBokUFBoEcvBOs5W8enxasgDM9qqAhR3iPPofUOi+OQE\n",
              "n+VhdDAgAAAAM0GflEUVLCP/ALYFO86nXRGIIPTyeeclHff4yrZR2AE6uq0n+4cFxCK/upxkIQvL\n",
              "XPJjgAAAADIBn7N0R/8BHWPuGeuXFp01FCrmk1v0/BHJLgAXUWPnZ6nSQ8NwfpzYyLI/W6zxNEqZ\n",
              "lwAAADQBn7VqR/8BHfohCkhF0iPVT8AE1XcX4gxt+DVB6qTjQe6tIbIiDSL7AIytf4md5vUu3GlX\n",
              "AAAAR0GbukmoQWyZTAhf//6MsACABALD/+jJ5oAHFkWaeknVzyEAys/AwuYgsFtXZq1GEPbMC8eD\n",
              "5Chvo8pooO66es8YZO1Ku/4tAAAANUGf2EUVLCP/ALYFO86l4Jh9kACnKf55qbMozwACaop5wUl+\n",
              "Cnc5F6k/LldYB7cbWYndSkUNAAAANwGf93RH/wEdY+4ZvB6kci9btAE0gyjDnqxix0V+sYnQCMKm\n",
              "3Df33ayBlXsty21sVptoqgCTQxAAAAAyAZ/5akf/AR36IQpHQLGGg3lX9WpoG1wYAAmjXwmIM79h\n",
              "/lIkJf16tj5PnALltL5MEacAAABaQZv+SahBbJlMCF///oywAID03prvqRs1CeqADjc9oLT2/6jd\n",
              "5AmrWSXtkriFVYgljxTlwvQiEZtpJMRAhL4cWLFp0H3Gj2bGsbH+rG4GBRkbzj9dq47cMEcwAAAA\n",
              "M0GeHEUVLCP/ALYFO86l3ZOVmQ0lYsdO5zPT+SAAH4kmOUAf5NtO8HQIvE6F1dXl1xevmQAAACwB\n",
              "njt0R/8BHWPuGboOYXGHzRflMvvoPIAC71Vas36l40oe55tU8ecHv/Z+cQAAADIBnj1qR/8BHfoh\n",
              "CkhZe6TlgxDMbFAg3rMAg7TDDw+lmPogwh/J+vjC4aaMLR7pZlnj0wAAAFZBmiJJqEFsmUwIX//+\n",
              "jLAAUFTvC9zk/bACyXx+K7ua/tCSJ4IO14y87JvS0HsBe7NB+knlV/zIbfpl8tQDtYcH2bjqwHA/\n",
              "JGldw1VR85+4Vs21XgMdMAAAACtBnkBFFSwj/wC2BTvOpNbK8xgpnFL2AEy1U7UNPfGXnYrBfAPK\n",
              "IjVos1XBAAAALQGef3RH/wEdY+4ZueLme6OtE5v3xpnPjobCAM3vKhLObUc+rbZw8iuR1YY5wAAA\n",
              "AC8BnmFqR/8BHfohCkdQLSgfopgAPdGi8uuic/lSLIWphQCTFnCaoBprauhIWnJGYQAAAEJBmmZJ\n",
              "qEFsmUwIX//+jLAAUELMMSLzQA3XAwPolNVPVqOJdzimBPieB3O2QSzofN3VbUt7OtG8v7uUmvhv\n",
              "QSE4jKAAAAA1QZ6ERRUsI/8AtgU7zqTWzoGzguH0E8Z4oTX8wAiNF/fYXw9vq4tMa0PvrvCdEJBR\n",
              "yRC9G+UAAAAyAZ6jdEf/AR1j7hm+rpwBSS95CG9LARcnA6yLbTIP4MXH+0aDb7Cxph6twEli/XwO\n",
              "BP0AAAApAZ6lakf/AR36IQo7Wsd3MM1vwfwgAtjBkPXcMTX4qpfxh+hiZ8RgW1kAAAA/QZqqSahB\n",
              "bJlMCF///oywAFAsYnAAQA04w/pwtf21o3T9i0fk7eZba5UOpXn1414k3rHB2WGioXEw5xvxu/Xd\n",
              "AAAALUGeyEUVLCP/ALYFO86k4IEaXtDF+YdQmzzABdA43r9olAhrfjAonwRQiErzyAAAABkBnud0\n",
              "R/8BHWPuGZl3EKpziMScXwGoVwgkAAAAJQGe6WpH/wEd+iEKO/tF7DBX3zIAB6X19jYGeuQiUe+F\n",
              "hbUzX4EAAABIQZruSahBbJlMCF///oywAFAaIq+Sq5nABweEjudxfGy/Sl9REQG88my10p8gcDvI\n",
              "4Elk+yZYoOqDf4UJAPhDmJTZhnhcFV1AAAAAL0GfDEUVLCP/ALYFO86k4KSDvhXi3zfwr4gwAJ1h\n",
              "AekxSu/lvcSYDLi7CBLXGiHoAAAAJwGfK3RH/wEdY+4Zm+2eoO6/VABN/cGgXwKhG//rj0dpOqZo\n",
              "8+pSQQAAACcBny1qR/8BHfohCjv6vSgtS6oqVEAExA/e1eX+od9GtBnIeC+7K3EAAABOQZsySahB\n",
              "bJlMCF///oywAFBBUk6/fUBr88BjUAZ3kLZmk4Ds7f/BAt+s7kHmkXmb3Q98iQ3NtRlCyX4r5vEH\n",
              "vLeoJg2yf4yV0NArowtVAAAALUGfUEUVLCP/ALYFO86k2xuCAWX1WrjXi4JiFmritpsmYSMCs5zh\n",
              "o4MZY/opgAAAAB8Bn290R/8BHWPuGZwZpxDVCa69HOTLAgA9wsV48/k8AAAAKQGfcWpH/wEd+iEK\n",
              "O7Kkdr7lybHbt98AAEaWVc7nZQaK9RWVDv4J0kFxAAAARkGbdkmoQWyZTAhf//6MsABQLnPiIi1W\n",
              "euZj9Pk9qV7y2EYTyJViu6EwFNehlm3le5M4aP8PJ+8nVPLk90HnZlm5r7o6zioAAAAtQZ+URRUs\n",
              "I/8AtgU7zqTV9eS+GM4AALKvyOevGNY0AVVXAlTjlZtL08bZZ5uAAAAAIQGfs3RH/wEdY+4ZmWNi\n",
              "vDhvbUPAAna2YVqBpAAFA9x2fwAAAB0Bn7VqR/8BHfohCjNzrUBLQPMAL7o3EH/yOJfmMAAAAD9B\n",
              "m7pJqEFsmUwIX//+jLAAULmXMZGyqvBXrQAFotagPuio0wyqjKuUujKCQ+lCU1jnEfmWJe54iY++\n",
              "uLFheA0AAAArQZ/YRRUsI/8AtgU7zqTRRd0j9Sf4vWfabOGSmftwBGnpa1nmcxvebaT1pwAAACAB\n",
              "n/d0R/8BHWPuGZqtpCcMTgAJq50aBj9/udQxK83DJAAAACUBn/lqR/8BHfohCjtrBDYh7kI8QATq\n",
              "5atG27m75ty7bk/9d10xAAAAUkGb/kmoQWyZTAhf//6MsAAy3Cc8CX49+G8smACzL5hNWkw0y/8B\n",
              "f9FSTyt8UgfgMPSw+DvZ7HurbR4jMfHjlMNZ52zSdVqM24rjmsJqxmnzQ84AAAAtQZ4cRRUsI/8A\n",
              "tgU7zqThn7gGo9oCX7NqGeTOMw3ux/AHT2AH/XMWnvVK1BvFAAAAHQGeO3RH/wEdY+4ZmvkDAC0i\n",
              "k6dkDXzG3FTxcfuBAAAAIwGePWpH/wEd+iEKO7KksSEmsjiFXeH4doBL0v3VIxs18hwgAAAAREGa\n",
              "IkmoQWyZTAhf//6MsAAxgMgpjYeOlRIARjRJ6KMmFdrF/zA6HsiIxKBIHBYsCz6IbFLGqufYnHlc\n",
              "g+6LfkPuYiVAAAAAMUGeQEUVLCP/ALYFO86k0UXdAD42/vIM3CF8qqU9iwBYASgSNT6U5aHCFKPj\n",
              "CqK0yOEAAAAgAZ5/dEf/AR1j7hmaraQtES78m8aMWAC/06j0lWnIeLgAAAAmAZ5hakf/AR36IQo7\n",
              "awQ2lD3yAAfbw3OWjKmuoEFhtAh5QfxmYkEAAAA2QZpmSahBbJlMCF///oywADFt31jVJP2+UBAE\n",
              "Q0pkkHWp6/xFLeciVVMa3/1vapc+sfPLc6Y8AAAALkGehEUVLCP/ALYFO86k1qZaMVc9TAAAAwBM\n",
              "/50imrhLHORQFBOh0Gdy77wBc/EAAAAkAZ6jdEf/AR1j7hmaraQnBny8/YgAWHrpoO9b3BrH8+NH\n",
              "7IJBAAAAFQGepWpH/wEd+iEKO2sENpnKi67GEwAAADpBmqpJqEFsmUwIX//+jLAAMUwL/09syyqI\n",
              "AbboAgify+X0bQVzKuqRP2UoZn6Ugwwp+f1O31sOVHSBAAAAH0GeyEUVLCP/ALYFO86k1qZaNNwz\n",
              "wzFrR1P72wWp6OAAAAAfAZ7ndEf/AR1j7hmaraQnJPGhTZX1QgAjHkkm6qxBIAAAABoBnulqR/8B\n",
              "HfohCjtrBDZ/SFUZ+rLoVq+QBwAAAENBmu5JqEFsmUwIX//+jLAAMUu4tNRwA4xD9BhzF7DK5DXv\n",
              "ZGRw01kd8E2kOjv+q9/6qlWdVqNz2+QmLf+7fFEe849IAAAAJEGfDEUVLCP/ALYFO86k1qZaMtvM\n",
              "lQA2zqPw4z6MpCRvs3xKOAAAABwBnyt0R/8BHWPuGZqtWjWtTl7aYjgAfuPUW4phAAAAHwGfLWpH\n",
              "/wEd+iEKO2sENpRiLgJP/lgAJ1P1Wk9PWGEAAABGQZsySahBbJlMCF///oywADFhrm8meZwAsOGQ\n",
              "jMYxjj9YR1u0q5jYwao1j48FO+VdJbrOI0TfYoRRYiImstcLtP+za58ugQAAAC5Bn1BFFSwj/wC2\n",
              "BTvOpNFF3QA+1MqaAAK5WxEbghuvpqjMU5R1KU26rjOBDnmAAAAAGQGfb3RH/wEdY+4Zmq2kGacY\n",
              "KFd9D729dMAAAAAhAZ9xakf/AR36IQo7awQ2uSua7AA2yGuwLSy7GuGbUnPxAAAARUGbdkmoQWyZ\n",
              "TAhf//6MsAAxnCc/21sTcOgBZFF/Cy5c4GeeGArwtvu1hz7cxt0KoCi8kYQLLKvUPWgY7wIwf7BH\n",
              "/3GqYAAAACNBn5RFFSwj/wC2BTvOpNamWjN6GwHKAzuQaSNRVvXMRW55uAAAACMBn7N0R/8BHWPu\n",
              "GZqtpe5gAUkveR0OTNY9HFcF6eKZIdm93QAAABcBn7VqR/8BHfohCjtrBDTkQY8xaYETPwAAAFlB\n",
              "m7pJqEFsmUwIX//+jLAAMU7MgAcYulRGCI1v8EvIU/ENiC5mv6KL2zFigazq5BBhNIBYT9ysux9S\n",
              "K+GRS+tfr968bL/bC/WEOWZPxs2wXU0ddTI3JtfKQQAAAC1Bn9hFFSwj/wC2BTvOpNamWi5emXnM\n",
              "fawEv3T9SADRpWTlgHjl5ofjlFy8s0EAAAAYAZ/3dEf/AR1j7hmaraQxK/CRdbdgIvknAAAAHwGf\n",
              "+WpH/wEd+iEKO2sENajAAF/rOPh1G94lfJb+p2EAAAB6QZv+SahBbJlMCFf//jhAAL/0tAAcu9gW\n",
              "mBg3nj82uSL3varnHrEJ9wgj//qKWTYs1MZsy93SccopQ5D7USfiNMn3p/crNOJC7CxNL4zg1JWz\n",
              "hfkVIlPrd5y+an4bC9VQ5ohbmMmpTHpUt3wRntiDrRcR+plK0+1tP7gAAAAzQZ4cRRUsI/8AtgU7\n",
              "zqTWplgzwL9oBgErm5NyY0uib628HQkAH7lOVr4EEmrstJHTFNn5AAAAGAGeO3RH/wEdY+4Zmq2k\n",
              "L49+DUWZJ2IDIQAAACIBnj1qR/8BHfohCjtq6cXeghDsADoQC//IyQyZNOa9yUKAAAAATkGaP0mo\n",
              "QWyZTAhf//6MsAAxV1Nm30gAcXWCamr+FWOR1TBx8uOCJMdQO42vSgd2BLXPM1APe/gV0cSstTKz\n",
              "l2RS/3HQqx0hKIXHnMztYAAAAF9BmkNJ4QpSZTAhf/6MsAAxnveEJ+uLSMCj9WZFVYi+sAFoQO+C\n",
              "BE3xC5HImtRRp2ptjUQpWgzO5CyioZkNXGCQlX15VDqhTtg7fzNmnPmk50arNo3lAaT5LpEnbDtU\n",
              "wQAAAC1BnmFFNEwj/wC19VxGGPP7wgA1ygJefl9g/optSP7FFDiTKARXSfvp02sn4nYAAAAiAZ6A\n",
              "dEf/AR1j7hmF2+IANvoqtlZE2UEzfHc0emmlQHB44QAAABwBnoJqR/8BHfohCjMdYWwgBSMaaazZ\n",
              "hHACLh6YAAAAX0Gah0moQWiZTAhf//6MsAAdKwRpB8sAQAanqH0NtoAvhqDLKwuE1/SkC5W328VO\n",
              "ZIzKTLf3MJ45zAfvRK656YJfXaU2//x7SGmmZSHK7ufSEB05fEv7RbiLN+26l9WZAAAALEGepUUR\n",
              "LCP/ALYFO86kJdnYKZ5yedknAACv+YAJ2xISqpaic66ftvV3m0mxAAAAIQGexHRH/wEdY+4ZhQFi\n",
              "8rJjAAJzacLFqfnXd+4V5fsT4QAAABsBnsZqR/8BHfohCjLTo2gKAD9yxZ4o+5qKeuEAAABjQZrL\n",
              "SahBbJlMCF///oywAB0+MVZqWJUANl2fVtG6mm9Re5XJlB9xBBH1mxohqlaYrOrgI9EX9MEbfQrd\n",
              "nulkCNn6NbqupWyqfWXj9DwuDdOZiqcpNSId1l2rG7ra1tITcjVmAAAAIkGe6UUVLCP/ALYFO86k\n",
              "KNKrGtumAflOQ/7KABsPOz5IGLgAAAASAZ8IdEf/AR1j7hmFAWL+4kFNAAAAEQGfCmpH/wEd+iEK\n",
              "MtOgsqx0AAAAUEGbD0moQWyZTAhf//6MsAAdGO9N33dgABGB2lY2cg66HTsEQ1EulAzD1MOh5OYL\n",
              "IMLdAG7lQkbnhn1sE0oJZZ6AP53FkYACNJBDLa8O+LNIAAAAFkGfLUUVLCP/ALYFO86kKNKs6wVo\n",
              "KYEAAAAQAZ9MdEf/AR1j7hmFAXcxgQAAABABn05qR/8BHfohCjLTo8xhAAAATkGbU0moQWyZTAhf\n",
              "//6MsAAdPmPDQRcAQ8OSc6l9RCgEfA2Fthwc3I+eGsaZ24Flt/Z8vEXiB5XN0h0XfswtMawjGMN5\n",
              "MK4AuFUmtfizSAAAABJBn3FFFSwj/wC2BTvOpCjS2mMAAAAQAZ+QdEf/AR1j7hmFAXcxgQAAABIB\n",
              "n5JqR/8BHfohCjLTmtd5MFwAAAA+QZuXSahBbJlMCF///oywAB3QorAIG3gBrTsCTf+/EjkEIcxN\n",
              "SkESa539t/uexu9Vddt68O4MFjB34/9YusAAAAAkQZ+1RRUsI/8AtgU7zqQo0yldmffiwAXO80Cg\n",
              "eo/sqtHgnQs3AAAAEAGf1HRH/wEdY+4ZhQF3MYAAAAAUAZ/Wakf/AR36IQoy063948Z+7UEAAABI\n",
              "QZvbSahBbJlMCF///oywAC7ZbogGrAFvn+E7vDJ48IptgCCXYNvOeGB87o1S9EV+06OV7I5hQKhZ\n",
              "P39K8KkQuho4dqP0E5xxAAAAFkGf+UUVLCP/ALYFO86kJdndAETYzcAAAAARAZ4YdEf/AR1j7hmF\n",
              "AaAXlHMAAAASAZ4aakf/AR36IQoy064biuvAAAAAQ0GaH0moQWyZTAhf//6MsAAd1IKcAUtQuppw\n",
              "SdT3b6NxaxmJ4k8Lgpzv5AmzzZi3EPBX6zRj8eiivW7MpQcs7WBZDJUAAAAeQZ49RRUsI/8AtgU7\n",
              "zqQo0y0WnlSPfwAJ26mT6OdJAAAAFQGeXHRH/wEdY+4ZhMObo4La1WFPgAAAABwBnl5qR/8BHfoh\n",
              "CjKqxLqdVYA130+DJGEIgM2AAAAARkGaQ0moQWyZTAhf//6MsAAd/1spR/tPWyzto0aywyAN1Qzo\n",
              "fWJdWpSYMbqoVLAyZjOw7YhQimYo26shXKf92DbL1w4Zi60AAAAWQZ5hRRUsI/8AtgU7zqQl2d0d\n",
              "UOMdIAAAABEBnoB0R/8BHWPuGYUBoBeUcwAAABMBnoJqR/8BHfohCjLTnYKarDXAAAAAPkGah0mo\n",
              "QWyZTAhf//6MsAAd0TuYAWBq58EN8W6+2pyp3espco0VBNZvowtr/l6S3AY3s3OD3SZuqTJm3MXX\n",
              "AAAAIUGepUUVLCP/ALYFO86kKNMsx6F9ABdRdbQMPb5ksYNPgQAAABsBnsR0R/8BHWPuGYUBderE\n",
              "ALEP5aId5SVE+OkAAAAeAZ7Gakf/AR36IQoy064bM5sABuQ42dXelpdwr3TZAAAAP0Gay0moQWyZ\n",
              "TAhf//6MsAAd1IKcAVbbbizO5miBy7J1TyPQzeTavgZxDbmloVnxnD45HTXAwENgiPMZxai4wAAA\n",
              "ACVBnulFFSwj/wC2BTvOpCXZ3RukJ1qVABxZBqAAXQbXc0/9IonAAAAAHwGfCHRH/wEdY+4ZhQGg\n",
              "fc4sIh4ALT7kcLXH/Yfb3TcAAAAhAZ8Kakf/AR36IQoy064u7dfIoV4WSWADiuiD24sPfunwAAAA\n",
              "M0GbD0moQWyZTAhf//6MsAAd/1s+0O/gBxBzaqZAtpVaa/FJd3QI3twnZSlAu/bV2L6MlQAAACZB\n",
              "ny1FFSwj/wC2BTvOpCXZ3R1Ls8QBEgGx8huJJfAmh2sWi1Rp8QAAABUBn0x0R/8BHWPuGYUBoG31\n",
              "QrawpsEAAAAfAZ9Oakf/AR36IQoy0649MQBRmn78yuInLMJfbdIGbQAAADFBm1NJqEFsmUwIX//+\n",
              "jLAAHdWUB7Y4cwALmao5tZTUoprQ7SkdwOvIYh0oOPye0l8kAAAAKkGfcUUVLCP/ALYFO86kKNMp\n",
              "REAA2RWHswsQ+sTFU9VnF5BwF6cRBpw0+AAAAB0Bn5B0R/8BHWPuGYUBoIkpJYAOJZW1GJk4z6bO\n",
              "kQAAABkBn5JqR/8BHfohCjLTrivNEZnPAAbLlenwAAAAK0Gbl0moQWyZTAhf//6MsAAd/1ud7/Lb\n",
              "9ADitVnmNbE/35JCeYk3ixv2T70AAAAYQZ+1RRUsI/8AtgU7zqQl2d0jx7qxvoKfAAAAFQGf1HRH\n",
              "/wEdY+4ZhQGf0RMw6vPg6QAAABsBn9ZqR/8BHfohCjLTrZ00V7fxgAHGbZ6PTOkAAABAQZvbSahB\n",
              "bJlMCF///oywADBet3+iVAPKZ53PHABxZN/5dZqBzi8QYKfbbGndMfUFs60jG6X6di4pkNHt5w2x\n",
              "3QAAABdBn/lFFSwj/wC2BTvOpCg2wBsOza6I1wAAACIBnhh0R/8BHWPuGYUBoPcwAKRmeW0+ZbNb\n",
              "fQndRYQWxM2BAAAAGAGeGmpH/wEd+iEKLfdsoApJD8uM2bW3HAAAADRBmh9JqEFsmUwIX//+jLAA\n",
              "Hf5FQAK8TbAsnKr9mhBSGYLtIJpJZLxgC/vWeaq2mSo8a3yRAAAAIkGePUUVLCP/ALYFO86jz9lA\n",
              "Aa8k+0ilWxnwIiwXTpfCqCEAAAAVAZ5cdEf/AR1j7hl57pRB7Y+kFCggAAAAFgGeXmpH/wEd+iEK\n",
              "LfPg8Q3hp7UojiwAAAAuQZpDSahBbJlMCF///oywAB3Vv8gBVnzh1FwyJ2n0jHRiwMHfEaV13T0Q\n",
              "PPjS4QAAAB1BnmFFFSwj/wC2BTvOo8+EvvY1wAOKlz7unHrjgAAAABkBnoB0R/8BHWPuGXndL96Y\n",
              "p8AA4ABU9O1BAAAAGwGegmpH/wEd+iEKLdp91+HPA4AHE8Pt2fbeLAAAAClBmodJqEFsmUwIX//+\n",
              "jLAAHcjyJUMviaV1AAtbxb0IHfK8vN/h8+NLgQAAAB5BnqVFFSwj/wC2BTvOo887MIYZ4ACwP4wa\n",
              "9Lj7VUEAAAARAZ7EdEf/AR1j7hl5qrHCQoMAAAAeAZ7Gakf/AR36IQot7GNkiVABw5jvsZZ2LCyL\n",
              "ZLjhAAAALEGay0moQWyZTAhf//6MsAAdziD4mdH5gAcPK4YeAfqZXx1Y9SMNqGnV68aXAAAAIEGe\n",
              "6UUVLCP/ALYFO86jz4G1eJOFEygBx51iaJXCIuOAAAAAGgGfCHRH/wEdY+4ZeejrdE+AcPkoAbTa\n",
              "aRUFAAAAHgGfCmpH/wEd+iEKLdp+r3tgA42iIgMOXT1X3MtxwAAAAB5Bmw9JqEFsmUwIV//+OEAA\n",
              "cT5S8eWwBEDYgU5fsVgAAAAWQZ8tRRUsI/8AtgU7zqPNHT0J+pznHQAAAB0Bn0x0R/8BHWPuGXn7\n",
              "pwBLKW0XDcLJr1Mf10BeLQAAAB8Bn05qR/8BHfohCi3sW3AwC7YqADio+YlSOsPWmKoJAAAAHEGb\n",
              "U0moQWyZTAhP//3xAAEc5pmgn7h/y1llRlAAAAAiQZ9xRRUsI/8AtgU7zqPPXDgeSytkARIObOIF\n",
              "s/7XWYdVBAAAACABn5B0R/8BHWPuGXnm6lDwB7Z9vEUf4UqJCVtIRItVBQAAABoBn5JqR/8BHfoh\n",
              "Ci3wJvUDAKNkVfQV/k1uOAAAABdBm5VJqEFsmUwUTH/8hAAG79EmWwFF5AAAAB0Bn7RqR/8BHj69\n",
              "jVee3TZQpO/wuYAA4o0odkScWQAADSptb292AAAAbG12aGQAAAAAAAAAAAAAAAAAAAPoAAAONgAB\n",
              "AAABAAAAAAAAAAAAAAAAAQAAAAAAAAAAAAAAAAAAAAEAAAAAAAAAAAAAAAAAAEAAAAAAAAAAAAAA\n",
              "AAAAAAAAAAAAAAAAAAAAAAAAAAACAAAMVHRyYWsAAABcdGtoZAAAAAMAAAAAAAAAAAAAAAEAAAAA\n",
              "AAAONgAAAAAAAAAAAAAAAAAAAAAAAQAAAAAAAAAAAAAAAAAAAAEAAAAAAAAAAAAAAAAAAEAAAAAB\n",
              "LAAAASwAAAAAACRlZHRzAAAAHGVsc3QAAAAAAAAAAQAADjYAAAIgAAEAAAAAC8xtZGlhAAAAIG1k\n",
              "aGQAAAAAAAAAAAAAAAAAAD6AAADjYFXEAAAAAAAtaGRscgAAAAAAAAAAdmlkZQAAAAAAAAAAAAAA\n",
              "AFZpZGVvSGFuZGxlcgAAAAt3bWluZgAAABR2bWhkAAAAAQAAAAAAAAAAAAAAJGRpbmYAAAAcZHJl\n",
              "ZgAAAAAAAAABAAAADHVybCAAAAABAAALN3N0YmwAAAC3c3RzZAAAAAAAAAABAAAAp2F2YzEAAAAA\n",
              "AAAAAQAAAAAAAAAAAAAAAAAAAAABLAEsAEgAAABIAAAAAAAAAAEAAAAAAAAAAAAAAAAAAAAAAAAA\n",
              "AAAAAAAAAAAAAAAAAAAY//8AAAA1YXZjQwFkAB7/4QAYZ2QAHqzZQTCfu4QAAAMARAAAH0A8WLZY\n",
              "AQAGaOvjyyLA/fj4AAAAABx1dWlka2hA8l8kT8W6OaUbzwMj8wAAAAAAAAAYc3R0cwAAAAAAAAAB\n",
              "AAAA1gAAARAAAAAUc3RzcwAAAAAAAAABAAAAAQAABrBjdHRzAAAAAAAAANQAAAABAAACIAAAAAEA\n",
              "AAVQAAAAAQAAAiAAAAABAAAAAAAAAAEAAAEQAAAAAQAABVAAAAABAAACIAAAAAEAAAAAAAAAAQAA\n",
              "ARAAAAABAAAFUAAAAAEAAAIgAAAAAQAAAAAAAAABAAABEAAAAAEAAAVQAAAAAQAAAiAAAAABAAAA\n",
              "AAAAAAEAAAEQAAAAAQAABVAAAAABAAACIAAAAAEAAAAAAAAAAQAAARAAAAABAAAFUAAAAAEAAAIg\n",
              "AAAAAQAAAAAAAAABAAABEAAAAAEAAAVQAAAAAQAAAiAAAAABAAAAAAAAAAEAAAEQAAAAAQAABVAA\n",
              "AAABAAACIAAAAAEAAAAAAAAAAQAAARAAAAABAAAEQAAAAAIAAAEQAAAAAQAABVAAAAABAAACIAAA\n",
              "AAEAAAAAAAAAAQAAARAAAAABAAAEQAAAAAIAAAEQAAAAAQAABVAAAAABAAACIAAAAAEAAAAAAAAA\n",
              "AQAAARAAAAABAAAFUAAAAAEAAAIgAAAAAQAAAAAAAAABAAABEAAAAAEAAAVQAAAAAQAAAiAAAAAB\n",
              "AAAAAAAAAAEAAAEQAAAAAQAABVAAAAABAAACIAAAAAEAAAAAAAAAAQAAARAAAAABAAAFUAAAAAEA\n",
              "AAIgAAAAAQAAAAAAAAABAAABEAAAAAEAAAVQAAAAAQAAAiAAAAABAAAAAAAAAAEAAAEQAAAAAQAA\n",
              "BVAAAAABAAACIAAAAAEAAAAAAAAAAQAAARAAAAABAAAFUAAAAAEAAAIgAAAAAQAAAAAAAAABAAAB\n",
              "EAAAAAEAAAVQAAAAAQAAAiAAAAABAAAAAAAAAAEAAAEQAAAAAQAABVAAAAABAAACIAAAAAEAAAAA\n",
              "AAAAAQAAARAAAAABAAAFUAAAAAEAAAIgAAAAAQAAAAAAAAABAAABEAAAAAEAAAVQAAAAAQAAAiAA\n",
              "AAABAAAAAAAAAAEAAAEQAAAAAQAABVAAAAABAAACIAAAAAEAAAAAAAAAAQAAARAAAAABAAAFUAAA\n",
              "AAEAAAIgAAAAAQAAAAAAAAABAAABEAAAAAEAAAVQAAAAAQAAAiAAAAABAAAAAAAAAAEAAAEQAAAA\n",
              "AQAABVAAAAABAAACIAAAAAEAAAAAAAAAAQAAARAAAAABAAAFUAAAAAEAAAIgAAAAAQAAAAAAAAAB\n",
              "AAABEAAAAAEAAAVQAAAAAQAAAiAAAAABAAAAAAAAAAEAAAEQAAAAAQAABVAAAAABAAACIAAAAAEA\n",
              "AAAAAAAAAQAAARAAAAABAAAFUAAAAAEAAAIgAAAAAQAAAAAAAAABAAABEAAAAAEAAAVQAAAAAQAA\n",
              "AiAAAAABAAAAAAAAAAEAAAEQAAAAAQAAAiAAAAABAAAFUAAAAAEAAAIgAAAAAQAAAAAAAAABAAAB\n",
              "EAAAAAEAAAVQAAAAAQAAAiAAAAABAAAAAAAAAAEAAAEQAAAAAQAABVAAAAABAAACIAAAAAEAAAAA\n",
              "AAAAAQAAARAAAAABAAAFUAAAAAEAAAIgAAAAAQAAAAAAAAABAAABEAAAAAEAAAVQAAAAAQAAAiAA\n",
              "AAABAAAAAAAAAAEAAAEQAAAAAQAABVAAAAABAAACIAAAAAEAAAAAAAAAAQAAARAAAAABAAAFUAAA\n",
              "AAEAAAIgAAAAAQAAAAAAAAABAAABEAAAAAEAAAVQAAAAAQAAAiAAAAABAAAAAAAAAAEAAAEQAAAA\n",
              "AQAABVAAAAABAAACIAAAAAEAAAAAAAAAAQAAARAAAAABAAAFUAAAAAEAAAIgAAAAAQAAAAAAAAAB\n",
              "AAABEAAAAAEAAAVQAAAAAQAAAiAAAAABAAAAAAAAAAEAAAEQAAAAAQAABVAAAAABAAACIAAAAAEA\n",
              "AAAAAAAAAQAAARAAAAABAAAFUAAAAAEAAAIgAAAAAQAAAAAAAAABAAABEAAAAAEAAAVQAAAAAQAA\n",
              "AiAAAAABAAAAAAAAAAEAAAEQAAAAAQAABVAAAAABAAACIAAAAAEAAAAAAAAAAQAAARAAAAABAAAF\n",
              "UAAAAAEAAAIgAAAAAQAAAAAAAAABAAABEAAAAAEAAAVQAAAAAQAAAiAAAAABAAAAAAAAAAEAAAEQ\n",
              "AAAAAQAABVAAAAABAAACIAAAAAEAAAAAAAAAAQAAARAAAAABAAAFUAAAAAEAAAIgAAAAAQAAAAAA\n",
              "AAABAAABEAAAAAEAAAVQAAAAAQAAAiAAAAABAAAAAAAAAAEAAAEQAAAAAQAABVAAAAABAAACIAAA\n",
              "AAEAAAAAAAAAAQAAARAAAAABAAADMAAAAAEAAAEQAAAAHHN0c2MAAAAAAAAAAQAAAAEAAADWAAAA\n",
              "AQAAA2xzdHN6AAAAAAAAAAAAAADWAAAFpAAAAGQAAAAqAAAAHQAAAB8AAAByAAAAMAAAAB8AAAAs\n",
              "AAAAVAAAADEAAAAnAAAAIwAAAGEAAAAjAAAAKwAAACoAAABLAAAAMgAAACYAAAAsAAAAYgAAADUA\n",
              "AAAyAAAAMQAAAFoAAABDAAAAPgAAADQAAABbAAAAQwAAADAAAAAyAAAAWgAAADoAAAA2AAAATgAA\n",
              "ADcAAAAvAAAAMwAAAFoAAAAyAAAAKQAAAFcAAAAtAAAALwAAACkAAABYAAAAOgAAADQAAAAtAAAA\n",
              "XQAAADcAAAA2AAAAOAAAAEsAAAA5AAAAOwAAADYAAABeAAAANwAAADAAAAA2AAAAWgAAAC8AAAAx\n",
              "AAAAMwAAAEYAAAA5AAAANgAAAC0AAABDAAAAMQAAAB0AAAApAAAATAAAADMAAAArAAAAKwAAAFIA\n",
              "AAAxAAAAIwAAAC0AAABKAAAAMQAAACUAAAAhAAAAQwAAAC8AAAAkAAAAKQAAAFYAAAAxAAAAIQAA\n",
              "ACcAAABIAAAANQAAACQAAAAqAAAAOgAAADIAAAAoAAAAGQAAAD4AAAAjAAAAIwAAAB4AAABHAAAA\n",
              "KAAAACAAAAAjAAAASgAAADIAAAAdAAAAJQAAAEkAAAAnAAAAJwAAABsAAABdAAAAMQAAABwAAAAj\n",
              "AAAAfgAAADcAAAAcAAAAJgAAAFIAAABjAAAAMQAAACYAAAAgAAAAYwAAADAAAAAlAAAAHwAAAGcA\n",
              "AAAmAAAAFgAAABUAAABUAAAAGgAAABQAAAAUAAAAUgAAABYAAAAUAAAAFgAAAEIAAAAoAAAAFAAA\n",
              "ABgAAABMAAAAGgAAABUAAAAWAAAARwAAACIAAAAZAAAAIAAAAEoAAAAaAAAAFQAAABcAAABCAAAA\n",
              "JQAAAB8AAAAiAAAAQwAAACkAAAAjAAAAJQAAADcAAAAqAAAAGQAAACMAAAA1AAAALgAAACEAAAAd\n",
              "AAAALwAAABwAAAAZAAAAHwAAAEQAAAAbAAAAJgAAABwAAAA4AAAAJgAAABkAAAAaAAAAMgAAACEA\n",
              "AAAdAAAAHwAAAC0AAAAiAAAAFQAAACIAAAAwAAAAJAAAAB4AAAAiAAAAIgAAABoAAAAhAAAAIwAA\n",
              "ACAAAAAmAAAAJAAAAB4AAAAbAAAAIQAAABRzdGNvAAAAAAAAAAEAAAAwAAAAYnVkdGEAAABabWV0\n",
              "YQAAAAAAAAAhaGRscgAAAAAAAAAAbWRpcmFwcGwAAAAAAAAAAAAAAAAtaWxzdAAAACWpdG9vAAAA\n",
              "HWRhdGEAAAABAAAAAExhdmY1OC43Ni4xMDA=\n",
              "\">\n",
              "  Your browser does not support the video tag.\n",
              "</video>"
            ]
          },
          "metadata": {},
          "execution_count": 83
        }
      ]
    },
    {
      "cell_type": "markdown",
      "source": [
        "# **Epoch 13, Video 3**"
      ],
      "metadata": {
        "id": "AGSiKD2iZBPF"
      }
    },
    {
      "cell_type": "code",
      "source": [
        "video = imageio.mimread('/content/logs/Tianshou_ER_DD_DQN_05_Feb_2024_13_40_33/videos/epoch_13/video3/eval-episode-0.mp4')\n",
        "HTML(display_video(video).to_html5_video())\n"
      ],
      "metadata": {
        "colab": {
          "base_uri": "https://localhost:8080/",
          "height": 321
        },
        "id": "kvJdAqFVWqvb",
        "outputId": "e809d45e-a5c6-4c65-c74b-98ba05b25e59"
      },
      "execution_count": null,
      "outputs": [
        {
          "output_type": "execute_result",
          "data": {
            "text/plain": [
              "<IPython.core.display.HTML object>"
            ],
            "text/html": [
              "<video width=\"300\" height=\"300\" controls autoplay loop>\n",
              "  <source type=\"video/mp4\" src=\"data:video/mp4;base64,AAAAIGZ0eXBNNFYgAAACAE00ViBpc29taXNvMmF2YzEAAAAIZnJlZQAAJRhtZGF0AAACrgYF//+q\n",
              "3EXpvebZSLeWLNgg2SPu73gyNjQgLSBjb3JlIDE2MyByMzA2MCA1ZGI2YWE2IC0gSC4yNjQvTVBF\n",
              "Ry00IEFWQyBjb2RlYyAtIENvcHlsZWZ0IDIwMDMtMjAyMSAtIGh0dHA6Ly93d3cudmlkZW9sYW4u\n",
              "b3JnL3gyNjQuaHRtbCAtIG9wdGlvbnM6IGNhYmFjPTEgcmVmPTMgZGVibG9jaz0xOjA6MCBhbmFs\n",
              "eXNlPTB4MzoweDExMyBtZT1oZXggc3VibWU9NyBwc3k9MSBwc3lfcmQ9MS4wMDowLjAwIG1peGVk\n",
              "X3JlZj0xIG1lX3JhbmdlPTE2IGNocm9tYV9tZT0xIHRyZWxsaXM9MSA4eDhkY3Q9MSBjcW09MCBk\n",
              "ZWFkem9uZT0yMSwxMSBmYXN0X3Bza2lwPTEgY2hyb21hX3FwX29mZnNldD0tMiB0aHJlYWRzPTMg\n",
              "bG9va2FoZWFkX3RocmVhZHM9MSBzbGljZWRfdGhyZWFkcz0wIG5yPTAgZGVjaW1hdGU9MSBpbnRl\n",
              "cmxhY2VkPTAgYmx1cmF5X2NvbXBhdD0wIGNvbnN0cmFpbmVkX2ludHJhPTAgYmZyYW1lcz0zIGJf\n",
              "cHlyYW1pZD0yIGJfYWRhcHQ9MSBiX2JpYXM9MCBkaXJlY3Q9MSB3ZWlnaHRiPTEgb3Blbl9nb3A9\n",
              "MCB3ZWlnaHRwPTIga2V5aW50PTI1MCBrZXlpbnRfbWluPTI1IHNjZW5lY3V0PTQwIGludHJhX3Jl\n",
              "ZnJlc2g9MCByY19sb29rYWhlYWQ9NDAgcmM9Y3JmIG1idHJlZT0xIGNyZj0yMy4wIHFjb21wPTAu\n",
              "NjAgcXBtaW49MCBxcG1heD02OSBxcHN0ZXA9NCBpcF9yYXRpbz0xLjQwIGFxPTE6MS4wMACAAAAD\n",
              "E2WIhAAv//72rvzLK0cLlS4dWXuzUfLoSXL9iDB9aACNSaGIELTbbjagJAAAAwIUFP83mYOAMQBC\n",
              "3Pln5D2Ntp1Fj9iztNepWD6jzauaKWsSeASTUR1FQ8CgywlGCgzG8GYxAix5NX5jeUwJEEM8Xysd\n",
              "QhYL7TKeVNYH/5shcqm6ZXUiZYHi2bk3TC8RqdD9/Po7FNDDoZzTLqImIujwAnd6753x1my10pCG\n",
              "IEV4Fzywwc8bx0FA211TMXkpFWm16Epje/YN+459qs1erNaxI/6DeV3ydnsLXYcOjxYCpnTBt9NV\n",
              "uP+seU8ARLcdytloY3oD6HzYqSXgi6hrwpYlawAplfYTaxAABw10b5rL7MWCslSo0MW43HutdiMk\n",
              "xK6Xm/3vdd+ND91E4DcDb2+DZfuWi4qGW4RE7nGZ8Gmqbkw67JJCYULmc8datjK2cCM5m0O2+xkf\n",
              "bz/mrBX//x0MhRS2sxGwaPp5DS2C8sUg2G4RQQkyrSRgZHAgKrAhdgvGhzxO4IcHuh94GGFUCnzW\n",
              "K4H2Qyc2bYq1pG9F6jsuBXbcyLLyDTYkYPxgm/VizaBcfVwcxOJwZAP1bEtNp+XQwPR464eBvcJn\n",
              "MfttcyI3hTzq0auBOfKX6uk8pxRb15umUG02McI+gRrkgsKeOqnrlOVZbTArf5itM5Drnw0xDW1J\n",
              "BUE8s0sDPvTKXky8kZAXWUihCR1IpKNR4iKCfNKrVpD7JRDrwgTg3S1/9UsRVDKNmzSE+bim7vBR\n",
              "fQ0yVYXkDYXPUtHFsCXQZJ7QSXu+yKWBDzQVhpQe303hS9ExggNo6Qz/caMgFK5QlaR+Noped6v/\n",
              "5WpD4l3a+Cz7tYCsSMrEiBlYKk3K6jTZsLFfyQOjfwlK485oJcr9sXHpvRCQ+O/iYU+o6PPV9leK\n",
              "EdAhGfkrVaTwz3a54OPyYiC8wZlv+/nCjS+tIWWwJACDH86pOtvPJggAYl9wpDP1putD9Rf4P1ki\n",
              "Fb1kaxxfto0ZGhePGan2bBbli0eT9RAYlFaqsfDWZsYMxnyRk2kAIEAAAAMAG5EAAABMQZojbEL/\n",
              "/oywA2nvZxj2oAGnp2wKRcpEnEGXbwScUjjlpL/ScDtHXLv5U17aOESxytZBR2EaBo8QIlpwhxA4\n",
              "3n02yINUMnVT+gp9gAAAABRBnkF4j/8Br2iAg5ZHqpadQRkG5QAAABMBnmJqR/8Br2VJAIGAnIrH\n",
              "J55AAAAAWUGaZUmoQWiZTBTwv/6MsANprTzwhhAAo1LB6A50Myx1wJdPyp9Aq5wy4vpPRKztnoEB\n",
              "fCaE8HT0F+1tE8gjOpzex9eVK6WagRKvo+M/kiN284XGO7LtaKZrAAAAFAGehGpH/wGvZLSnOZ8E\n",
              "DRquDGOBAAAAPEGaiUnhClJlMCF//oywA1IECWiE0AIU9RCudwoi45Gbym78/7jQb/ru0A7YANFh\n",
              "La5qlBpqGeVOwIS5qQAAACBBnqdFNEwj/wELGelh+hueF3JpZ0GEiC/WoEcLiAuWzQAAABQBnsZ0\n",
              "R/8Br2S0qdfwKtnXqtWJeAAAAA8BnshqR/8BBRulm9vXMqAAAABGQZrNSahBaJlMCF///oywA1Cr\n",
              "ewQAKevuKd4+SBW1llONpCixxvMuQ/mdOVgawM30ckJObRGWPjDJ6f/GQwbpUYSaeBSn4QAAABxB\n",
              "nutFESwj/wEM9LRUiePMo/hwM7bMZuiO+mpCAAAAEAGfCnRH/wEFVrvUmewNRxwAAAAUAZ8Makf/\n",
              "AbCFbSBGFJD+N0LInkEAAABZQZsRSahBbJlMCF///oywA1AYBbieCJ542oGcADRTzbfpv8tIHcUb\n",
              "Nk1DNgmuQkH8FXRblefZWp/zPAsSSjKpfdyaPTlmQ0QIqSnU/celwULUNM33PoKC16EAAAAwQZ8v\n",
              "RRUsI/8BDWQa8gAc4aRQM92e4tel24o/ALft5K0tqO+U2HrOvQIb2rhw8B1hAAAAFAGfTnRH/wEF\n",
              "NBCXyETNAPfb6gOkAAAAHgGfUGpH/wGnfJgA5uqJbzHw889qD0y1FEw8GK4kwAAAAFVBm1NJqEFs\n",
              "mUwUTC///oywA1XvbK24mgLmAEZG0mryvnVcqDhD0yc7bxQ6EdI/aDSF58Gvcn7pUL4dmTyYLHb1\n",
              "AEBe4cwAEwNxgn1q5LhPvGCY77r5AAAAIgGfcmpH/wGv/HiR9i/tAAr+2Uv2udA3JE2NlTL5i++K\n",
              "zcAAAABfQZt3SeEKUmUwIX/+jLADQe+dDwjXmr0b+b3jVD5zcGzDBAcliJDv1fbsaKM38MAqKuQy\n",
              "yLKl1akHp24pJAbjfcwD/nuOEIVeTkVaVBMG2RxiugHTLkAx2BMv2SMDZuAAAAAsQZ+VRTRMI/8B\n",
              "BXsvQxlANEDbl4eCAFvF03fI9u8lhmAX1cSGqINgMQftxUkAAAAqAZ+0dEf/AaZDxIrofzHwALdI\n",
              "N15LU06nkp6nQGVrghcq8/ofYAB/mWUgAAAAKAGftmpH/wGclHRHjp4gYAOJ4kmprHdDVD+4o3XB\n",
              "75hjVZAFNe/IkpEAAABPQZu7SahBaJlMCF///oywAylWc/27R/8aNiPoldmv2YXfqEQJHPWZDD6u\n",
              "rc4hgbH0ElzEwAfQPstvbSR1Y9GgKsZ3ZmnOV8Daj2HJuJwdeQAAADVBn9lFESwj/wD+AYQDpkAj\n",
              "OTgREEL0uClgESnvc/lNKceMIiZBu0J6YFtggY80pbdsZHPNDAAAAC0Bn/h0R/8Bm8NYdEAKBnhA\n",
              "BBfz3jtLsL5PXGf7LRsxwUNQj9S9QLel8QEaeBEAAAAnAZ/6akf/AQ6pCAUbSLKTtSM98EDHWuMB\n",
              "Jfoucb0T2L1jNRP+Sk0MAAAAXEGb/0moQWyZTAhf//6MsAH0nJLpHlE6Nrr+zyA0E+AG9lGNOFyL\n",
              "AbFsUiq5XRgsVJi0PtHJOhpaJT68N2EBf2xq/DKMd1RzOaxPX+T+a8fGk5rXjn1N0yo9A26BAAAA\n",
              "MUGeHUUVLCP/AKjE/ANQ/WQQjVSUMKVfZmFFukU5EX8zIk5WAiHNHGFhVU0nZA5VaD0AAAAvAZ48\n",
              "dEf/AQVGo4kpADo5wMEQVs5WbXye6TwUJMVkIlZIpGPy3AfjXnNy9AiR5XAAAAAnAZ4+akf/AQWm\n",
              "BQCkceTFz1uf7Cn/MQndMkxTc++wftr14tuFDaVwAAAATEGaIUmoQWyZTBRML//+jLAB87T3l/0c\n",
              "f4ezeEPkTYALqBq5/C7EaZu5fPzDzzqgMcOJLm0IhL+MG5aDSJbPcIaeQyZbHc3bHx4L/WEAAAAq\n",
              "AZ5Aakf/AP2nTju/S4AnayBa8OA4mhbto/iUa2JqKl95KxCXwml+yjpAAAAATkGaREnhClJlMCF/\n",
              "/oywAfXhOn9RP6Ip2MAEHouEZnfHXzc7SPGt2b0PNTQRYJ7YO4aPgTyMfwOlDHzq19USGHemMt8e\n",
              "etCHMUZjjOKf+QAAACdBnmJFNEx/AQWOV3HB1gL6bAYNM95FVWAIQTWVkDK5fuuJHW6dzcAAAAAp\n",
              "AZ6Dakf/AKPtMwBCpzf3wG2Q+TeWOJ9VnaJJQlhjFQL4n90G7D/q96EAAABIQZqISahBaJlMCF//\n",
              "/oywAUvpoAA5d/nb4LjALBu1BYW9WKx+AvOMLbV2LXyhCDE+jet9D/KNDg9qqbM4fIkGnXw3D8O2\n",
              "tiDbAAAAI0GepkURLCP/AGmmHKroAqxp+AAi7a1sa44K6vdcv78mLThvAAAAJgGexXRH/wChs7gA\n",
              "ozGbRsKtuQDJrnMEnTDeZWhDAJV26nwd8n3pAAAAJAGex2pH/wCoZA2EAE8ZYJUVHU8da82N030S\n",
              "I3eFkZbVR6MxwAAAADdBmsxJqEFsmUwIX//+jLABS/czf+QPv6b4FXHo5yAAg5yMv39r3xPgD1JB\n",
              "5OHt6/pR4dxYmeFlAAAAH0Ge6kUVLCP/AGmJqvlgd18bGggDX+eMYLtPEjWB4QkAAAAVAZ8JdEf/\n",
              "AKgKS/KsVBoCvUac8R2AAAAAFQGfC2pH/wCfdaz58YkZV/hj08BvQAAAADtBmxBJqEFsmUwIX//+\n",
              "jLABODggMK0VAjL207h4ABvRQ0ZoO5YdOg3Mx7+YP6tYMUk2wDR0HFwbFZuZoQAAAC5Bny5FFSwj\n",
              "/wBkpRwqpNsfqU3XBObWDR++fgGrTbLJ8ITo3GYywsB12MNOlD1hAAAAIwGfTXRH/wCfQtJbuC2t\n",
              "2t5n5jAATPdrI+Rgf6/wQiTvW8ELAAAAIQGfT2pH/wCfB4D9lkvi8cTTGz6S9nypKgCg21rhMw3a\n",
              "qAAAAD5Bm1RJqEFsmUwIX//+jLABMem9P5+ZvcECQuVfZHAAoahytdKy+NTRA67xd9LICPA77Dg+\n",
              "jLgF0OFEtiGSygAAACxBn3JFFSwj/wBjfu92UE7/yR9vEKrxMALoHIJNDw2WToCJdefE5vmOQN2v\n",
              "rQAAAB0Bn5F0R/8AnwpOFtSycyIHY0ArMATCa6nX+KAyqgAAACgBn5NqR/8An2bvMfYOGlMJo0ce\n",
              "5IAHG3JtX23zvNF3C+85gIYJgnKMAAAARUGbmEmoQWyZTAhf//6MsADAUyAWH2QWgAPxeN7l8eWD\n",
              "xDK1ETaq9YJe1Ls3fAN3CUdUz+DCj59mkhwF4wVy/vQdT330kwAAACdBn7ZFFSwj/wBkt4exITGy\n",
              "TaQ16fhkDuHA0Of+3ALSEUU+QNyT2OAAAAApAZ/VdEf/AJ8L3Y3tXWwbRoFuOCWqE4ANpZHHcw7x\n",
              "mY9CNGVyMb/RYs0AAAAZAZ/Xakf/AJ9m7zKWhfi28yGL96cXT5WWYQAAAEBBm9xJqEFsmUwIX//+\n",
              "jLAAwF3djX6ApJgXbXRADTfmUOhTkiZHtz/CKRM9FJ0nJ5LYSudA/Py3mVRl+JawwVsoAAAALUGf\n",
              "+kUVLCP/AGS3h7ElZwzPw1DH6Xb9eRpX2Jc8ACpN7w3mG6Cs7wuN+j9vswAAACUBnhl0R/8Anwvd\n",
              "jMsUcVODWCe4bLiACYIQr3Rzne3f1zKJno8wAAAAJQGeG2pH/wCfZu8zXg65wlSev5V3faABH3i0\n",
              "2zLydItMpqHLm6EAAABFQZoASahBbJlMCF///oywAMBawMPdPWo0lgvWAAJate2ZVEKgoXYXOgGS\n",
              "vXcj3ldrTCea97DjP0pg3UaBaUQE9Vt4/JqLAAAAMkGePkUVLCP/AGS3h7Eo9dFSqovZFc5FwAC2\n",
              "3ieqRquQpjwM1stAMR1Za8GcyM3Zi1AgAAAAIQGeXXRH/wCfC92M0Q+WPlrttpCETg2k7/AKeWPG\n",
              "3/k5bAAAACgBnl9qR/8An2bvNSr7FOYAhVOquyEXBqqIr12u5TtARIFeOY8870fBAAAAM0GaREmo\n",
              "QWyZTAhf//6MsAB0wCAYEZEAEFTyXz37jLaUO6mkLyNJHkR/pgq/IYnsAtshvQAAAChBnmJFFSwj\n",
              "/wBkt4exNW+7gGSyOHU4K6th2Ix/76NFb0twQtOiWVmZAAAAJwGegXRH/wCfC92PZf5ADXFdy+ps\n",
              "cZ37OF/j9ogrcTinbajbca+23wAAACIBnoNqR/8An2bvNJJ+poWaol1Jz2YAhPq4MQZoJntvMZmB\n",
              "AAAARUGaiEmoQWyZTAhf//6MsAB0ite1Xgk+6IAFBkWe6Kf2jQRHuiGFRx1xKiCx8vCog1qR+c+V\n",
              "401v/rJ1ntmQ9nTF5nX4gQAAAC1BnqZFFSwj/wBkt4exNJt1tw7fx4oKwurjad2AC0F7qIWxAPMx\n",
              "okTRmwKOBcEAAAAhAZ7FdEf/AJ8L3Y9Y7Qv2hc6js2zYAFznYm+8sAR5Q7AhAAAAJgGex2pH/wCf\n",
              "Zu80rABgWkAF0AGrRCLLJfM8CP4b8/OJmrY9w32BAAAAOkGazEmoQWyZTAhf//6MsAB0lKGVABMo\n",
              "+XmpCo4amP2+orpKLuvY7K+xGYsFwhxOZYa47wSQzj+l+IAAAAAoQZ7qRRUsI/8AZLeHsTVLG3ki\n",
              "G/ne5oErsAE6sRSHvZzLNeHmf4mFFwAAAB8Bnwl0R/8Anwvdj1jSE+unjEgBQYF6jL+ICVy0deBc\n",
              "AAAAIgGfC2pH/wCfZu80rAWSHMQQilc4S4AJ1hwu7MJLOqdeguAAAAA/QZsQSahBbJlMCF///oyw\n",
              "AHU4TprvqMUqSKgAtUx64L3HePjgM9C9T3+XO7AkAmGKSiBx/+DJzWMwJQkMJGlBAAAAKEGfLkUV\n",
              "LCP/AGS3h7E1Sph9+9ywZiHL7gwdi/LwAWqEkEV0VNEl+2cAAAAdAZ9NdEf/AJ8L3Y9Yyf9RQH3b\n",
              "EBuVIaV3RZ0Sh9cAAAAbAZ9Pakf/AJ9m7zSsBzKPLl2wngwkOXmJJTmQAAAANUGbVEmoQWyZTAhf\n",
              "//6MsABIJa9zBw3owAhMNQkWl4hY97ZZwQA5Js0puH4gzokt38YJeqhmAAAAKEGfckUVLCP/AGS3\n",
              "h7E1SzX2fZmRb+RjZWjm4V8AklDgOZs0bgTah+EAAAAbAZ+RdEf/AJ8L3Y9YyvjrY4YfJagNGswI\n",
              "mCQQAAAAIgGfk2pH/wCfZu80rAchlwXnEnQJ5KPypX5sACdT/kr5M4AAAAA3QZuYSahBbJlMCF//\n",
              "/oywAEgDVmh5oAbms5sjo1nwy5dRnpCn0+8EoWyLP4faP/aMhg6nh0L8ZwAAAC5Bn7ZFFSwj/wBk\n",
              "t4exNUs140TgC8q5mGEcu0bk962NU9GMNwD7nX/t4xrHjwmAAAAAJQGf1XRH/wCfC92PWMr4zeuJ\n",
              "AAmTP/BjiQtHMY2UtdFb1aPxjaEAAAAoAZ/Xakf/AJ9m7zSsByPxAAQRQx76mRsvSPr8qVYLfNta\n",
              "0CjqGANSgQAAAFNBm9xJqEFsmUwIX//+jLAASBQ66bZ7gCH6MKp0kLyo7r7CJkfp/O6NDjXRH0zZ\n",
              "++ZDsvmmspvW/NuaNfhwLJ9lzRhMawvSWbykLx7679srKPzEhAAAACxBn/pFFSwj/wBkt4exNUs1\n",
              "5ZPDAYwTsAEDWgx0DbU+YJtx0Wltde+uJKWHrQAAAB4Bnhl0R/8Anwvdj1jK65e4pdj2DDDsRkhE\n",
              "g0YAAeAAAAAnAZ4bakf/AJ9m7zSsByPIsAbfaQ4GqnhW1nkfnyOl/j6lf3SV0XtxAAAAT0GaAEmo\n",
              "QWyZTAhf//6MsABIem9ITOSFwAWCgBDuoAhmuKK1N8dFCHHENkhjS7vrDyKHQxG6xMvog5B8p1TI\n",
              "n+5mOt5vi6CrDN0SPH4VaMEAAAAwQZ4+RRUsI/8AZLeHsTVLNgFmpAj4UgiZhsrScAB8WEhfHfMI\n",
              "hYXyqNiESPNGhqqQAAAAIAGeXXRH/wCfC92PWMshXBR/rYA7sM5pItcPL5HNlbRSAAAAIgGeX2pH\n",
              "/wCfZu80rAcyI1LEgCgvCo7GPOX6ep60P3pFq3kAAABgQZpESahBbJlMCF///oywAEZ+J0PNreYA\n",
              "LqAIW/2YqNfWh/4ZKxSUQveS1F3Fx4jZsgnmKRDh856969fuZE9O10ZaQRhylo5rLOhWH1cXlVNF\n",
              "ibCv1h9ifLJLjC6SOzWAAAAANEGeYkUVLCP/AGS3h7E1SzX4cmNSwEvZRp8ItXnitsxfTzsAFuL/\n",
              "bHUS5Vi3huoHrRj/nuEAAAAmAZ6BdEf/AJ8L3Y9Yyx9k43MAoIDWVB41dsyqewQ1IbNXKM0VTVUA\n",
              "AAAcAZ6Dakf/AJ9m7zSsBy/5mciKX8OAANUKJa/zPQAAAHRBmohJqEFsmUwIV//+OEAAsPcWWQIx\n",
              "kAoAAtlHngDrPWMiWPMZ0jTvH7PyvM0OUJBuPFvGL6sX8icRbAldYEAbcKQZFW0Jy9qFeVFusQ23\n",
              "XB/XXtTpvrp/NnSFSaG17KqduLt60/TxyBb9hiWOKSF7w5amWQAAACpBnqZFFSwj/wBkt4exNUs1\n",
              "/uIYsNODtfKmf+uQAmjroVBiIVrVmIWDBLkAAAAjAZ7FdEf/AJ8L3Y9Yyx+MNpGJYAKDWjrpcjOx\n",
              "rwQn3YYo45MAAAAaAZ7Hakf/AJ9m7zSsBzmONfSn61VhtttAVMAAAABOQZrJSahBbJlMCF///oyw\n",
              "ACzD6dsAAKs0c7FWqyqiVNw+bQx786m6gmRabFfQ3Rw2YMPxLZj41GGUnxfq4rtncYidyJxf1Wsm\n",
              "kNHPkQxHAAAAVUGa7UnhClJlMCF//oywACzJOZlt1POnOqARGsZLWMlhDWOWytYt68KWH8vcoaeI\n",
              "sivxtxiGpdgsnZhvam6Hmr/Pycwie0uAann+8omiIvrVbH5LfTEAAAA2QZ8LRTRMI/8AZK+gneVm\n",
              "nefdMUu0OPnAF5eEnS21L5/0q9KaNvBGoDpKB2m/5UEDqEBoZ13AAAAAHwGfKnRH/wCfC92PWMs+\n",
              "+TKnBhUa4AJmG9mzODSnRWAAAAAhAZ8sakf/AJ9m7zSsBzmKgSDNIAmHXsh+8gpgBza3HHmrAAAA\n",
              "VkGbMUmoQWiZTAhf//6MsAAsljK5u/EQDJjInT7aQUgA3RjhGK2j8oGfQKZbu+iaT/CAbbXug3Sa\n",
              "7Yy4rlhrP5CKq4u6CSpbmwafoGAcDLF7LVPKq+mBAAAAL0GfT0URLCP/AGS3h7E1SzYPGUHZRKZ2\n",
              "Mt12AM37Mg7801N6WnC/+p2CmdD19wvdAAAAFgGfbnRH/wCfC92PWMs++TG2RhMBZwEAAAAVAZ9w\n",
              "akf/AJ9m7zSsBzmKgO+Mlo0wAAAAWEGbdUmoQWyZTAhf//6MsAAtv6FYAWuhrVf/aNByJbz0Bobh\n",
              "frG8nI7m6i6cyNWXb5+xSogM9043cFJtKnwJdtZq2JQLcfn5yU8z7aMGLvEhNxVMXDaWVmEAAAAd\n",
              "QZ+TRRUsI/8AZLeHsTVLNg8ZQf8h9noOkImvfqAAAAAgAZ+ydEf/AJ8L3Y9Yyz75McIyhzzv0qMA\n",
              "EA4Ci7aXbPgAAAAgAZ+0akf/AJ9m7zSsBzmKgUukAC+wSbXhoQpaeRlH6YEAAABPQZu4SahBbJlM\n",
              "CF///oywAC3+w2TYa6rJzgBwKse8YoHNmKPT70mLh9Z1gX4O3lcnQvphJEcCum5MjijhNHn+jfSs\n",
              "53vXnKCp7tX6c7OxgAAAACdBn9ZFFSx/AJ+QV5fVZiy8aBg6fEApGX87AdnNcuqeaHYNiwyo/AkA\n",
              "AAAXAZ/3akf/AJ9m7zSsBzmFg2HJ3BFpemEAAAB8QZv8SahBbJlMCF///oywACyqeG2IgrfGphCw\n",
              "wAcb3HoZsyJP8yniJvKlIB6oRErVBkVUSmsiZBKGSfdaRZ5/wF67+b9hWk32kQqznA2BVBpqzrbO\n",
              "7QnqjpyAzBT4TO55MGbjqOXQt9r6Hk+Oz0WgepAL8gzR/Ex/R4SE4QAAACdBnhpFFSwj/wBkt4ex\n",
              "NUs2DwqonYp852cBy9XKH74hrXq/soK8bx0AAAAeAZ45dEf/AJ8L3Y9Yyz75My6QAL/WjJGElDOg\n",
              "0zPgAAAAHAGeO2pH/wCfZu80rAc5ioFNDAAoH9HuCf0kBKEAAABZQZogSahBbJlMCF///oywAC22\n",
              "az1Tjoazii+gBYjjTsbB1md9ocf7h/8jA2eKra9YM4hKs+2sWd3l+O6i7e8/N6dlNbXH1ul2qWq6\n",
              "Bd6eSMd+lP9rotZxraEAAAArQZ5eRRUsI/8AZLeHsTVLNg8ZQYz5WQ9fqs8ABK5W7h8+lPYOe5TF\n",
              "uT0wIAAAABYBnn10R/8Anwvdj1jLPvka4JVVJZBwAAAAGAGef2pH/wCfZu80rAc5ioD3TBwNgiPH\n",
              "VQAAAGxBmmRJqEFsmUwIX//+jLAALtjMgBB48GfA92xBFgIxgffj4bI7wr9chGpqrC/uTRg2z09H\n",
              "zny1WUjm0js2BVGfu5kYJ/dSM9Ogqt0HWJ1gKxsB5aBmqXJmFIFKwQ02H2ts4bNbKumNu1YDr0AA\n",
              "AAArQZ6CRRUsI/8AZLeHsTVLNg8ZQfma/T8AGpSWVlSfBzQ3ixBDtiaDUZPtpQAAACABnqF0R/8A\n",
              "nwvdj1jLPtirB3XFthxABDz4l05epUjPgAAAABoBnqNqR/8An2bvNKwHOYWDYgoNqgJsX6ktRwAA\n",
              "AF5BmqhJqEFsmUwIX//+jLAALt9l3ZctU/5t2AN5uLrd9BFYIrbfPgUNujWaafBk2jtyePo4LTqy\n",
              "EyeHX8BAXdwixIEj1tMNTJJO5wtBmouarMjkvfVk+B/TnzkPdEwxAAAAJ0GexkUVLCP/AGS3h7E1\n",
              "SzYPCqicxF+zCDdIIACcS7FOgNjHTbHbgQAAABcBnuV0R/8Anwvdj1jLPvkxtG6fBMoPuQAAAB8B\n",
              "nudqR/8An2bvNKwHOYp7rpkqTzABCm/a5ilYZCggAAAAL0Ga7EmoQWyZTAhf//6MsAAcdc6CgEDZ\n",
              "ZsxcFfvrOH61777/zNMCKJGC9S6EyX2wAAAAIkGfCkUVLCP/AGS3h7E1SzYPGT9W2d7gwACBAObw\n",
              "87KnXZUAAAAWAZ8pdEf/AJ8L3Y9Yyz75HKgfxjiyQAAAAB0BnytqR/8An2bvNKwHOYp7qY37rABD\n",
              "KrXNor6HdAAAADtBmzBJqEFsmUwIX//+jLAAHHRd1X+YA4W9iehJ2x7HU2KcXQJcHRb0EYje/hHE\n",
              "hp80eqvHvj/jFw1vtwAAABlBn05FFSwj/wBkt4exNUs2Dxk/WAMYyaeZAAAAEwGfbXRH/wCfC92P\n",
              "WMs++RwHHn0AAAASAZ9vakf/AJ9m7zSsBzmKdPygAAAANUGbdEmoQWyZTAhf//6MsAAbx+XMAOQ0\n",
              "q8uvz3riF8nzkB4ZbaglZaoF2QemrzAAaaZpC1dgAAAAGUGfkkUVLCP/AGS3h7E1SzYPGT9DxMYB\n",
              "DAkAAAASAZ+xdEf/AJ8L3Y9Yyz75AfKAAAAAEgGfs2pH/wCfZu80rAc5inT8oAAAABxBm7hJqEFs\n",
              "mUwIX//+jLAAGyeTsAUoUxHAHJb/AAAAF0Gf1kUVLCP/AGS3h7E1SzYPGT7e5sgQAAAAEgGf9XRH\n",
              "/wCfC92PWMs++QHygQAAABIBn/dqR/8An2bvNKwHOYp0/KEAAAATQZv8SahBbJlMCF///oywAAC4\n",
              "gAAAABdBnhpFFSwj/wBkt4exNUs2Dxk+3ubIEQAAABIBnjl0R/8Anwvdj1jLPvkB8oAAAAASAZ47\n",
              "akf/AJ9m7zSsBzmKdPyhAAAAE0GaIEmoQWyZTAhf//6MsAAAuIEAAAAXQZ5eRRUsI/8AZLeHsTVL\n",
              "Ng8ZPt7myBAAAAASAZ59dEf/AJ8L3Y9Yyz75AfKAAAAAEgGef2pH/wCfZu80rAc5inT8oQAAABNB\n",
              "mmRJqEFsmUwIX//+jLAAALiAAAAAF0GegkUVLCP/AGS3h7E1SzYPGT7e5sgRAAAAEgGeoXRH/wCf\n",
              "C92PWMs++QHygAAAABIBnqNqR/8An2bvNKwHOYp0/KEAAAATQZqoSahBbJlMCF///oywAAC4gQAA\n",
              "ABdBnsZFFSwj/wBkt4exNUs2Dxk+3ubIEQAAABIBnuV0R/8Anwvdj1jLPvkB8oEAAAASAZ7nakf/\n",
              "AJ9m7zSsBzmKdPygAAAAEkGa7EmoQWyZTAhX//44QAACygAAABdBnwpFFSwj/wBkt4exNUs2Dxk+\n",
              "3ubIEQAAABIBnyl0R/8Anwvdj1jLPvkB8oAAAAASAZ8rakf/AJ9m7zSsBzmKdPygAAAAEkGbMEmo\n",
              "QWyZTAhP//3xAAAGzQAAABdBn05FFSwj/wBkt4exNUs2Dxk+3ubIEQAAABIBn210R/8Anwvdj1jL\n",
              "PvkB8oEAAAASAZ9vakf/AJ9m7zSsBzmKdPygAAAAEkGbckmoQWyZTBRMf/yEAAAqYAAAABUBn5Fq\n",
              "R/8An5BXl9VmLLxoC3w4esEAAAt+bW9vdgAAAGxtdmhkAAAAAAAAAAAAAAAAAAAD6AAAC+MAAQAA\n",
              "AQAAAAAAAAAAAAAAAAEAAAAAAAAAAAAAAAAAAAABAAAAAAAAAAAAAAAAAABAAAAAAAAAAAAAAAAA\n",
              "AAAAAAAAAAAAAAAAAAAAAAAAAgAACqh0cmFrAAAAXHRraGQAAAADAAAAAAAAAAAAAAABAAAAAAAA\n",
              "C+MAAAAAAAAAAAAAAAAAAAAAAAEAAAAAAAAAAAAAAAAAAAABAAAAAAAAAAAAAAAAAABAAAAAASwA\n",
              "AAEsAAAAAAAkZWR0cwAAABxlbHN0AAAAAAAAAAEAAAvjAAACIAABAAAAAAogbWRpYQAAACBtZGhk\n",
              "AAAAAAAAAAAAAAAAAAA+gAAAvjBVxAAAAAAALWhkbHIAAAAAAAAAAHZpZGUAAAAAAAAAAAAAAABW\n",
              "aWRlb0hhbmRsZXIAAAAJy21pbmYAAAAUdm1oZAAAAAEAAAAAAAAAAAAAACRkaW5mAAAAHGRyZWYA\n",
              "AAAAAAAAAQAAAAx1cmwgAAAAAQAACYtzdGJsAAAAt3N0c2QAAAAAAAAAAQAAAKdhdmMxAAAAAAAA\n",
              "AAEAAAAAAAAAAAAAAAAAAAAAASwBLABIAAAASAAAAAAAAAABAAAAAAAAAAAAAAAAAAAAAAAAAAAA\n",
              "AAAAAAAAAAAAAAAAGP//AAAANWF2Y0MBZAAe/+EAGGdkAB6s2UEwn7uEAAADAEQAAB9APFi2WAEA\n",
              "Bmjr48siwP34+AAAAAAcdXVpZGtoQPJfJE/FujmlG88DI/MAAAAAAAAAGHN0dHMAAAAAAAAAAQAA\n",
              "ALMAAAEQAAAAFHN0c3MAAAAAAAAAAQAAAAEAAAWQY3R0cwAAAAAAAACwAAAAAQAAAiAAAAABAAAE\n",
              "QAAAAAIAAAEQAAAAAQAAAzAAAAABAAABEAAAAAEAAAVQAAAAAQAAAiAAAAABAAAAAAAAAAEAAAEQ\n",
              "AAAAAQAABVAAAAABAAACIAAAAAEAAAAAAAAAAQAAARAAAAABAAAFUAAAAAEAAAIgAAAAAQAAAAAA\n",
              "AAABAAABEAAAAAEAAAMwAAAAAQAAARAAAAABAAAFUAAAAAEAAAIgAAAAAQAAAAAAAAABAAABEAAA\n",
              "AAEAAAVQAAAAAQAAAiAAAAABAAAAAAAAAAEAAAEQAAAAAQAABVAAAAABAAACIAAAAAEAAAAAAAAA\n",
              "AQAAARAAAAABAAADMAAAAAEAAAEQAAAAAQAABEAAAAACAAABEAAAAAEAAAVQAAAAAQAAAiAAAAAB\n",
              "AAAAAAAAAAEAAAEQAAAAAQAABVAAAAABAAACIAAAAAEAAAAAAAAAAQAAARAAAAABAAAFUAAAAAEA\n",
              "AAIgAAAAAQAAAAAAAAABAAABEAAAAAEAAAVQAAAAAQAAAiAAAAABAAAAAAAAAAEAAAEQAAAAAQAA\n",
              "BVAAAAABAAACIAAAAAEAAAAAAAAAAQAAARAAAAABAAAFUAAAAAEAAAIgAAAAAQAAAAAAAAABAAAB\n",
              "EAAAAAEAAAVQAAAAAQAAAiAAAAABAAAAAAAAAAEAAAEQAAAAAQAABVAAAAABAAACIAAAAAEAAAAA\n",
              "AAAAAQAAARAAAAABAAAFUAAAAAEAAAIgAAAAAQAAAAAAAAABAAABEAAAAAEAAAVQAAAAAQAAAiAA\n",
              "AAABAAAAAAAAAAEAAAEQAAAAAQAABVAAAAABAAACIAAAAAEAAAAAAAAAAQAAARAAAAABAAAFUAAA\n",
              "AAEAAAIgAAAAAQAAAAAAAAABAAABEAAAAAEAAAVQAAAAAQAAAiAAAAABAAAAAAAAAAEAAAEQAAAA\n",
              "AQAABVAAAAABAAACIAAAAAEAAAAAAAAAAQAAARAAAAABAAAFUAAAAAEAAAIgAAAAAQAAAAAAAAAB\n",
              "AAABEAAAAAEAAAVQAAAAAQAAAiAAAAABAAAAAAAAAAEAAAEQAAAAAQAABVAAAAABAAACIAAAAAEA\n",
              "AAAAAAAAAQAAARAAAAABAAACIAAAAAEAAAVQAAAAAQAAAiAAAAABAAAAAAAAAAEAAAEQAAAAAQAA\n",
              "BVAAAAABAAACIAAAAAEAAAAAAAAAAQAAARAAAAABAAAFUAAAAAEAAAIgAAAAAQAAAAAAAAABAAAB\n",
              "EAAAAAEAAARAAAAAAgAAARAAAAABAAAFUAAAAAEAAAIgAAAAAQAAAAAAAAABAAABEAAAAAEAAAVQ\n",
              "AAAAAQAAAiAAAAABAAAAAAAAAAEAAAEQAAAAAQAABVAAAAABAAACIAAAAAEAAAAAAAAAAQAAARAA\n",
              "AAABAAAFUAAAAAEAAAIgAAAAAQAAAAAAAAABAAABEAAAAAEAAAVQAAAAAQAAAiAAAAABAAAAAAAA\n",
              "AAEAAAEQAAAAAQAABVAAAAABAAACIAAAAAEAAAAAAAAAAQAAARAAAAABAAAFUAAAAAEAAAIgAAAA\n",
              "AQAAAAAAAAABAAABEAAAAAEAAAVQAAAAAQAAAiAAAAABAAAAAAAAAAEAAAEQAAAAAQAABVAAAAAB\n",
              "AAACIAAAAAEAAAAAAAAAAQAAARAAAAABAAAFUAAAAAEAAAIgAAAAAQAAAAAAAAABAAABEAAAAAEA\n",
              "AAVQAAAAAQAAAiAAAAABAAAAAAAAAAEAAAEQAAAAAQAABVAAAAABAAACIAAAAAEAAAAAAAAAAQAA\n",
              "ARAAAAABAAAFUAAAAAEAAAIgAAAAAQAAAAAAAAABAAABEAAAAAEAAAVQAAAAAQAAAiAAAAABAAAA\n",
              "AAAAAAEAAAEQAAAAAQAAAzAAAAABAAABEAAAABxzdHNjAAAAAAAAAAEAAAABAAAAswAAAAEAAALg\n",
              "c3RzegAAAAAAAAAAAAAAswAABckAAABQAAAAGAAAABcAAABdAAAAGAAAAEAAAAAkAAAAGAAAABMA\n",
              "AABKAAAAIAAAABQAAAAYAAAAXQAAADQAAAAYAAAAIgAAAFkAAAAmAAAAYwAAADAAAAAuAAAALAAA\n",
              "AFMAAAA5AAAAMQAAACsAAABgAAAANQAAADMAAAArAAAAUAAAAC4AAABSAAAAKwAAAC0AAABMAAAA\n",
              "JwAAACoAAAAoAAAAOwAAACMAAAAZAAAAGQAAAD8AAAAyAAAAJwAAACUAAABCAAAAMAAAACEAAAAs\n",
              "AAAASQAAACsAAAAtAAAAHQAAAEQAAAAxAAAAKQAAACkAAABJAAAANgAAACUAAAAsAAAANwAAACwA\n",
              "AAArAAAAJgAAAEkAAAAxAAAAJQAAACoAAAA+AAAALAAAACMAAAAmAAAAQwAAACwAAAAhAAAAHwAA\n",
              "ADkAAAAsAAAAHwAAACYAAAA7AAAAMgAAACkAAAAsAAAAVwAAADAAAAAiAAAAKwAAAFMAAAA0AAAA\n",
              "JAAAACYAAABkAAAAOAAAACoAAAAgAAAAeAAAAC4AAAAnAAAAHgAAAFIAAABZAAAAOgAAACMAAAAl\n",
              "AAAAWgAAADMAAAAaAAAAGQAAAFwAAAAhAAAAJAAAACQAAABTAAAAKwAAABsAAACAAAAAKwAAACIA\n",
              "AAAgAAAAXQAAAC8AAAAaAAAAHAAAAHAAAAAvAAAAJAAAAB4AAABiAAAAKwAAABsAAAAjAAAAMwAA\n",
              "ACYAAAAaAAAAIQAAAD8AAAAdAAAAFwAAABYAAAA5AAAAHQAAABYAAAAWAAAAIAAAABsAAAAWAAAA\n",
              "FgAAABcAAAAbAAAAFgAAABYAAAAXAAAAGwAAABYAAAAWAAAAFwAAABsAAAAWAAAAFgAAABcAAAAb\n",
              "AAAAFgAAABYAAAAWAAAAGwAAABYAAAAWAAAAFgAAABsAAAAWAAAAFgAAABYAAAAZAAAAFHN0Y28A\n",
              "AAAAAAAAAQAAADAAAABidWR0YQAAAFptZXRhAAAAAAAAACFoZGxyAAAAAAAAAABtZGlyYXBwbAAA\n",
              "AAAAAAAAAAAAAC1pbHN0AAAAJal0b28AAAAdZGF0YQAAAAEAAAAATGF2ZjU4Ljc2LjEwMA==\n",
              "\">\n",
              "  Your browser does not support the video tag.\n",
              "</video>"
            ]
          },
          "metadata": {},
          "execution_count": 75
        }
      ]
    },
    {
      "cell_type": "markdown",
      "source": [
        "# **Epoch 15, Video 3**"
      ],
      "metadata": {
        "id": "MvcizyeWaZ_N"
      }
    },
    {
      "cell_type": "code",
      "source": [
        "video = imageio.mimread('/content/logs/Tianshou_ER_DD_DQN_05_Feb_2024_13_40_33/videos/epoch_15/video3/eval-episode-0.mp4')\n",
        "HTML(display_video(video).to_html5_video())"
      ],
      "metadata": {
        "colab": {
          "base_uri": "https://localhost:8080/",
          "height": 321
        },
        "id": "9o3IXd3waULh",
        "outputId": "3304fcfa-9a9c-4225-effa-d5787ac803b5"
      },
      "execution_count": null,
      "outputs": [
        {
          "output_type": "execute_result",
          "data": {
            "text/plain": [
              "<IPython.core.display.HTML object>"
            ],
            "text/html": [
              "<video width=\"300\" height=\"300\" controls autoplay loop>\n",
              "  <source type=\"video/mp4\" src=\"data:video/mp4;base64,AAAAIGZ0eXBNNFYgAAACAE00ViBpc29taXNvMmF2YzEAAAAIZnJlZQAAG61tZGF0AAACrgYF//+q\n",
              "3EXpvebZSLeWLNgg2SPu73gyNjQgLSBjb3JlIDE2MyByMzA2MCA1ZGI2YWE2IC0gSC4yNjQvTVBF\n",
              "Ry00IEFWQyBjb2RlYyAtIENvcHlsZWZ0IDIwMDMtMjAyMSAtIGh0dHA6Ly93d3cudmlkZW9sYW4u\n",
              "b3JnL3gyNjQuaHRtbCAtIG9wdGlvbnM6IGNhYmFjPTEgcmVmPTMgZGVibG9jaz0xOjA6MCBhbmFs\n",
              "eXNlPTB4MzoweDExMyBtZT1oZXggc3VibWU9NyBwc3k9MSBwc3lfcmQ9MS4wMDowLjAwIG1peGVk\n",
              "X3JlZj0xIG1lX3JhbmdlPTE2IGNocm9tYV9tZT0xIHRyZWxsaXM9MSA4eDhkY3Q9MSBjcW09MCBk\n",
              "ZWFkem9uZT0yMSwxMSBmYXN0X3Bza2lwPTEgY2hyb21hX3FwX29mZnNldD0tMiB0aHJlYWRzPTMg\n",
              "bG9va2FoZWFkX3RocmVhZHM9MSBzbGljZWRfdGhyZWFkcz0wIG5yPTAgZGVjaW1hdGU9MSBpbnRl\n",
              "cmxhY2VkPTAgYmx1cmF5X2NvbXBhdD0wIGNvbnN0cmFpbmVkX2ludHJhPTAgYmZyYW1lcz0zIGJf\n",
              "cHlyYW1pZD0yIGJfYWRhcHQ9MSBiX2JpYXM9MCBkaXJlY3Q9MSB3ZWlnaHRiPTEgb3Blbl9nb3A9\n",
              "MCB3ZWlnaHRwPTIga2V5aW50PTI1MCBrZXlpbnRfbWluPTI1IHNjZW5lY3V0PTQwIGludHJhX3Jl\n",
              "ZnJlc2g9MCByY19sb29rYWhlYWQ9NDAgcmM9Y3JmIG1idHJlZT0xIGNyZj0yMy4wIHFjb21wPTAu\n",
              "NjAgcXBtaW49MCBxcG1heD02OSBxcHN0ZXA9NCBpcF9yYXRpbz0xLjQwIGFxPTE6MS4wMACAAAAD\n",
              "MGWIhAAr//72c3wKa0czlS4Fdvdmo+XQkuX7EGD60AEakxFgIWm23G1AR8AABCgp/c40QFPgAKtQ\n",
              "OHsgjeML3eCroJHhr1kJr5iSptbo7Qog4Y3tOnilm11U6CbOOkA+gWTq6ZqCFg+6RnOM3+akChWr\n",
              "hIH90UQiPhdexply4PwF46Xs0lYvsjQ4aQupJcx6TH5yiCIn+x+y7tF/ZOnbOawT632pbDqdrGI/\n",
              "WkDAoGyWwhglNMJq5Kx5JPsChnbXEln0XepQb/cBQJJBiaqrIgUU74jtnvYrfelZcYx//fBwP8kj\n",
              "oN1TLG5M0IdRBZFf3VAphomQlquo/OI7tjqDZdZltR8R7fvhEDc9CthoV7NoYXlhiFinHrbrnnsM\n",
              "5/M0sXodgYgr3jYyCgA2b82M1PPAvKHXbnmLV9X1xiiSMKzsTnDmUsewVqejIEAvbMgEcXycvTnC\n",
              "wusGWjgmFFSKW7sDekmpnnYpFBADG0vZejemAdjcrhy7SaUE/kSMjnPqp0SEPTrcXYWj7NdKs+YE\n",
              "YQ+YoivhC54V3tnrKJTNhdNlqRRlRDvA6yln9JmAt9PDhD/wz/PBNePLrUkTxRNtjQeDz6aE9eO2\n",
              "VI1B0EYz6D/QsFlcZham2yOmy1x/0Xw3AGnqcUlZGuRfqSpE6MR61I2Tr//jAXHSfSRaLOEY5cD1\n",
              "RYoI5udjK55OesSYrx3KXeljkeEohPO32D/2C8MNa163mPuKMS1jSbRdwpCGaeYn+7MvaGVxulJ5\n",
              "18M+zdUSzgmHk69QUMbmK6Nt0qp1fACUn+otkK43nnYyBqteVm9K5We7VDPNkD3SwI3gqSOHn/Vr\n",
              "afCMbuPV66DZEZhU1Mqe63bOFWPeAktloa4tukZorowd/LezE2KLEFiVemWVwbb8ruBLa3HWAuTx\n",
              "QIQDz4SIFDjkVyJggzAkVgMlctjBFQu+hey1Gi2JtuZDUxuGanRDF30mivNvpOgDF26YPeOo2iwQ\n",
              "v4wI3BTxxEy9TzdRF1mcpNejnIlPqPrgcC2uDFwqwe6OfRIw5VkjL97gQd/u8nYFS9eQ+1E7wgWl\n",
              "tVAcfeqBIncHYYACC+AAAAMCWwAAAFRBmiJsQr/+OEANG7RN8kAG3A+Kj12k3PvfGP+GbITEZB2V\n",
              "D2J7lXg71h/R6bASc/H9lwcyHwfT7FJTOgWYv7SyKETi5nvs9/vtu+BCqdyMBEniltoAAAATAZ5B\n",
              "eR//AQ3O8K5H7v4T/1OsFwAAAE1BmkQ8IZMphCv//jhADRpHr6uXYAEhzQPwbOOagfWg09Qx0coY\n",
              "YFHWYv4Llk7tWFjtCoRYfc4fldFGxkB/S8IiAEQYiickhb94iW3RgAAAABQBnmNqR/8BDc1otYwR\n",
              "HRz7huYAMQAAAD5BmmZJ4Q8mUwU8K//+OEANLzQAA2KsAAADAQFJLhxLELv0olhQ9prnuM3Ok22A\n",
              "zWBZJCfxqTWB5ue5lGU6kQAAABIBnoVqR/8BDhKs7xil6Am+rnEAAABSQZqISeEPJlMFPCv//jhA\n",
              "DM+7IqgAhpnTvfmRSRQfcBKIisGdpAwnMVjIXsFRJ0FOiG833tW2DsKARNFp27LMVKC66Isvr7sB\n",
              "Qsosqxb4u9JI4QAAACEBnqdqR/8Bqwc8pQAQINbNWxD41j1qX+CcNY+4+fAKW/gAAABPQZqpSeEP\n",
              "JlMCF//+jLADZOzIADajyO2HMjLI6yqPKmPYuI4B8kd9y+unLglZcozJfHGNKX/yCRgqEbz27tUM\n",
              "R5xwajMeq1QnLp3gDALkcAAAAEJBms1J4Q8mUwIX//6MsANlVlO/nDCDYNxjKpYOXbMAIrFReytK\n",
              "QtgtrcZ+/ILIDarmhIXj0FCOhqA8oRFqeTZtZkEAAAAjQZ7rRRE8I/8BDqawAL6ysmkiE7td6y3F\n",
              "ypEq6Hs/EoiIsyAAAAAfAZ8KdEf/AbGS8ADmwbX3K/BsHgCWVyJlNHtcRNG9gAAAABcBnwxqR/8B\n",
              "ufbST9oP+bpbl/wuG8W44QAAAEFBmxFJqEFomUwIX//+jLACEpQK/lU6AHFdeZRfekl8gy7oQuZ2\n",
              "uBSAgNpy6eXgN/+0Bu+L8184E1UE7se/6oi3QQAAABxBny9FESwj/wCsXW+UfsVTPDQ81EPorVB2\n",
              "YfSZAAAAGQGfTnRH/wENhMQMADaRTiE2u5k65DcoLMgAAAAZAZ9Qakf/AQy+mEIuWOEiivv1o515\n",
              "MbxS8AAAADlBm1VJqEFsmUwIX//+jLACE8wzaYmrXKfjg5vybhYov6eBTwqgAM6+dCTGRVGJDv/b\n",
              "bL24954Q0q0AAAAeQZ9zRRUsI/8ArL8pbefapj3iLxws0P25SZbZeofpAAAAIQGfknRH/wEJt8WD\n",
              "hAG30Pitn0Oq0/YLnz/pUnGOR+qPgAAAABcBn5RqR/8BDY7t3hIxaQL1zNII7ualIQAAAFJBm5lJ\n",
              "qEFsmUwIX//+jLACA9Nyn4rOdXvWAG1wo7wUsLpNvvXDqfT0QYw5dwtDYHtnBgjb2894C84XOj2K\n",
              "Cr2iLCHB0/5wPLslNhui7u/4pZZJAAAAHkGft0UVLCP/AKgrUqVP60EmyfxajT/mJuCeyk7aaQAA\n",
              "ABUBn9Z0R/8BDhexigwnbY9IgMLRFDEAAAAfAZ/Yakf/AKhKCp0AHBoETHrnqX6FH+FkguqA06dD\n",
              "UgAAADlBm91JqEFsmUwIX//+jLABS+Zcgamgk7uEfqPPxHeVYABa6qyvFwlSSlUdz/VqIKqzKzJg\n",
              "+OX++8sAAAAzQZ/7RRUsI/8AbDdnFOw98AAbfPLwsfJSiRt21YGt4Agejd4y+B6mGrAxVVYmZ0jm\n",
              "eEmAAAAALQGeGnRH/wD9xYuyiACgtPJv30jzrgBrBQhg3K0sxPkhikeB/QG7P7a48k318QAAACYB\n",
              "nhxqR/8A/kBEQELMeMvKavBiGWXbPuATPCG5qtXv0yOMiwf2gQAAAFBBmgFJqEFsmUwIX//+jLAB\n",
              "QuZcx8VnLkjoArgcfHN/4DFbLyxYDzrYOJQE1QPs4+jZS4k0YanlgDlkD0JNnr6sZei1ZSikLKjI\n",
              "3Lodicv5uAAAACJBnj9FFSwj/wBsN51yssUmNzbM7XjkUbqvbzVHhmhcma4QAAAAHwGeXnRH/wCj\n",
              "n2Fx9XU7oZQCb3ACUo7DvNxybaImcJkAAAAnAZ5Aakf/AKOofh3a5RsYPzOPeEAC8rAc5XBeWdoL\n",
              "zmVc/fxl8iDgAAAAP0GaRUmoQWyZTAhf//6MsADLcirr9WBFD6h3h2FCQJBkyZdke6m4Zaq0Zba3\n",
              "0sGfx3moBjbWymXD+68mX1KdwQAAACxBnmNFFSwj/wBsN4cxNE4zscyUgAjtIhrDkfL2IUOzl01S\n",
              "8McMvtFijnYBMAAAACUBnoJ0R/8AZz4tq7WjrtIAIv0tjLJWsy4kTxlN+vF+UQwkGFDBAAAAJQGe\n",
              "hGpH/wBnEp/WVbQMApJK1Z4k+Wj+wel1cg2CLidvT77iwXEAAABNQZqJSahBbJlMCF///oywAMtw\n",
              "nRT79VonvawT4GX2urHF7M3MRd3at4+aoJbsLtSGCAx4kY1wVbCfnZUK3NJyJOJt8+I+RO6WW0ZV\n",
              "W4EAAAAoQZ6nRRUsI/8AbDeHMAM+c9WWytFA2AFvFwJT7gsvnuWZngDC5S/iKQAAACIBnsZ0R/8A\n",
              "ZvAVO7e9NuYgAEy0af/BcvetZubMbfwrW+6AAAAAIQGeyGpH/wBkkqFzkj37ezp6GqFgAmA4yHEF\n",
              "4Ct7j2074AAAAEFBms1JqEFsmUwIX//+jLAAxnCdP6BARTaEKDIvFOAC/GFA6Dd8oukYfdxVNKJ3\n",
              "m9Xua7+lnLzVq4QJel44F2t5gQAAAC1BnutFFSwj/wBsN4cIHXgsHwv6WCBXiK1maAYAj3Uo2QBE\n",
              "5mP5q9498UnwO4QAAAAnAZ8KdEf/AGRwzth8f9bAACdlTfeS/z6QIviHLGEcnuevnB+sBmHwAAAA\n",
              "KgGfDGpH/wA+Jdrafeov7SACwQahPm2sNju0komSdGBOzdfNvHQCWuOG6QAAAD5BmxFJqEFsmUwI\n",
              "X//+jLAAerhOfiB1CPoAfgVWw0wmxHuju/YiHAOs8d0du9uDRvKRBx04/455hzN59PXVlwAAACxB\n",
              "ny9FFSwj/wBsN4VYVFuTcIhaRf1Jb7SgBIFdk5fDRcxJUlX1aB3xylYZMQAAACkBn050R/8APhdd\n",
              "pFT5ngEEUNdfQE4+Q19mV8N+nm1dk7bQXwCV0X+ALAAAACUBn1BqR/8APMXbdUkATRzdFULEYN6U\n",
              "+w2n0OG6s0I23lRDqKK+AAAARUGbVUmoQWyZTAhf//6MsAB3/XOhiMmcn2ks7/OXDi2sYT5uOjLM\n",
              "cEGoV4nDwMkUgSeMC8G1clmpEJnQBoa0oyC5TC+wYQAAADRBn3NFFSwj/wBsN4VHsronE0qcPoHb\n",
              "AAfh4x/5wB5H+TfAuY3yi8P3IbfU/AY0Kb6V4TcIAAAAKAGfknRH/wA83t0yY4BRxQi+wjaAaPKX\n",
              "iq8fHi/+CnU+6XVEOMoABcwAAAAhAZ+Uakf/ADy53vnKMF5wuFNAB8Bl7wFHj/yiYmdXguVBAAAA\n",
              "SUGbmUmoQWyZTAhf//6MsABMDf36xOsMPqigJADcyHEa1cHGD4Sd6w84jFVON+jGSU8C1nHYmjmq\n",
              "zl8r5p2zw/DgTcy81NCa44AAAAAuQZ+3RRUsI/8AbDeEQb0XYPjGgb9rxjKBS6ACrn92c2glRH/l\n",
              "5E9N4KjyrAhAEwAAAB0Bn9Z0R/8AJrCUfVXh4IOlZBTIsg2ABSDvxan6QQAAAB0Bn9hqR/8AJsIq\n",
              "mlXQ7FBxeIpIAODRxyc3ZIyvQAAAADtBm91JqEFsmUwIX//+jLAATHpvPi33E/FLyAmwebXAC2cV\n",
              "6V7TY0zMgBJbHGn3dFV813jnBqh8+B7zjwAAACpBn/tFFSwj/wBsN4RBAohiT57tR11Tx6ZIAD+Z\n",
              "g6MTxI+VAKf2azHJJMAAAAAXAZ4adEf/ACawoyCGKY5BtvxCbf1bwEEAAAAlAZ4cakf/ACXCPttf\n",
              "DPmfAMCG3zABMt77mpyuhwxBj38ON3ivgQAAAExBmgBJqEFsmUwIX//+jLAASiOfH7icbrYAEO2b\n",
              "J9Vf6F1MI7z+lsgwdfxFubzBLz/GdDlnu0K9rWqIQEgTl2Our5unVgB0VQsb5C2AAAAAJ0GePkUV\n",
              "LH8ArRBOwxTlyuijjYwAC3Qea640mdAxkxXvCQtzzvuGEAAAABwBnl9qR/8AJagI5j6ADpF7yEc0\n",
              "mcJRMohI3I9xAAAAU0GaREmoQWyZTAhf//6MsABKem5SPIIXl1HisAgeKr6036CR4CWOYPtxlbGo\n",
              "tMsamnCzM7GQShLHyPujT0fan1ZyySAdIm7y1HNXJt74jT74N8VgAAAALUGeYkUVLCP/AGw3hDdC\n",
              "e81UbbPZAC2AXIxC65+ukB4IDcBZDD4py8l7lvimEQAAACABnoF0R/8AJZjpl/ywMAQkQpZwAHQA\n",
              "PJXc+6VOS33bcAAAAB4BnoNqR/8AJL8nqAzmmuhzZK0jK6AAhLCBpwtk8gcAAABdQZqISahBbJlM\n",
              "CF///oywAEp6blPxnhSATDFV+qmC6U4x8P5FA8B+0cx0jgxiladAyQTsCtlCyeYYYDzTiy+k115M\n",
              "hac8OKHw0zR3quaZcQIq8nBM0FDgmZRpk93/AAAAI0GepkUVLCP/AGw3g44VeYcNtea1g1CgkgBB\n",
              "xL2na2Zn54ZBAAAAGgGexXRH/wAXRApVdPyAAjACiu7vuS2gtRoZAAAAGQGex2pH/wAX33kiSzLI\n",
              "AB+eU2llted0a5QAAABQQZrMSahBbJlMCF///oywAC7YzIAQjxer4nN8f1GxfchmhXsYQZOK+bEf\n",
              "Y3FsBjZYUrEQ30bgpFC4P9H2lk0cEdzYSjBkJoMNyojSt5pMiUYAAAAoQZ7qRRUsI/8AbDeDjbH1\n",
              "mD6nfX4Zm+SoEeQAIQXKY3tWH3LT+Ti/CQAAAA0Bnwl0R/8AF0QNIdSAAAAAIQGfC2pH/wAXPwxk\n",
              "1IAQd24hStntuCuZ4lEbFv0PMhXnuAAAAExBmxBJqEFsmUwIX//+jLAALb8v2B52SY3NKpPwBxOb\n",
              "zlBamELXbq0QCn9XXtxa45dBaTxSjkCrfvrVnsliko5ZETuGsev5cfSmrRI5AAAAHkGfLkUVLCP/\n",
              "AGw3g44VzMYGE/uAqLWobnVnewT8yQAAABQBn010R/8AFrMnx8WcZ+J/TCwSgQAAAAwBn09qR/8A\n",
              "DtwBb3AAAABbQZtTSahBbJlMCFf//jhAALUkQcNwwZlMuYFgSgDS0JbaNUWn7GhTWpH/jOWHNuTU\n",
              "VzhbL+s5ilWv36W2aHnDcxtP78xsGzcvbPectd4qppNGZw8Dy+EW+PIRWgAAABRBn3FFFSx/AK0Q\n",
              "TUoQ3wjEifxh7QAAAAoBn5JqR/8AAF3AAAAATkGblUmoQWyZTBRML//+jLAALbyyqqtsDuq4OUA7\n",
              "AAVzdvuMKHh+BNRbDtxgjVclHJ+3R6aWKJGbWaClYT+0mE54q5ZhJPC9IoUdjZCSoAAAABkBn7Rq\n",
              "R/8ArRBMX50wANLibcWflMOU9o4lAAAAYkGbuUnhClJlMCFf/jhAALH6wptpcMh6UEgCK2Mg6Qw/\n",
              "2GkW2Q/kMVX3oU4YJaR5t1v5X4mpzWZNFpZUoqz3eSTuqEvKCnFG7Pc+5TkBdGDiO/Oys5ixQSHu\n",
              "gnE/HavuItFYAAAAIUGf10U0TCP/AGwvnhrNTIDthG0nlgBJRFvaNZl4k2Y+cQAAABkBn/Z0R/8A\n",
              "F0nDvbsWAEG0o5XeHrvTAxgRAAAAFgGf+GpH/wAXR+Mks8OKABCjGxfq0MAAAABRQZv8SahBaJlM\n",
              "CFf//jhAAG6FrokN21rfYgByxgthNI/WyashmkbPJPpKCti5/m5XoR1piCN4BoC1AD+7ByQCvSIh\n",
              "GvmGs1pRekuIfCF1mTFNAAAAE0GeGkURLH8ArRBMZ9RqvxIop+AAAAAMAZ47akf/AA7WcaehAAAA\n",
              "J0GaPUmoQWyZTAhf//6MsAAb36Q9sAVv15qP9WnCEWYKEnEheRFdgQAAAE5BmkFJ4QpSZTAhf/6M\n",
              "sAAccTuYAbrgz4VI+5af0F5MxpoiozSpyxlP/owhQfqt88zsObwJs/IMMtvFF4MmXJ8pICMxwcyo\n",
              "urZjN5eS+2AAAAAbQZ5/RTRMI/8AbC+d4iSAHLBGAAdH29wA1gyAAAAACgGennRH/wAAXcEAAAAM\n",
              "AZ6Aakf/AA6EAXAQAAAARkGahUmoQWiZTAhf//6MsAAcgISVJ72jtbGokAOJBYhHFTPAWmhFxbih\n",
              "51hj06r3dm/k2w3vucOiuvix4c1G8OOYy+9qpc0AAAAeQZ6jRREsI/8AbDeDjt4AMgB+KgAEIezG\n",
              "qMEKXAeaAAAADQGewnRH/wAWeOZOdIEAAAAOAZ7Eakf/ABZ45j3bgIEAAAA5QZrJSahBbJlMCF//\n",
              "/oywABvDJXGJkmQBxYXWogCuOd7RoJTXENxnDMZHysiOU+3T6IfjM+fhCj+NAAAAEkGe50UVLCP/\n",
              "AGw3gy8XiDqz0wAAAAwBnwZ0R/8ADYIcuPgAAAAKAZ8Iakf/AABdwAAAABxBmw1JqEFsmUwIX//+\n",
              "jLAAG8e3RAHEGwPnF1y9AAAAEUGfK0UVLCP/AGw3gs49UoiAAAAACgGfSnRH/wAAXcAAAAAKAZ9M\n",
              "akf/AABdwQAAACdBm1FJqEFsmUwIX//+jLAAG8CuUEz0AcOv/7p27aDatfR0nduRFdkAAAASQZ9v\n",
              "RRUsI/8AbDeDLxeIOrPTAAAACgGfjnRH/wAAXcAAAAAKAZ+Qakf/AABdwAAAABNBm5VJqEFsmUwI\n",
              "X//+jLAAALiBAAAAEUGfs0UVLCP/AGw3gs49UoiAAAAACgGf0nRH/wAAXcAAAAAKAZ/Uakf/AABd\n",
              "wQAAABdBm9lJqEFsmUwIX//+jLAAG8CuT7IuXgAAABJBn/dFFSwj/wBsN4MvF4g6s9MAAAAKAZ4W\n",
              "dEf/AABdwQAAAAoBnhhqR/8AAF3AAAAAE0GaHUmoQWyZTAhf//6MsAAAuIEAAAARQZ47RRUsI/8A\n",
              "bDeCzj1SiIAAAAAKAZ5adEf/AABdwQAAAAoBnlxqR/8AAF3BAAAAE0GaQUmoQWyZTAhf//6MsAAA\n",
              "uIAAAAARQZ5/RRUsI/8AbDeCzj1SiIAAAAAKAZ6edEf/AABdwQAAAAoBnoBqR/8AAF3AAAAAEkGa\n",
              "hUmoQWyZTAhX//44QAACywAAABFBnqNFFSwj/wBsN4LOPVKIgAAAAAoBnsJ0R/8AAF3BAAAACgGe\n",
              "xGpH/wAAXcEAAAASQZrJSahBbJlMCFf//jhAAALLAAAAEUGe50UVLCP/AGw3gs49UoiBAAAACgGf\n",
              "BnRH/wAAXcAAAAAKAZ8Iakf/AABdwAAAABJBmw1JqEFsmUwIR//94QAACtkAAAARQZ8rRRUsI/8A\n",
              "bDeCzj1SiIAAAAAKAZ9KdEf/AABdwAAAAAoBn0xqR/8AAF3BAAAAEUGbTkmoQWyZTAj//IQAACph\n",
              "AAAJzm1vb3YAAABsbXZoZAAAAAAAAAAAAAAAAAAAA+gAAAl/AAEAAAEAAAAAAAAAAAAAAAABAAAA\n",
              "AAAAAAAAAAAAAAAAAQAAAAAAAAAAAAAAAAAAQAAAAAAAAAAAAAAAAAAAAAAAAAAAAAAAAAAAAAAA\n",
              "AAIAAAj4dHJhawAAAFx0a2hkAAAAAwAAAAAAAAAAAAAAAQAAAAAAAAl/AAAAAAAAAAAAAAAAAAAA\n",
              "AAABAAAAAAAAAAAAAAAAAAAAAQAAAAAAAAAAAAAAAAAAQAAAAAEsAAABLAAAAAAAJGVkdHMAAAAc\n",
              "ZWxzdAAAAAAAAAABAAAJfwAAAiAAAQAAAAAIcG1kaWEAAAAgbWRoZAAAAAAAAAAAAAAAAAAAPoAA\n",
              "AJfwVcQAAAAAAC1oZGxyAAAAAAAAAAB2aWRlAAAAAAAAAAAAAAAAVmlkZW9IYW5kbGVyAAAACBtt\n",
              "aW5mAAAAFHZtaGQAAAABAAAAAAAAAAAAAAAkZGluZgAAABxkcmVmAAAAAAAAAAEAAAAMdXJsIAAA\n",
              "AAEAAAfbc3RibAAAALdzdHNkAAAAAAAAAAEAAACnYXZjMQAAAAAAAAABAAAAAAAAAAAAAAAAAAAA\n",
              "AAEsASwASAAAAEgAAAAAAAAAAQAAAAAAAAAAAAAAAAAAAAAAAAAAAAAAAAAAAAAAAAAAABj//wAA\n",
              "ADVhdmNDAWQAHv/hABhnZAAerNlBMJ+7hAAAAwBEAAAfQDxYtlgBAAZo6+PLIsD9+PgAAAAAHHV1\n",
              "aWRraEDyXyRPxbo5pRvPAyPzAAAAAAAAABhzdHRzAAAAAAAAAAEAAACPAAABEAAAABRzdHNzAAAA\n",
              "AAAAAAEAAAABAAAEcGN0dHMAAAAAAAAAjAAAAAEAAAIgAAAAAQAAAzAAAAABAAABEAAAAAEAAAMw\n",
              "AAAAAQAAARAAAAABAAADMAAAAAEAAAEQAAAAAQAAAzAAAAABAAABEAAAAAEAAAIgAAAAAQAABVAA\n",
              "AAABAAACIAAAAAEAAAAAAAAAAQAAARAAAAABAAAFUAAAAAEAAAIgAAAAAQAAAAAAAAABAAABEAAA\n",
              "AAEAAAVQAAAAAQAAAiAAAAABAAAAAAAAAAEAAAEQAAAAAQAABVAAAAABAAACIAAAAAEAAAAAAAAA\n",
              "AQAAARAAAAABAAAFUAAAAAEAAAIgAAAAAQAAAAAAAAABAAABEAAAAAEAAAVQAAAAAQAAAiAAAAAB\n",
              "AAAAAAAAAAEAAAEQAAAAAQAABVAAAAABAAACIAAAAAEAAAAAAAAAAQAAARAAAAABAAAFUAAAAAEA\n",
              "AAIgAAAAAQAAAAAAAAABAAABEAAAAAEAAAVQAAAAAQAAAiAAAAABAAAAAAAAAAEAAAEQAAAAAQAA\n",
              "BVAAAAABAAACIAAAAAEAAAAAAAAAAQAAARAAAAABAAAFUAAAAAEAAAIgAAAAAQAAAAAAAAABAAAB\n",
              "EAAAAAEAAAVQAAAAAQAAAiAAAAABAAAAAAAAAAEAAAEQAAAAAQAABVAAAAABAAACIAAAAAEAAAAA\n",
              "AAAAAQAAARAAAAABAAAEQAAAAAIAAAEQAAAAAQAABVAAAAABAAACIAAAAAEAAAAAAAAAAQAAARAA\n",
              "AAABAAAFUAAAAAEAAAIgAAAAAQAAAAAAAAABAAABEAAAAAEAAAVQAAAAAQAAAiAAAAABAAAAAAAA\n",
              "AAEAAAEQAAAAAQAABVAAAAABAAACIAAAAAEAAAAAAAAAAQAAARAAAAABAAAEQAAAAAIAAAEQAAAA\n",
              "AQAAAzAAAAABAAABEAAAAAEAAAVQAAAAAQAAAiAAAAABAAAAAAAAAAEAAAEQAAAAAQAABEAAAAAC\n",
              "AAABEAAAAAEAAAIgAAAAAQAABVAAAAABAAACIAAAAAEAAAAAAAAAAQAAARAAAAABAAAFUAAAAAEA\n",
              "AAIgAAAAAQAAAAAAAAABAAABEAAAAAEAAAVQAAAAAQAAAiAAAAABAAAAAAAAAAEAAAEQAAAAAQAA\n",
              "BVAAAAABAAACIAAAAAEAAAAAAAAAAQAAARAAAAABAAAFUAAAAAEAAAIgAAAAAQAAAAAAAAABAAAB\n",
              "EAAAAAEAAAVQAAAAAQAAAiAAAAABAAAAAAAAAAEAAAEQAAAAAQAABVAAAAABAAACIAAAAAEAAAAA\n",
              "AAAAAQAAARAAAAABAAAFUAAAAAEAAAIgAAAAAQAAAAAAAAABAAABEAAAAAEAAAVQAAAAAQAAAiAA\n",
              "AAABAAAAAAAAAAEAAAEQAAAAAQAABVAAAAABAAACIAAAAAEAAAAAAAAAAQAAARAAAAABAAAFUAAA\n",
              "AAEAAAIgAAAAAQAAAAAAAAABAAABEAAAAAEAAAVQAAAAAQAAAiAAAAABAAAAAAAAAAEAAAEQAAAA\n",
              "AQAAAiAAAAAcc3RzYwAAAAAAAAABAAAAAQAAAI8AAAABAAACUHN0c3oAAAAAAAAAAAAAAI8AAAXm\n",
              "AAAAWAAAABcAAABRAAAAGAAAAEIAAAAWAAAAVgAAACUAAABTAAAARgAAACcAAAAjAAAAGwAAAEUA\n",
              "AAAgAAAAHQAAAB0AAAA9AAAAIgAAACUAAAAbAAAAVgAAACIAAAAZAAAAIwAAAD0AAAA3AAAAMQAA\n",
              "ACoAAABUAAAAJgAAACMAAAArAAAAQwAAADAAAAApAAAAKQAAAFEAAAAsAAAAJgAAACUAAABFAAAA\n",
              "MQAAACsAAAAuAAAAQgAAADAAAAAtAAAAKQAAAEkAAAA4AAAALAAAACUAAABNAAAAMgAAACEAAAAh\n",
              "AAAAPwAAAC4AAAAbAAAAKQAAAFAAAAArAAAAIAAAAFcAAAAxAAAAJAAAACIAAABhAAAAJwAAAB4A\n",
              "AAAdAAAAVAAAACwAAAARAAAAJQAAAFAAAAAiAAAAGAAAABAAAABfAAAAGAAAAA4AAABSAAAAHQAA\n",
              "AGYAAAAlAAAAHQAAABoAAABVAAAAFwAAABAAAAArAAAAUgAAAB8AAAAOAAAAEAAAAEoAAAAiAAAA\n",
              "EQAAABIAAAA9AAAAFgAAABAAAAAOAAAAIAAAABUAAAAOAAAADgAAACsAAAAWAAAADgAAAA4AAAAX\n",
              "AAAAFQAAAA4AAAAOAAAAGwAAABYAAAAOAAAADgAAABcAAAAVAAAADgAAAA4AAAAXAAAAFQAAAA4A\n",
              "AAAOAAAAFgAAABUAAAAOAAAADgAAABYAAAAVAAAADgAAAA4AAAAWAAAAFQAAAA4AAAAOAAAAFQAA\n",
              "ABRzdGNvAAAAAAAAAAEAAAAwAAAAYnVkdGEAAABabWV0YQAAAAAAAAAhaGRscgAAAAAAAAAAbWRp\n",
              "cmFwcGwAAAAAAAAAAAAAAAAtaWxzdAAAACWpdG9vAAAAHWRhdGEAAAABAAAAAExhdmY1OC43Ni4x\n",
              "MDA=\n",
              "\">\n",
              "  Your browser does not support the video tag.\n",
              "</video>"
            ]
          },
          "metadata": {},
          "execution_count": 85
        }
      ]
    },
    {
      "cell_type": "markdown",
      "source": [
        "## **Conclusion**"
      ],
      "metadata": {
        "id": "RUGv2zMNzaNl"
      }
    },
    {
      "cell_type": "markdown",
      "source": [
        "The Lunar Lander project demonstrates the application of reinforcement learning techniques to solve the LunarLander-v2 environment. By training an agent using the Tianshou library, the project aims to achieve optimal performance in landing the lunar module safely on the moon's surface. The utilities provided offer functionalities for logging training data, visualizing learning curves, and recording agent performance videos, facilitating comprehensive analysis and evaluation of the trained agent's behavior."
      ],
      "metadata": {
        "id": "mFaZuXj_zcxc"
      }
    }
  ]
}